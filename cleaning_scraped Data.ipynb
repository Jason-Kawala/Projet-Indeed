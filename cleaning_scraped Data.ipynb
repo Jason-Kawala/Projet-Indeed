{
 "cells": [
  {
   "cell_type": "code",
   "execution_count": 1,
   "metadata": {},
   "outputs": [],
   "source": [
    "import pandas as pd\n",
    "import numpy as np\n",
    "import datetime\n",
    "import warnings\n",
    "pd.set_option('display.max_rows', 1000)\n",
    "pd.set_option('display.max_columns', 500)\n",
    "pd.set_option('display.width', 1000)\n",
    "warnings.simplefilter(action='ignore')"
   ]
  },
  {
   "cell_type": "markdown",
   "metadata": {},
   "source": [
    "### 1. Import the scraped data from indeed website and put them all in one dataFrame"
   ]
  },
  {
   "cell_type": "code",
   "execution_count": 2,
   "metadata": {},
   "outputs": [
    {
     "data": {
      "text/plain": [
       "(4259, 9)"
      ]
     },
     "execution_count": 2,
     "metadata": {},
     "output_type": "execute_result"
    }
   ],
   "source": [
    "data1= pd.read_csv(\"data_full.csv\",na_values = 'None')\n",
    "data1.shape"
   ]
  },
  {
   "cell_type": "code",
   "execution_count": 3,
   "metadata": {},
   "outputs": [
    {
     "data": {
      "text/plain": [
       "(1265, 9)"
      ]
     },
     "execution_count": 3,
     "metadata": {},
     "output_type": "execute_result"
    }
   ],
   "source": [
    "data2=pd.read_csv('devops_withoutDouble.csv',na_values = 'None')\n",
    "data2.shape"
   ]
  },
  {
   "cell_type": "code",
   "execution_count": 4,
   "metadata": {},
   "outputs": [
    {
     "data": {
      "text/plain": [
       "(3732, 9)"
      ]
     },
     "execution_count": 4,
     "metadata": {},
     "output_type": "execute_result"
    }
   ],
   "source": [
    "data3=pd.read_csv('software+engineer.csv',na_values = 'None')\n",
    "data3.shape"
   ]
  },
  {
   "cell_type": "code",
   "execution_count": 5,
   "metadata": {},
   "outputs": [
    {
     "data": {
      "text/plain": [
       "(1178, 9)"
      ]
     },
     "execution_count": 5,
     "metadata": {},
     "output_type": "execute_result"
    }
   ],
   "source": [
    "data4=pd.read_csv('more_data.csv',na_values = 'None')\n",
    "data4.shape"
   ]
  },
  {
   "cell_type": "code",
   "execution_count": 6,
   "metadata": {},
   "outputs": [],
   "source": [
    "df= pd.concat([data1, data2, data3,data4])"
   ]
  },
  {
   "cell_type": "code",
   "execution_count": 8,
   "metadata": {},
   "outputs": [
    {
     "data": {
      "text/plain": [
       "True"
      ]
     },
     "execution_count": 8,
     "metadata": {},
     "output_type": "execute_result"
    }
   ],
   "source": [
    "df.duplicated().any()"
   ]
  },
  {
   "cell_type": "code",
   "execution_count": 9,
   "metadata": {},
   "outputs": [],
   "source": [
    "# delete duplicated rows\n",
    "df= df[~df.duplicated(keep='first')]"
   ]
  },
  {
   "cell_type": "code",
   "execution_count": 10,
   "metadata": {},
   "outputs": [
    {
     "data": {
      "text/plain": [
       "(6889, 9)"
      ]
     },
     "execution_count": 10,
     "metadata": {},
     "output_type": "execute_result"
    }
   ],
   "source": [
    "df.shape"
   ]
  },
  {
   "cell_type": "markdown",
   "metadata": {},
   "source": [
    "### 2.  SALARY"
   ]
  },
  {
   "cell_type": "markdown",
   "metadata": {},
   "source": [
    "###### Get the rows which their salary value not NAN"
   ]
  },
  {
   "cell_type": "code",
   "execution_count": 11,
   "metadata": {},
   "outputs": [
    {
     "data": {
      "text/plain": [
       "(786, 9)"
      ]
     },
     "execution_count": 11,
     "metadata": {},
     "output_type": "execute_result"
    }
   ],
   "source": [
    "# only with salary data present\n",
    "df_salary = df.dropna(subset=['Salary'])\n",
    "df_salary.shape"
   ]
  },
  {
   "cell_type": "code",
   "execution_count": 12,
   "metadata": {},
   "outputs": [
    {
     "data": {
      "text/plain": [
       "(6103, 9)"
      ]
     },
     "execution_count": 12,
     "metadata": {},
     "output_type": "execute_result"
    }
   ],
   "source": [
    "# rest of the dataframe without salary info\n",
    "df = df[~df.Salary.isin(df_salary.Salary)]\n",
    "df.shape"
   ]
  },
  {
   "cell_type": "markdown",
   "metadata": {},
   "source": [
    "##### Remove non numeric chars from salary"
   ]
  },
  {
   "cell_type": "code",
   "execution_count": 13,
   "metadata": {},
   "outputs": [
    {
     "data": {
      "text/html": [
       "<div>\n",
       "<style scoped>\n",
       "    .dataframe tbody tr th:only-of-type {\n",
       "        vertical-align: middle;\n",
       "    }\n",
       "\n",
       "    .dataframe tbody tr th {\n",
       "        vertical-align: top;\n",
       "    }\n",
       "\n",
       "    .dataframe thead th {\n",
       "        text-align: right;\n",
       "    }\n",
       "</style>\n",
       "<table border=\"1\" class=\"dataframe\">\n",
       "  <thead>\n",
       "    <tr style=\"text-align: right;\">\n",
       "      <th></th>\n",
       "      <th>Title</th>\n",
       "      <th>Location</th>\n",
       "      <th>Date</th>\n",
       "      <th>Company</th>\n",
       "      <th>Rating</th>\n",
       "      <th>Count</th>\n",
       "      <th>Salary</th>\n",
       "      <th>Contract</th>\n",
       "      <th>Description</th>\n",
       "    </tr>\n",
       "  </thead>\n",
       "  <tbody>\n",
       "    <tr>\n",
       "      <th>2</th>\n",
       "      <td>Business Developer – Expert sécurité</td>\n",
       "      <td>Arras (62)</td>\n",
       "      <td>il y a 18 jours</td>\n",
       "      <td>Uptoo</td>\n",
       "      <td>4,5</td>\n",
       "      <td>32 avis</td>\n",
       "      <td>27000  - 55000  par an</td>\n",
       "      <td>27 000 € - 55 000 € par an</td>\n",
       "      <td>À PROPOS :Bienvenue dans notre PME spécialiste...</td>\n",
       "    </tr>\n",
       "    <tr>\n",
       "      <th>4</th>\n",
       "      <td>Manager Big Data H/F</td>\n",
       "      <td>Paris (75)</td>\n",
       "      <td>Il y a plus de 30 jours</td>\n",
       "      <td>Elitegroup Recruitment</td>\n",
       "      <td>NaN</td>\n",
       "      <td>NaN</td>\n",
       "      <td>55000  - 75000  par an</td>\n",
       "      <td>Temps plein, CDI</td>\n",
       "      <td>Présentation de l'entreprise:Notre client est ...</td>\n",
       "    </tr>\n",
       "    <tr>\n",
       "      <th>7</th>\n",
       "      <td>Consultant(e) Business Intelligence (Power Bi)...</td>\n",
       "      <td>Lille (59)</td>\n",
       "      <td>il y a 11 jours</td>\n",
       "      <td>sumit</td>\n",
       "      <td>NaN</td>\n",
       "      <td>NaN</td>\n",
       "      <td>30000  - 40000  par an</td>\n",
       "      <td>Temps plein, CDI</td>\n",
       "      <td>Chez sumit, nous ne voyons pas nos consultants...</td>\n",
       "    </tr>\n",
       "    <tr>\n",
       "      <th>9</th>\n",
       "      <td>Consultant business intelligence : BI / BO (F/H)</td>\n",
       "      <td>Paris (75)</td>\n",
       "      <td>Il y a plus de 30 jours</td>\n",
       "      <td>Elitech Conseil</td>\n",
       "      <td>NaN</td>\n",
       "      <td>NaN</td>\n",
       "      <td>2900  - 3400  par mois</td>\n",
       "      <td>Temps plein, CDI</td>\n",
       "      <td>Elitech recrute en urgence !Un Consultant busi...</td>\n",
       "    </tr>\n",
       "    <tr>\n",
       "      <th>10</th>\n",
       "      <td>Business Developer Junior H/F</td>\n",
       "      <td>Toulouse (31)</td>\n",
       "      <td>il y a 3 jours</td>\n",
       "      <td>Synapse Développement</td>\n",
       "      <td>NaN</td>\n",
       "      <td>NaN</td>\n",
       "      <td>30000  - 35000  par an</td>\n",
       "      <td>Temps plein, CDI</td>\n",
       "      <td>Devenez Synapsien !Et si vous rejoigniez une é...</td>\n",
       "    </tr>\n",
       "  </tbody>\n",
       "</table>\n",
       "</div>"
      ],
      "text/plain": [
       "                                                Title       Location                     Date                 Company Rating    Count                  Salary                    Contract                                        Description\n",
       "2                Business Developer – Expert sécurité     Arras (62)          il y a 18 jours                   Uptoo    4,5  32 avis  27000  - 55000  par an  27 000 € - 55 000 € par an  À PROPOS :Bienvenue dans notre PME spécialiste...\n",
       "4                                Manager Big Data H/F     Paris (75)  Il y a plus de 30 jours  Elitegroup Recruitment    NaN      NaN  55000  - 75000  par an            Temps plein, CDI  Présentation de l'entreprise:Notre client est ...\n",
       "7   Consultant(e) Business Intelligence (Power Bi)...     Lille (59)          il y a 11 jours                   sumit    NaN      NaN  30000  - 40000  par an            Temps plein, CDI  Chez sumit, nous ne voyons pas nos consultants...\n",
       "9    Consultant business intelligence : BI / BO (F/H)     Paris (75)  Il y a plus de 30 jours         Elitech Conseil    NaN      NaN  2900  - 3400  par mois            Temps plein, CDI  Elitech recrute en urgence !Un Consultant busi...\n",
       "10                      Business Developer Junior H/F  Toulouse (31)           il y a 3 jours   Synapse Développement    NaN      NaN  30000  - 35000  par an            Temps plein, CDI  Devenez Synapsien !Et si vous rejoigniez une é..."
      ]
     },
     "execution_count": 13,
     "metadata": {},
     "output_type": "execute_result"
    }
   ],
   "source": [
    "df_salary[\"Salary\"] = df_salary[\"Salary\"].str.replace(\"\\n\", \"\")\n",
    "df_salary[\"Salary\"] = df_salary[\"Salary\"].str.replace(\",\", \"\")\n",
    "df_salary[\"Salary\"] = df_salary[\"Salary\"].str.replace(\"€\", \"\")\n",
    "df_salary[\"Salary\"] = df_salary[\"Salary\"].str.replace(\"\\xa0\", \"\")\n",
    "df_salary.head(5)"
   ]
  },
  {
   "cell_type": "markdown",
   "metadata": {},
   "source": [
    "###### Extract the deffirent types of salary "
   ]
  },
  {
   "cell_type": "code",
   "execution_count": 14,
   "metadata": {},
   "outputs": [],
   "source": [
    "year_salaries = df_salary[df_salary[\"Salary\"].str.contains(\"an\")]\n",
    "month_salaries = df_salary[df_salary[\"Salary\"].str.contains(\"mois\")]\n",
    "day_salaries = df_salary[df_salary[\"Salary\"].str.contains(\"jour\")]\n",
    "hour_salaries = df_salary[df_salary[\"Salary\"].str.contains(\"heure\")]"
   ]
  },
  {
   "cell_type": "code",
   "execution_count": 15,
   "metadata": {},
   "outputs": [
    {
     "name": "stdout",
     "output_type": "stream",
     "text": [
      "(626, 9)\n",
      "(97, 9)\n",
      "(49, 9)\n",
      "(14, 9)\n"
     ]
    }
   ],
   "source": [
    "print(year_salaries.shape)\n",
    "print(month_salaries.shape)\n",
    "print(day_salaries.shape)\n",
    "print(hour_salaries.shape)"
   ]
  },
  {
   "cell_type": "code",
   "execution_count": 16,
   "metadata": {},
   "outputs": [],
   "source": [
    "# removing string values(\"par an\", \" par mois\", etc. from salary dfs)\n",
    "\n",
    "year_salaries[\"Salary\"] = year_salaries[\"Salary\"].str.replace(\" par an\", \"\")\n",
    "month_salaries[\"Salary\"] = month_salaries[\"Salary\"].str.replace(\" par mois\", \"\")\n",
    "day_salaries[\"Salary\"] = day_salaries[\"Salary\"].str.replace(\" par jour\", \"\")\n",
    "hour_salaries[\"Salary\"] = hour_salaries[\"Salary\"].str.replace(\" par heure\", \"\")"
   ]
  },
  {
   "cell_type": "markdown",
   "metadata": {},
   "source": [
    "###### Functions to get the average salary (avg_sal), the minimum declared value of salary (min_sal), and the maximum declared value of salary (max_sal)"
   ]
  },
  {
   "cell_type": "code",
   "execution_count": 17,
   "metadata": {},
   "outputs": [],
   "source": [
    "def avg_sal(sal):\n",
    "    try:\n",
    "        splt = sal.split(' - ', 1)\n",
    "        first = float(splt[0])\n",
    "        second = float(splt[1])\n",
    "        return (first + second)/2\n",
    "    except:\n",
    "        return float(sal)"
   ]
  },
  {
   "cell_type": "code",
   "execution_count": 18,
   "metadata": {},
   "outputs": [],
   "source": [
    "def min_sal(sal):\n",
    "    try:\n",
    "        splt = sal.split(' - ', 1)\n",
    "        first = float(splt[0])\n",
    "        return first\n",
    "    except:\n",
    "        return float(sal)"
   ]
  },
  {
   "cell_type": "code",
   "execution_count": 19,
   "metadata": {},
   "outputs": [],
   "source": [
    "def max_sal(sal):\n",
    "    try:\n",
    "        splt = sal.split(' - ', 1)\n",
    "        second = float(splt[1])\n",
    "        return second\n",
    "    except:\n",
    "        return float(sal)"
   ]
  },
  {
   "cell_type": "markdown",
   "metadata": {},
   "source": [
    "###### Apply the defined functions on the different types of salary "
   ]
  },
  {
   "cell_type": "code",
   "execution_count": 20,
   "metadata": {},
   "outputs": [],
   "source": [
    "# min salary\n",
    "\n",
    "year_salaries[\"min_salary\"] = year_salaries[\"Salary\"].apply(min_sal)\n",
    "month_salaries[\"min_salary\"] = month_salaries[\"Salary\"].apply(min_sal)\n",
    "day_salaries[\"min_salary\"] = day_salaries[\"Salary\"].apply(min_sal)\n",
    "hour_salaries[\"min_salary\"] = hour_salaries[\"Salary\"].apply(min_sal)"
   ]
  },
  {
   "cell_type": "code",
   "execution_count": 21,
   "metadata": {},
   "outputs": [],
   "source": [
    "# max salary\n",
    "\n",
    "year_salaries[\"max_salary\"] = year_salaries[\"Salary\"].apply(max_sal)\n",
    "month_salaries[\"max_salary\"] = month_salaries[\"Salary\"].apply(max_sal)\n",
    "day_salaries[\"max_salary\"] = day_salaries[\"Salary\"].apply(max_sal)\n",
    "hour_salaries[\"max_salary\"] = hour_salaries[\"Salary\"].apply(max_sal)"
   ]
  },
  {
   "cell_type": "code",
   "execution_count": 22,
   "metadata": {},
   "outputs": [],
   "source": [
    "# average salary\n",
    "\n",
    "year_salaries[\"avg_salary\"] = year_salaries[\"Salary\"].apply(avg_sal)\n",
    "month_salaries[\"avg_salary\"] = month_salaries[\"Salary\"].apply(avg_sal)\n",
    "day_salaries[\"avg_salary\"] = day_salaries[\"Salary\"].apply(avg_sal)\n",
    "hour_salaries[\"avg_salary\"] = hour_salaries[\"Salary\"].apply(avg_sal)"
   ]
  },
  {
   "cell_type": "code",
   "execution_count": 23,
   "metadata": {},
   "outputs": [],
   "source": [
    "# converting to yearly salary\n",
    "\n",
    "month_salaries[\"min_salary\"] = month_salaries[\"min_salary\"] * 12\n",
    "day_salaries[\"min_salary\"] = day_salaries[\"min_salary\"] * 230\n",
    "hour_salaries[\"min_salary\"] = hour_salaries[\"min_salary\"] * 1607"
   ]
  },
  {
   "cell_type": "code",
   "execution_count": 24,
   "metadata": {},
   "outputs": [],
   "source": [
    "month_salaries[\"max_salary\"] = month_salaries[\"max_salary\"] * 12\n",
    "day_salaries[\"max_salary\"] = day_salaries[\"max_salary\"] * 230\n",
    "hour_salaries[\"max_salary\"] = hour_salaries[\"max_salary\"] * 1607"
   ]
  },
  {
   "cell_type": "code",
   "execution_count": 25,
   "metadata": {},
   "outputs": [],
   "source": [
    "month_salaries[\"avg_salary\"] = month_salaries[\"avg_salary\"] * 12\n",
    "day_salaries[\"avg_salary\"] = day_salaries[\"avg_salary\"] * 230\n",
    "hour_salaries[\"avg_salary\"] = hour_salaries[\"avg_salary\"] * 1607"
   ]
  },
  {
   "cell_type": "code",
   "execution_count": 26,
   "metadata": {},
   "outputs": [
    {
     "data": {
      "text/html": [
       "<div>\n",
       "<style scoped>\n",
       "    .dataframe tbody tr th:only-of-type {\n",
       "        vertical-align: middle;\n",
       "    }\n",
       "\n",
       "    .dataframe tbody tr th {\n",
       "        vertical-align: top;\n",
       "    }\n",
       "\n",
       "    .dataframe thead th {\n",
       "        text-align: right;\n",
       "    }\n",
       "</style>\n",
       "<table border=\"1\" class=\"dataframe\">\n",
       "  <thead>\n",
       "    <tr style=\"text-align: right;\">\n",
       "      <th></th>\n",
       "      <th>Title</th>\n",
       "      <th>Location</th>\n",
       "      <th>Date</th>\n",
       "      <th>Company</th>\n",
       "      <th>Rating</th>\n",
       "      <th>Count</th>\n",
       "      <th>Salary</th>\n",
       "      <th>Contract</th>\n",
       "      <th>Description</th>\n",
       "      <th>min_salary</th>\n",
       "      <th>max_salary</th>\n",
       "      <th>avg_salary</th>\n",
       "    </tr>\n",
       "  </thead>\n",
       "  <tbody>\n",
       "    <tr>\n",
       "      <th>9</th>\n",
       "      <td>Consultant business intelligence : BI / BO (F/H)</td>\n",
       "      <td>Paris (75)</td>\n",
       "      <td>Il y a plus de 30 jours</td>\n",
       "      <td>Elitech Conseil</td>\n",
       "      <td>NaN</td>\n",
       "      <td>NaN</td>\n",
       "      <td>2900  - 3400</td>\n",
       "      <td>Temps plein, CDI</td>\n",
       "      <td>Elitech recrute en urgence !Un Consultant busi...</td>\n",
       "      <td>34800.0</td>\n",
       "      <td>40800.0</td>\n",
       "      <td>37800.0</td>\n",
       "    </tr>\n",
       "    <tr>\n",
       "      <th>323</th>\n",
       "      <td>ALTERNANCE - Assistant business analyste (H/F)</td>\n",
       "      <td>Saint-Ouen (93)</td>\n",
       "      <td>il y a 2 jours</td>\n",
       "      <td>OCP REPARTITION</td>\n",
       "      <td>NaN</td>\n",
       "      <td>NaN</td>\n",
       "      <td>924  - 1700</td>\n",
       "      <td>Temps plein, Apprentissage</td>\n",
       "      <td>OCP, au cœur de la chaine de santéAu service d...</td>\n",
       "      <td>11088.0</td>\n",
       "      <td>20400.0</td>\n",
       "      <td>15744.0</td>\n",
       "    </tr>\n",
       "    <tr>\n",
       "      <th>403</th>\n",
       "      <td>Stage Ingénieur d’affaires (F/H)</td>\n",
       "      <td>Le Kremlin-Bicêtre (94)</td>\n",
       "      <td>Il y a plus de 30 jours</td>\n",
       "      <td>IT link</td>\n",
       "      <td>3,8</td>\n",
       "      <td>19 avis</td>\n",
       "      <td>1000</td>\n",
       "      <td>Stage</td>\n",
       "      <td>Le posteDans le cadre du développement de notr...</td>\n",
       "      <td>12000.0</td>\n",
       "      <td>12000.0</td>\n",
       "      <td>12000.0</td>\n",
       "    </tr>\n",
       "  </tbody>\n",
       "</table>\n",
       "</div>"
      ],
      "text/plain": [
       "                                                Title                 Location                     Date          Company Rating    Count         Salary                    Contract                                        Description  min_salary  max_salary  avg_salary\n",
       "9    Consultant business intelligence : BI / BO (F/H)               Paris (75)  Il y a plus de 30 jours  Elitech Conseil    NaN      NaN  2900  - 3400             Temps plein, CDI  Elitech recrute en urgence !Un Consultant busi...     34800.0     40800.0     37800.0\n",
       "323    ALTERNANCE - Assistant business analyste (H/F)          Saint-Ouen (93)           il y a 2 jours  OCP REPARTITION    NaN      NaN   924  - 1700   Temps plein, Apprentissage  OCP, au cœur de la chaine de santéAu service d...     11088.0     20400.0     15744.0\n",
       "403                  Stage Ingénieur d’affaires (F/H)  Le Kremlin-Bicêtre (94)  Il y a plus de 30 jours          IT link    3,8  19 avis          1000                        Stage  Le posteDans le cadre du développement de notr...     12000.0     12000.0     12000.0"
      ]
     },
     "execution_count": 26,
     "metadata": {},
     "output_type": "execute_result"
    }
   ],
   "source": [
    "month_salaries.head(3)"
   ]
  },
  {
   "cell_type": "markdown",
   "metadata": {},
   "source": [
    "###### Put all the salary dataframes together"
   ]
  },
  {
   "cell_type": "code",
   "execution_count": 27,
   "metadata": {},
   "outputs": [],
   "source": [
    "df_salary = pd.concat([year_salaries, month_salaries, day_salaries, hour_salaries], sort=False)"
   ]
  },
  {
   "cell_type": "code",
   "execution_count": 28,
   "metadata": {},
   "outputs": [
    {
     "data": {
      "text/plain": [
       "(786, 12)"
      ]
     },
     "execution_count": 28,
     "metadata": {},
     "output_type": "execute_result"
    }
   ],
   "source": [
    "df_salary.shape"
   ]
  },
  {
   "cell_type": "code",
   "execution_count": 29,
   "metadata": {},
   "outputs": [
    {
     "data": {
      "text/plain": [
       "(6889, 12)"
      ]
     },
     "execution_count": 29,
     "metadata": {},
     "output_type": "execute_result"
    }
   ],
   "source": [
    "#rejoining salary data into main scrape_data df\n",
    "df = pd.concat([df, df_salary])\n",
    "df.shape"
   ]
  },
  {
   "cell_type": "code",
   "execution_count": 30,
   "metadata": {},
   "outputs": [],
   "source": [
    "df.drop('Salary',axis=1,inplace=True)"
   ]
  },
  {
   "cell_type": "code",
   "execution_count": 31,
   "metadata": {},
   "outputs": [
    {
     "name": "stdout",
     "output_type": "stream",
     "text": [
      "<class 'pandas.core.frame.DataFrame'>\n",
      "Int64Index: 6889 entries, 0 to 1146\n",
      "Data columns (total 11 columns):\n",
      "Company        6888 non-null object\n",
      "Contract       4259 non-null object\n",
      "Count          3541 non-null object\n",
      "Date           6889 non-null object\n",
      "Description    6859 non-null object\n",
      "Location       6889 non-null object\n",
      "Rating         3614 non-null object\n",
      "Title          6889 non-null object\n",
      "avg_salary     786 non-null float64\n",
      "max_salary     786 non-null float64\n",
      "min_salary     786 non-null float64\n",
      "dtypes: float64(3), object(8)\n",
      "memory usage: 645.8+ KB\n"
     ]
    }
   ],
   "source": [
    "df.info()"
   ]
  },
  {
   "cell_type": "markdown",
   "metadata": {},
   "source": [
    "## DATE"
   ]
  },
  {
   "cell_type": "code",
   "execution_count": 32,
   "metadata": {},
   "outputs": [
    {
     "data": {
      "text/plain": [
       "99.81129336623603"
      ]
     },
     "execution_count": 32,
     "metadata": {},
     "output_type": "execute_result"
    }
   ],
   "source": [
    "# count the number of date that contains the word 'jour'\n",
    "df['Date'].str.contains(\"jour\").mean()*100"
   ]
  },
  {
   "cell_type": "code",
   "execution_count": 33,
   "metadata": {},
   "outputs": [],
   "source": [
    "# parsing date and extract the date in which the job offer has been published\n",
    "from datetime import datetime, timedelta\n",
    "\n",
    "def parse_date(date):   \n",
    "    try:\n",
    "        N = int(''.join(filter(lambda x: x.isdigit(), date)))\n",
    "        date_N_days_ago = datetime.now() - timedelta(days=N)\n",
    "        date_N_days_ago = date_N_days_ago.strftime('%Y-%m-%d')\n",
    "        return date_N_days_ago\n",
    "    except:\n",
    "        pass "
   ]
  },
  {
   "cell_type": "code",
   "execution_count": 35,
   "metadata": {},
   "outputs": [],
   "source": [
    "df['Date'] = df['Date'].apply(parse_date)\n",
    "df['Date'] = df['Date'].fillna(value=datetime.now().strftime('%Y-%m-%d'))"
   ]
  },
  {
   "cell_type": "code",
   "execution_count": 36,
   "metadata": {},
   "outputs": [
    {
     "data": {
      "text/plain": [
       "0    2020-05-27\n",
       "1    2020-05-27\n",
       "3    2020-05-27\n",
       "5    2020-05-27\n",
       "6    2020-05-27\n",
       "Name: Date, dtype: object"
      ]
     },
     "execution_count": 36,
     "metadata": {},
     "output_type": "execute_result"
    }
   ],
   "source": [
    "df['Date'].head(5)"
   ]
  },
  {
   "cell_type": "markdown",
   "metadata": {},
   "source": [
    "###### Extract the department from location, then delete it from location column"
   ]
  },
  {
   "cell_type": "code",
   "execution_count": 37,
   "metadata": {},
   "outputs": [],
   "source": [
    "# extract department numbers in location\n",
    "df['Dept']=df['Location'].str.extract('(\\d+)')"
   ]
  },
  {
   "cell_type": "code",
   "execution_count": 38,
   "metadata": {},
   "outputs": [
    {
     "name": "stdout",
     "output_type": "stream",
     "text": [
      "<class 'pandas.core.frame.DataFrame'>\n",
      "Int64Index: 6889 entries, 0 to 1146\n",
      "Data columns (total 12 columns):\n",
      "Company        6888 non-null object\n",
      "Contract       4259 non-null object\n",
      "Count          3541 non-null object\n",
      "Date           6889 non-null object\n",
      "Description    6859 non-null object\n",
      "Location       6889 non-null object\n",
      "Rating         3614 non-null object\n",
      "Title          6889 non-null object\n",
      "avg_salary     786 non-null float64\n",
      "max_salary     786 non-null float64\n",
      "min_salary     786 non-null float64\n",
      "Dept           6889 non-null int32\n",
      "dtypes: float64(3), int32(1), object(8)\n",
      "memory usage: 672.8+ KB\n"
     ]
    }
   ],
   "source": [
    "# deal with NAN values\n",
    "df['Dept'] = df['Dept'].fillna(0)\n",
    "df['Dept']=df['Dept'].astype(int)\n",
    "df.info()"
   ]
  },
  {
   "cell_type": "code",
   "execution_count": 39,
   "metadata": {},
   "outputs": [],
   "source": [
    "# Delete the department number from Location\n",
    "df['Location'] = df['Location'].str.replace(r\"\\(.*\\)\",\"\")"
   ]
  },
  {
   "cell_type": "code",
   "execution_count": 40,
   "metadata": {},
   "outputs": [
    {
     "data": {
      "text/html": [
       "<div>\n",
       "<style scoped>\n",
       "    .dataframe tbody tr th:only-of-type {\n",
       "        vertical-align: middle;\n",
       "    }\n",
       "\n",
       "    .dataframe tbody tr th {\n",
       "        vertical-align: top;\n",
       "    }\n",
       "\n",
       "    .dataframe thead th {\n",
       "        text-align: right;\n",
       "    }\n",
       "</style>\n",
       "<table border=\"1\" class=\"dataframe\">\n",
       "  <thead>\n",
       "    <tr style=\"text-align: right;\">\n",
       "      <th></th>\n",
       "      <th>Company</th>\n",
       "      <th>Contract</th>\n",
       "      <th>Count</th>\n",
       "      <th>Date</th>\n",
       "      <th>Description</th>\n",
       "      <th>Location</th>\n",
       "      <th>Rating</th>\n",
       "      <th>Title</th>\n",
       "      <th>avg_salary</th>\n",
       "      <th>max_salary</th>\n",
       "      <th>min_salary</th>\n",
       "      <th>Dept</th>\n",
       "    </tr>\n",
       "  </thead>\n",
       "  <tbody>\n",
       "    <tr>\n",
       "      <th>0</th>\n",
       "      <td>Socomec</td>\n",
       "      <td>CDI</td>\n",
       "      <td>32 avis</td>\n",
       "      <td>2020-05-27</td>\n",
       "      <td>Référence de l'annonce : H-SSA-2019-59QUI SOMM...</td>\n",
       "      <td>Benfeld</td>\n",
       "      <td>3,7</td>\n",
       "      <td>Responsable Business Intelligence (BI) H/F</td>\n",
       "      <td>NaN</td>\n",
       "      <td>NaN</td>\n",
       "      <td>NaN</td>\n",
       "      <td>67</td>\n",
       "    </tr>\n",
       "    <tr>\n",
       "      <th>1</th>\n",
       "      <td>BCA Expertise</td>\n",
       "      <td>NaN</td>\n",
       "      <td>NaN</td>\n",
       "      <td>2020-05-27</td>\n",
       "      <td>Leader français de l'expertise automobile, BCA...</td>\n",
       "      <td>Asnières-sur-Seine</td>\n",
       "      <td>NaN</td>\n",
       "      <td>Data Analyst - Business Intelligence H/F</td>\n",
       "      <td>NaN</td>\n",
       "      <td>NaN</td>\n",
       "      <td>NaN</td>\n",
       "      <td>92</td>\n",
       "    </tr>\n",
       "  </tbody>\n",
       "</table>\n",
       "</div>"
      ],
      "text/plain": [
       "         Company Contract    Count        Date                                        Description             Location Rating                                       Title  avg_salary  max_salary  min_salary  Dept\n",
       "0        Socomec      CDI  32 avis  2020-05-27  Référence de l'annonce : H-SSA-2019-59QUI SOMM...             Benfeld     3,7  Responsable Business Intelligence (BI) H/F         NaN         NaN         NaN    67\n",
       "1  BCA Expertise      NaN      NaN  2020-05-27  Leader français de l'expertise automobile, BCA...  Asnières-sur-Seine     NaN    Data Analyst - Business Intelligence H/F         NaN         NaN         NaN    92"
      ]
     },
     "execution_count": 40,
     "metadata": {},
     "output_type": "execute_result"
    }
   ],
   "source": [
    "df.head(2)"
   ]
  },
  {
   "cell_type": "markdown",
   "metadata": {},
   "source": [
    "### Get the number of opinions from the count column"
   ]
  },
  {
   "cell_type": "code",
   "execution_count": 41,
   "metadata": {},
   "outputs": [],
   "source": [
    "df.Count=df.Count.str.extract('(\\d+)')"
   ]
  },
  {
   "cell_type": "code",
   "execution_count": 44,
   "metadata": {},
   "outputs": [],
   "source": [
    "# replace NaN values by zero\n",
    "df.Count.fillna(0, inplace=True)"
   ]
  },
  {
   "cell_type": "code",
   "execution_count": 45,
   "metadata": {},
   "outputs": [
    {
     "data": {
      "text/html": [
       "<div>\n",
       "<style scoped>\n",
       "    .dataframe tbody tr th:only-of-type {\n",
       "        vertical-align: middle;\n",
       "    }\n",
       "\n",
       "    .dataframe tbody tr th {\n",
       "        vertical-align: top;\n",
       "    }\n",
       "\n",
       "    .dataframe thead th {\n",
       "        text-align: right;\n",
       "    }\n",
       "</style>\n",
       "<table border=\"1\" class=\"dataframe\">\n",
       "  <thead>\n",
       "    <tr style=\"text-align: right;\">\n",
       "      <th></th>\n",
       "      <th>Company</th>\n",
       "      <th>Contract</th>\n",
       "      <th>Count</th>\n",
       "      <th>Date</th>\n",
       "      <th>Description</th>\n",
       "      <th>Location</th>\n",
       "      <th>Rating</th>\n",
       "      <th>Title</th>\n",
       "      <th>avg_salary</th>\n",
       "      <th>max_salary</th>\n",
       "      <th>min_salary</th>\n",
       "      <th>Dept</th>\n",
       "    </tr>\n",
       "  </thead>\n",
       "  <tbody>\n",
       "    <tr>\n",
       "      <th>0</th>\n",
       "      <td>Socomec</td>\n",
       "      <td>CDI</td>\n",
       "      <td>32</td>\n",
       "      <td>2020-05-27</td>\n",
       "      <td>Référence de l'annonce : H-SSA-2019-59QUI SOMM...</td>\n",
       "      <td>Benfeld</td>\n",
       "      <td>3,7</td>\n",
       "      <td>Responsable Business Intelligence (BI) H/F</td>\n",
       "      <td>NaN</td>\n",
       "      <td>NaN</td>\n",
       "      <td>NaN</td>\n",
       "      <td>67</td>\n",
       "    </tr>\n",
       "    <tr>\n",
       "      <th>1</th>\n",
       "      <td>BCA Expertise</td>\n",
       "      <td>NaN</td>\n",
       "      <td>0</td>\n",
       "      <td>2020-05-27</td>\n",
       "      <td>Leader français de l'expertise automobile, BCA...</td>\n",
       "      <td>Asnières-sur-Seine</td>\n",
       "      <td>NaN</td>\n",
       "      <td>Data Analyst - Business Intelligence H/F</td>\n",
       "      <td>NaN</td>\n",
       "      <td>NaN</td>\n",
       "      <td>NaN</td>\n",
       "      <td>92</td>\n",
       "    </tr>\n",
       "  </tbody>\n",
       "</table>\n",
       "</div>"
      ],
      "text/plain": [
       "         Company Contract Count        Date                                        Description             Location Rating                                       Title  avg_salary  max_salary  min_salary  Dept\n",
       "0        Socomec      CDI    32  2020-05-27  Référence de l'annonce : H-SSA-2019-59QUI SOMM...             Benfeld     3,7  Responsable Business Intelligence (BI) H/F         NaN         NaN         NaN    67\n",
       "1  BCA Expertise      NaN     0  2020-05-27  Leader français de l'expertise automobile, BCA...  Asnières-sur-Seine     NaN    Data Analyst - Business Intelligence H/F         NaN         NaN         NaN    92"
      ]
     },
     "execution_count": 45,
     "metadata": {},
     "output_type": "execute_result"
    }
   ],
   "source": [
    "df.head(2)"
   ]
  },
  {
   "cell_type": "markdown",
   "metadata": {},
   "source": [
    "### Get unique job offers from contract "
   ]
  },
  {
   "cell_type": "code",
   "execution_count": 46,
   "metadata": {},
   "outputs": [],
   "source": [
    "# delete salary from Contract column\n",
    "import re\n",
    "df.Contract = df.Contract.replace(re.compile('^[0-9]+'), np.nan, regex=True)\n",
    "#df.head(5)"
   ]
  },
  {
   "cell_type": "code",
   "execution_count": 47,
   "metadata": {},
   "outputs": [
    {
     "name": "stdout",
     "output_type": "stream",
     "text": [
      "51\n"
     ]
    }
   ],
   "source": [
    "print( len(df.Contract.unique()))"
   ]
  },
  {
   "cell_type": "code",
   "execution_count": 48,
   "metadata": {},
   "outputs": [
    {
     "data": {
      "text/plain": [
       "{'CDI': ['cdi'],\n",
       " 'CDD': ['cdd', 'stage', 'apprentissage', 'contrat pro', 'intérim'],\n",
       " 'Freelance': ['freelance', 'indépendant'],\n",
       " 'Temps partiel': ['temps', 'partiel'],\n",
       " 'Temps plein': ['temps', 'plein'],\n",
       " 'Type_Notknown': ['nan']}"
      ]
     },
     "execution_count": 48,
     "metadata": {},
     "output_type": "execute_result"
    }
   ],
   "source": [
    "# define a dictionary with the most commun job types\n",
    "dic={'CDI' :['cdi'],'CDD' : ['cdd', 'stage', 'apprentissage', 'contrat pro', 'intérim'],'Freelance' :['freelance','indépendant'],\n",
    "'Temps partiel':['temps','partiel'],'Temps plein':['temps','plein'],'Type_Notknown':['nan']}\n",
    "dic"
   ]
  },
  {
   "cell_type": "code",
   "execution_count": 51,
   "metadata": {},
   "outputs": [],
   "source": [
    "import nltk\n",
    "tokenizer = nltk.RegexpTokenizer(r'\\w+')\n",
    "def parseContract(x):\n",
    "    text=str(x)\n",
    "    # tokenize the text\n",
    "    text = tokenizer.tokenize(text.lower())\n",
    "    # delete not chars\n",
    "    text=[word for word in text if word.isalpha()]\n",
    "    # keep words with length more than 2 chars\n",
    "    text=[word for word in text if len(word)>2]\n",
    "    return text"
   ]
  },
  {
   "cell_type": "code",
   "execution_count": 52,
   "metadata": {},
   "outputs": [
    {
     "data": {
      "text/plain": [
       "0    [cdi]\n",
       "1    [nan]\n",
       "3    [cdi]\n",
       "5    [cdi]\n",
       "6    [cdi]\n",
       "Name: contractWords, dtype: object"
      ]
     },
     "execution_count": 52,
     "metadata": {},
     "output_type": "execute_result"
    }
   ],
   "source": [
    "df['contractWords']= df.apply(lambda x: parseContract(x.Contract), axis=1)\n",
    "df['contractWords'].head(5)"
   ]
  },
  {
   "cell_type": "code",
   "execution_count": 53,
   "metadata": {},
   "outputs": [],
   "source": [
    "# this function take x (contract value) and search for its correct job type \n",
    "def FindJobType(x,desc):\n",
    "    # verify if the job type is cdi or temps plein or temps partiel or unkonw type\n",
    "    if len(desc)<=2:\n",
    "        # check if the job type is totaly included in the contract\n",
    "        if all(item in x for item in desc):\n",
    "            return 1\n",
    "        else:\n",
    "            return 0\n",
    "    # if the job type is cdd, then we verify that there is at least one description of it in the contract\n",
    "    elif any(w in desc for w in x):\n",
    "     #   print('ok2')\n",
    "        return 1\n",
    "    else: return 0"
   ]
  },
  {
   "cell_type": "code",
   "execution_count": 54,
   "metadata": {},
   "outputs": [
    {
     "data": {
      "text/plain": [
       "1"
      ]
     },
     "execution_count": 54,
     "metadata": {},
     "output_type": "execute_result"
    }
   ],
   "source": [
    "# example\n",
    "FindJobType(['pro','temps','partiel'],['temps','partiel'])"
   ]
  },
  {
   "cell_type": "code",
   "execution_count": 55,
   "metadata": {},
   "outputs": [],
   "source": [
    "# This function creates five columns in the dataframe df (keys in dictionary Dec), and assign the value 1 (exist) or 0 if not in the column contract\n",
    "def DummyJobType(df,Dec):\n",
    "    for Jtype,desc in Dec.items():\n",
    "        for index ,row in df.iterrows():\n",
    "            #df[Jtype] = df[Jtype].astype(int)\n",
    "            #df.set_value(index,Jtype,FindJobType(row['contractWords'],desc))\n",
    "            df.at[index, Jtype]=FindJobType(row['contractWords'],desc)\n",
    "            #df[Jtype] = df[Jtype].astype(int)\n",
    "    return df "
   ]
  },
  {
   "cell_type": "code",
   "execution_count": 56,
   "metadata": {},
   "outputs": [],
   "source": [
    "df=DummyJobType(df,dic)"
   ]
  },
  {
   "cell_type": "code",
   "execution_count": 60,
   "metadata": {},
   "outputs": [],
   "source": [
    "# delete additional columns\n",
    "df.drop(['Contract','contractWords'],inplace=True,axis=1)"
   ]
  },
  {
   "cell_type": "code",
   "execution_count": 61,
   "metadata": {},
   "outputs": [
    {
     "data": {
      "text/plain": [
       "(6889, 17)"
      ]
     },
     "execution_count": 61,
     "metadata": {},
     "output_type": "execute_result"
    }
   ],
   "source": [
    "df.shape"
   ]
  },
  {
   "cell_type": "code",
   "execution_count": 62,
   "metadata": {},
   "outputs": [
    {
     "data": {
      "text/html": [
       "<div>\n",
       "<style scoped>\n",
       "    .dataframe tbody tr th:only-of-type {\n",
       "        vertical-align: middle;\n",
       "    }\n",
       "\n",
       "    .dataframe tbody tr th {\n",
       "        vertical-align: top;\n",
       "    }\n",
       "\n",
       "    .dataframe thead th {\n",
       "        text-align: right;\n",
       "    }\n",
       "</style>\n",
       "<table border=\"1\" class=\"dataframe\">\n",
       "  <thead>\n",
       "    <tr style=\"text-align: right;\">\n",
       "      <th></th>\n",
       "      <th>Company</th>\n",
       "      <th>Count</th>\n",
       "      <th>Date</th>\n",
       "      <th>Description</th>\n",
       "      <th>Location</th>\n",
       "      <th>Rating</th>\n",
       "      <th>Title</th>\n",
       "      <th>avg_salary</th>\n",
       "      <th>max_salary</th>\n",
       "      <th>min_salary</th>\n",
       "      <th>Dept</th>\n",
       "      <th>CDI</th>\n",
       "      <th>CDD</th>\n",
       "      <th>Freelance</th>\n",
       "      <th>Temps partiel</th>\n",
       "      <th>Temps plein</th>\n",
       "      <th>Type_Notknown</th>\n",
       "    </tr>\n",
       "  </thead>\n",
       "  <tbody>\n",
       "    <tr>\n",
       "      <th>0</th>\n",
       "      <td>Socomec</td>\n",
       "      <td>32</td>\n",
       "      <td>2020-05-27</td>\n",
       "      <td>Référence de l'annonce : H-SSA-2019-59QUI SOMM...</td>\n",
       "      <td>Benfeld</td>\n",
       "      <td>3,7</td>\n",
       "      <td>Responsable Business Intelligence (BI) H/F</td>\n",
       "      <td>NaN</td>\n",
       "      <td>NaN</td>\n",
       "      <td>NaN</td>\n",
       "      <td>67</td>\n",
       "      <td>0.0</td>\n",
       "      <td>0.0</td>\n",
       "      <td>0.0</td>\n",
       "      <td>0.0</td>\n",
       "      <td>0.0</td>\n",
       "      <td>1.0</td>\n",
       "    </tr>\n",
       "    <tr>\n",
       "      <th>1</th>\n",
       "      <td>BCA Expertise</td>\n",
       "      <td>0</td>\n",
       "      <td>2020-05-27</td>\n",
       "      <td>Leader français de l'expertise automobile, BCA...</td>\n",
       "      <td>Asnières-sur-Seine</td>\n",
       "      <td>NaN</td>\n",
       "      <td>Data Analyst - Business Intelligence H/F</td>\n",
       "      <td>NaN</td>\n",
       "      <td>NaN</td>\n",
       "      <td>NaN</td>\n",
       "      <td>92</td>\n",
       "      <td>1.0</td>\n",
       "      <td>0.0</td>\n",
       "      <td>0.0</td>\n",
       "      <td>0.0</td>\n",
       "      <td>1.0</td>\n",
       "      <td>0.0</td>\n",
       "    </tr>\n",
       "    <tr>\n",
       "      <th>3</th>\n",
       "      <td>Pôle Lille Métropole</td>\n",
       "      <td>59</td>\n",
       "      <td>2020-05-27</td>\n",
       "      <td>CONTEXTEAvec 36 000 salariés, Ramsay Santé est...</td>\n",
       "      <td>Lille</td>\n",
       "      <td>2,9</td>\n",
       "      <td>Directeur du contrôle financier - H/F</td>\n",
       "      <td>NaN</td>\n",
       "      <td>NaN</td>\n",
       "      <td>NaN</td>\n",
       "      <td>59</td>\n",
       "      <td>1.0</td>\n",
       "      <td>0.0</td>\n",
       "      <td>0.0</td>\n",
       "      <td>0.0</td>\n",
       "      <td>1.0</td>\n",
       "      <td>0.0</td>\n",
       "    </tr>\n",
       "  </tbody>\n",
       "</table>\n",
       "</div>"
      ],
      "text/plain": [
       "                Company Count        Date                                        Description             Location Rating                                       Title  avg_salary  max_salary  min_salary  Dept  CDI  CDD  Freelance  Temps partiel  Temps plein  Type_Notknown\n",
       "0               Socomec    32  2020-05-27  Référence de l'annonce : H-SSA-2019-59QUI SOMM...             Benfeld     3,7  Responsable Business Intelligence (BI) H/F         NaN         NaN         NaN    67  0.0  0.0        0.0            0.0          0.0            1.0\n",
       "1         BCA Expertise     0  2020-05-27  Leader français de l'expertise automobile, BCA...  Asnières-sur-Seine     NaN    Data Analyst - Business Intelligence H/F         NaN         NaN         NaN    92  1.0  0.0        0.0            0.0          1.0            0.0\n",
       "3  Pôle Lille Métropole    59  2020-05-27  CONTEXTEAvec 36 000 salariés, Ramsay Santé est...               Lille     2,9       Directeur du contrôle financier - H/F         NaN         NaN         NaN    59  1.0  0.0        0.0            0.0          1.0            0.0"
      ]
     },
     "execution_count": 62,
     "metadata": {},
     "output_type": "execute_result"
    }
   ],
   "source": [
    "df.head(3)"
   ]
  },
  {
   "cell_type": "code",
   "execution_count": 59,
   "metadata": {},
   "outputs": [],
   "source": [
    "#newDF=df[['Contract','contractWords', 'CDI', 'CDD', 'Freelance', 'Temps partiel', 'Temps plein', 'Type_Notknown']]\n",
    "#newDF.to_csv('VerifyContractDummies.csv', index=False)"
   ]
  },
  {
   "cell_type": "markdown",
   "metadata": {},
   "source": [
    "### Replace the Nan values in Rating by 3"
   ]
  },
  {
   "cell_type": "code",
   "execution_count": 63,
   "metadata": {},
   "outputs": [],
   "source": [
    "df.Rating.fillna(3, inplace=True)"
   ]
  },
  {
   "cell_type": "code",
   "execution_count": 64,
   "metadata": {},
   "outputs": [
    {
     "data": {
      "text/plain": [
       "True"
      ]
     },
     "execution_count": 64,
     "metadata": {},
     "output_type": "execute_result"
    }
   ],
   "source": [
    "df.duplicated().any()"
   ]
  },
  {
   "cell_type": "code",
   "execution_count": 65,
   "metadata": {},
   "outputs": [
    {
     "data": {
      "text/plain": [
       "(6701, 17)"
      ]
     },
     "execution_count": 65,
     "metadata": {},
     "output_type": "execute_result"
    }
   ],
   "source": [
    "df= df[~df.duplicated(keep='first')]\n",
    "df.shape"
   ]
  },
  {
   "cell_type": "code",
   "execution_count": 66,
   "metadata": {},
   "outputs": [],
   "source": [
    "#df.to_csv('Data.csv', index=False)\n",
    "df.to_csv('scrapedClean.csv', index=False)"
   ]
  }
 ],
 "metadata": {
  "kernelspec": {
   "display_name": "Python 3",
   "language": "python",
   "name": "python3"
  },
  "language_info": {
   "codemirror_mode": {
    "name": "ipython",
    "version": 3
   },
   "file_extension": ".py",
   "mimetype": "text/x-python",
   "name": "python",
   "nbconvert_exporter": "python",
   "pygments_lexer": "ipython3",
   "version": "3.7.4"
  }
 },
 "nbformat": 4,
 "nbformat_minor": 4
}
