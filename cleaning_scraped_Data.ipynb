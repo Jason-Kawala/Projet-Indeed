{
 "cells": [
  {
   "cell_type": "code",
   "execution_count": 1,
   "metadata": {},
   "outputs": [],
   "source": [
    "#import modules\n",
    "import os.path\n",
    "from gensim import corpora\n",
    "from gensim.models import LsiModel\n",
    "from nltk.tokenize import RegexpTokenizer\n",
    "from sklearn.feature_extraction.text import CountVectorizer\n",
    "from sklearn.decomposition import TruncatedSVD\n",
    "from sklearn.feature_extraction.text import TfidfVectorizer\n",
    "import nltk\n",
    "from nltk.stem.snowball import FrenchStemmer\n",
    "from spacy.lang.fr.stop_words import STOP_WORDS as fr_stop\n",
    "from gensim import matutils, models\n",
    "import scipy.sparse\n",
    "from nltk.corpus import stopwords\n",
    "from nltk.stem.porter import PorterStemmer\n",
    "from gensim.models.coherencemodel import CoherenceModel\n",
    "import matplotlib.pyplot as plt\n",
    "import pandas as pd\n",
    "import numpy as np\n",
    "import datetime\n",
    "import warnings\n",
    "pd.set_option('display.max_rows', 1000)\n",
    "pd.set_option('display.max_columns', 500)\n",
    "pd.set_option('display.width', 1000)\n",
    "warnings.simplefilter(action='ignore')\n",
    "%matplotlib inline\n",
    "\n",
    "stemmer = FrenchStemmer()\n",
    "tokenizer = nltk.RegexpTokenizer(r'\\w+')\n",
    "stop_fr = nltk.corpus.stopwords.words('french')\n",
    "stop_uk = nltk.corpus.stopwords.words('english')\n",
    "stop_spacy_fr = list(fr_stop)"
   ]
  },
  {
   "cell_type": "markdown",
   "metadata": {},
   "source": [
    "### 1. Import the scraped data from indeed website"
   ]
  },
  {
   "cell_type": "code",
   "execution_count": 2,
   "metadata": {},
   "outputs": [],
   "source": [
    "df = pd.read_csv(\"data_full.csv\",na_values = 'None')\n",
    "df2 = pd.read_csv(\"devops_withoutDouble.csv\",na_values = 'None')\n",
    "df3 =  pd.read_csv(\"software+engineer.csv\",na_values = 'None')\n",
    "df4 = pd.read_csv('more_data.csv', na_values = 'None')"
   ]
  },
  {
   "cell_type": "code",
   "execution_count": 3,
   "metadata": {},
   "outputs": [
    {
     "data": {
      "text/plain": [
       "(6889, 9)"
      ]
     },
     "execution_count": 3,
     "metadata": {},
     "output_type": "execute_result"
    }
   ],
   "source": [
    "df = pd.concat([df, df2, df3, df4])\n",
    "df = df[~df.duplicated(keep='first')] \n",
    "df.shape"
   ]
  },
  {
   "cell_type": "markdown",
   "metadata": {},
   "source": [
    "### 2.  Salary"
   ]
  },
  {
   "cell_type": "markdown",
   "metadata": {},
   "source": [
    "###### Get the rows which their salary value not NAN"
   ]
  },
  {
   "cell_type": "code",
   "execution_count": 4,
   "metadata": {},
   "outputs": [
    {
     "data": {
      "text/plain": [
       "(786, 9)"
      ]
     },
     "execution_count": 4,
     "metadata": {},
     "output_type": "execute_result"
    }
   ],
   "source": [
    "# only with salary data present\n",
    "df_salary = df.dropna(subset=['Salary'])\n",
    "df_salary.shape"
   ]
  },
  {
   "cell_type": "code",
   "execution_count": 5,
   "metadata": {},
   "outputs": [
    {
     "data": {
      "text/plain": [
       "(6103, 9)"
      ]
     },
     "execution_count": 5,
     "metadata": {},
     "output_type": "execute_result"
    }
   ],
   "source": [
    "# rest of the dataframe without salary info\n",
    "df = df[~df.Salary.isin(df_salary.Salary)]\n",
    "df.shape"
   ]
  },
  {
   "cell_type": "markdown",
   "metadata": {},
   "source": [
    "##### Remove non numeric chars from salary"
   ]
  },
  {
   "cell_type": "code",
   "execution_count": 6,
   "metadata": {},
   "outputs": [
    {
     "data": {
      "text/html": [
       "<div>\n",
       "<style scoped>\n",
       "    .dataframe tbody tr th:only-of-type {\n",
       "        vertical-align: middle;\n",
       "    }\n",
       "\n",
       "    .dataframe tbody tr th {\n",
       "        vertical-align: top;\n",
       "    }\n",
       "\n",
       "    .dataframe thead th {\n",
       "        text-align: right;\n",
       "    }\n",
       "</style>\n",
       "<table border=\"1\" class=\"dataframe\">\n",
       "  <thead>\n",
       "    <tr style=\"text-align: right;\">\n",
       "      <th></th>\n",
       "      <th>Title</th>\n",
       "      <th>Location</th>\n",
       "      <th>Date</th>\n",
       "      <th>Company</th>\n",
       "      <th>Rating</th>\n",
       "      <th>Count</th>\n",
       "      <th>Salary</th>\n",
       "      <th>Contract</th>\n",
       "      <th>Description</th>\n",
       "    </tr>\n",
       "  </thead>\n",
       "  <tbody>\n",
       "    <tr>\n",
       "      <th>2</th>\n",
       "      <td>Business Developer – Expert sécurité</td>\n",
       "      <td>Arras (62)</td>\n",
       "      <td>il y a 18 jours</td>\n",
       "      <td>Uptoo</td>\n",
       "      <td>4,5</td>\n",
       "      <td>32 avis</td>\n",
       "      <td>27000  - 55000  par an</td>\n",
       "      <td>27 000 € - 55 000 € par an</td>\n",
       "      <td>À PROPOS :Bienvenue dans notre PME spécialiste...</td>\n",
       "    </tr>\n",
       "    <tr>\n",
       "      <th>4</th>\n",
       "      <td>Manager Big Data H/F</td>\n",
       "      <td>Paris (75)</td>\n",
       "      <td>Il y a plus de 30 jours</td>\n",
       "      <td>Elitegroup Recruitment</td>\n",
       "      <td>NaN</td>\n",
       "      <td>NaN</td>\n",
       "      <td>55000  - 75000  par an</td>\n",
       "      <td>Temps plein, CDI</td>\n",
       "      <td>Présentation de l'entreprise:Notre client est ...</td>\n",
       "    </tr>\n",
       "  </tbody>\n",
       "</table>\n",
       "</div>"
      ],
      "text/plain": [
       "                                  Title    Location                     Date                 Company Rating    Count                  Salary                    Contract                                        Description\n",
       "2  Business Developer – Expert sécurité  Arras (62)          il y a 18 jours                   Uptoo    4,5  32 avis  27000  - 55000  par an  27 000 € - 55 000 € par an  À PROPOS :Bienvenue dans notre PME spécialiste...\n",
       "4                  Manager Big Data H/F  Paris (75)  Il y a plus de 30 jours  Elitegroup Recruitment    NaN      NaN  55000  - 75000  par an            Temps plein, CDI  Présentation de l'entreprise:Notre client est ..."
      ]
     },
     "execution_count": 6,
     "metadata": {},
     "output_type": "execute_result"
    }
   ],
   "source": [
    "df_salary[\"Salary\"] = df_salary[\"Salary\"].str.replace(\"\\n\", \"\")\n",
    "df_salary[\"Salary\"] = df_salary[\"Salary\"].str.replace(\",\", \"\")\n",
    "df_salary[\"Salary\"] = df_salary[\"Salary\"].str.replace(\"€\", \"\")\n",
    "df_salary[\"Salary\"] = df_salary[\"Salary\"].str.replace(\"\\xa0\", \"\")\n",
    "df_salary.head(2)"
   ]
  },
  {
   "cell_type": "markdown",
   "metadata": {},
   "source": [
    "###### Extract the deffirent types of salary "
   ]
  },
  {
   "cell_type": "code",
   "execution_count": 7,
   "metadata": {},
   "outputs": [],
   "source": [
    "year_salaries = df_salary[df_salary[\"Salary\"].str.contains(\"an\")]\n",
    "month_salaries = df_salary[df_salary[\"Salary\"].str.contains(\"mois\")]\n",
    "day_salaries = df_salary[df_salary[\"Salary\"].str.contains(\"jour\")]\n",
    "hour_salaries = df_salary[df_salary[\"Salary\"].str.contains(\"heure\")]"
   ]
  },
  {
   "cell_type": "code",
   "execution_count": 8,
   "metadata": {},
   "outputs": [
    {
     "name": "stdout",
     "output_type": "stream",
     "text": [
      "(626, 9)\n",
      "(97, 9)\n",
      "(49, 9)\n",
      "(14, 9)\n"
     ]
    }
   ],
   "source": [
    "print(year_salaries.shape)\n",
    "print(month_salaries.shape)\n",
    "print(day_salaries.shape)\n",
    "print(hour_salaries.shape)"
   ]
  },
  {
   "cell_type": "code",
   "execution_count": 9,
   "metadata": {},
   "outputs": [],
   "source": [
    "# removing string values(\"par an\", \" par mois\", etc. from salary dfs)\n",
    "\n",
    "year_salaries[\"Salary\"] = year_salaries[\"Salary\"].str.replace(\" par an\", \"\")\n",
    "month_salaries[\"Salary\"] = month_salaries[\"Salary\"].str.replace(\" par mois\", \"\")\n",
    "day_salaries[\"Salary\"] = day_salaries[\"Salary\"].str.replace(\" par jour\", \"\")\n",
    "hour_salaries[\"Salary\"] = hour_salaries[\"Salary\"].str.replace(\" par heure\", \"\")"
   ]
  },
  {
   "cell_type": "markdown",
   "metadata": {},
   "source": [
    "###### Functions to get the average salary (avg_sal), the minimum declared value of salary (min_sal), and the maximum declared value of salary (max_sal)"
   ]
  },
  {
   "cell_type": "code",
   "execution_count": 10,
   "metadata": {},
   "outputs": [],
   "source": [
    "def avg_sal(sal):\n",
    "    try:\n",
    "        splt = sal.split(' - ', 1)\n",
    "        first = float(splt[0])\n",
    "        second = float(splt[1])\n",
    "        return (first + second)/2\n",
    "    except:\n",
    "        return float(sal)"
   ]
  },
  {
   "cell_type": "code",
   "execution_count": 11,
   "metadata": {},
   "outputs": [],
   "source": [
    "def min_sal(sal):\n",
    "    try:\n",
    "        splt = sal.split(' - ', 1)\n",
    "        first = float(splt[0])\n",
    "        return first\n",
    "    except:\n",
    "        return float(sal)"
   ]
  },
  {
   "cell_type": "code",
   "execution_count": 12,
   "metadata": {},
   "outputs": [],
   "source": [
    "def max_sal(sal):\n",
    "    try:\n",
    "        splt = sal.split(' - ', 1)\n",
    "        second = float(splt[1])\n",
    "        return second\n",
    "    except:\n",
    "        return float(sal)"
   ]
  },
  {
   "cell_type": "markdown",
   "metadata": {},
   "source": [
    "###### Apply the defined functions on the different types of salary "
   ]
  },
  {
   "cell_type": "code",
   "execution_count": 13,
   "metadata": {},
   "outputs": [],
   "source": [
    "# min salary\n",
    "\n",
    "year_salaries[\"min_salary\"] = year_salaries[\"Salary\"].apply(min_sal)\n",
    "month_salaries[\"min_salary\"] = month_salaries[\"Salary\"].apply(min_sal)\n",
    "day_salaries[\"min_salary\"] = day_salaries[\"Salary\"].apply(min_sal)\n",
    "hour_salaries[\"min_salary\"] = hour_salaries[\"Salary\"].apply(min_sal)"
   ]
  },
  {
   "cell_type": "code",
   "execution_count": 14,
   "metadata": {},
   "outputs": [],
   "source": [
    "# max salary\n",
    "\n",
    "year_salaries[\"max_salary\"] = year_salaries[\"Salary\"].apply(max_sal)\n",
    "month_salaries[\"max_salary\"] = month_salaries[\"Salary\"].apply(max_sal)\n",
    "day_salaries[\"max_salary\"] = day_salaries[\"Salary\"].apply(max_sal)\n",
    "hour_salaries[\"max_salary\"] = hour_salaries[\"Salary\"].apply(max_sal)"
   ]
  },
  {
   "cell_type": "code",
   "execution_count": 15,
   "metadata": {},
   "outputs": [],
   "source": [
    "# average salary\n",
    "\n",
    "year_salaries[\"avg_salary\"] = year_salaries[\"Salary\"].apply(avg_sal)\n",
    "month_salaries[\"avg_salary\"] = month_salaries[\"Salary\"].apply(avg_sal)\n",
    "day_salaries[\"avg_salary\"] = day_salaries[\"Salary\"].apply(avg_sal)\n",
    "hour_salaries[\"avg_salary\"] = hour_salaries[\"Salary\"].apply(avg_sal)"
   ]
  },
  {
   "cell_type": "code",
   "execution_count": 16,
   "metadata": {},
   "outputs": [],
   "source": [
    "# converting to yearly salary\n",
    "\n",
    "month_salaries[\"min_salary\"] = month_salaries[\"min_salary\"] * 12\n",
    "day_salaries[\"min_salary\"] = day_salaries[\"min_salary\"] * 230\n",
    "hour_salaries[\"min_salary\"] = hour_salaries[\"min_salary\"] * 1607"
   ]
  },
  {
   "cell_type": "code",
   "execution_count": 17,
   "metadata": {},
   "outputs": [],
   "source": [
    "month_salaries[\"max_salary\"] = month_salaries[\"max_salary\"] * 12\n",
    "day_salaries[\"max_salary\"] = day_salaries[\"max_salary\"] * 230\n",
    "hour_salaries[\"max_salary\"] = hour_salaries[\"max_salary\"] * 1607"
   ]
  },
  {
   "cell_type": "code",
   "execution_count": 18,
   "metadata": {},
   "outputs": [],
   "source": [
    "month_salaries[\"avg_salary\"] = month_salaries[\"avg_salary\"] * 12\n",
    "day_salaries[\"avg_salary\"] = day_salaries[\"avg_salary\"] * 230\n",
    "hour_salaries[\"avg_salary\"] = hour_salaries[\"avg_salary\"] * 1607"
   ]
  },
  {
   "cell_type": "code",
   "execution_count": 19,
   "metadata": {},
   "outputs": [
    {
     "data": {
      "text/html": [
       "<div>\n",
       "<style scoped>\n",
       "    .dataframe tbody tr th:only-of-type {\n",
       "        vertical-align: middle;\n",
       "    }\n",
       "\n",
       "    .dataframe tbody tr th {\n",
       "        vertical-align: top;\n",
       "    }\n",
       "\n",
       "    .dataframe thead th {\n",
       "        text-align: right;\n",
       "    }\n",
       "</style>\n",
       "<table border=\"1\" class=\"dataframe\">\n",
       "  <thead>\n",
       "    <tr style=\"text-align: right;\">\n",
       "      <th></th>\n",
       "      <th>Title</th>\n",
       "      <th>Location</th>\n",
       "      <th>Date</th>\n",
       "      <th>Company</th>\n",
       "      <th>Rating</th>\n",
       "      <th>Count</th>\n",
       "      <th>Salary</th>\n",
       "      <th>Contract</th>\n",
       "      <th>Description</th>\n",
       "      <th>min_salary</th>\n",
       "      <th>max_salary</th>\n",
       "      <th>avg_salary</th>\n",
       "    </tr>\n",
       "  </thead>\n",
       "  <tbody>\n",
       "    <tr>\n",
       "      <th>9</th>\n",
       "      <td>Consultant business intelligence : BI / BO (F/H)</td>\n",
       "      <td>Paris (75)</td>\n",
       "      <td>Il y a plus de 30 jours</td>\n",
       "      <td>Elitech Conseil</td>\n",
       "      <td>NaN</td>\n",
       "      <td>NaN</td>\n",
       "      <td>2900  - 3400</td>\n",
       "      <td>Temps plein, CDI</td>\n",
       "      <td>Elitech recrute en urgence !Un Consultant busi...</td>\n",
       "      <td>34800.0</td>\n",
       "      <td>40800.0</td>\n",
       "      <td>37800.0</td>\n",
       "    </tr>\n",
       "    <tr>\n",
       "      <th>323</th>\n",
       "      <td>ALTERNANCE - Assistant business analyste (H/F)</td>\n",
       "      <td>Saint-Ouen (93)</td>\n",
       "      <td>il y a 2 jours</td>\n",
       "      <td>OCP REPARTITION</td>\n",
       "      <td>NaN</td>\n",
       "      <td>NaN</td>\n",
       "      <td>924  - 1700</td>\n",
       "      <td>Temps plein, Apprentissage</td>\n",
       "      <td>OCP, au cœur de la chaine de santéAu service d...</td>\n",
       "      <td>11088.0</td>\n",
       "      <td>20400.0</td>\n",
       "      <td>15744.0</td>\n",
       "    </tr>\n",
       "  </tbody>\n",
       "</table>\n",
       "</div>"
      ],
      "text/plain": [
       "                                                Title         Location                     Date          Company Rating Count         Salary                    Contract                                        Description  min_salary  max_salary  avg_salary\n",
       "9    Consultant business intelligence : BI / BO (F/H)       Paris (75)  Il y a plus de 30 jours  Elitech Conseil    NaN   NaN  2900  - 3400             Temps plein, CDI  Elitech recrute en urgence !Un Consultant busi...     34800.0     40800.0     37800.0\n",
       "323    ALTERNANCE - Assistant business analyste (H/F)  Saint-Ouen (93)           il y a 2 jours  OCP REPARTITION    NaN   NaN   924  - 1700   Temps plein, Apprentissage  OCP, au cœur de la chaine de santéAu service d...     11088.0     20400.0     15744.0"
      ]
     },
     "execution_count": 19,
     "metadata": {},
     "output_type": "execute_result"
    }
   ],
   "source": [
    "month_salaries.head(2)"
   ]
  },
  {
   "cell_type": "markdown",
   "metadata": {},
   "source": [
    "###### Put all the salary dataframes together"
   ]
  },
  {
   "cell_type": "code",
   "execution_count": 20,
   "metadata": {},
   "outputs": [],
   "source": [
    "df_salary = pd.concat([year_salaries, month_salaries, day_salaries, hour_salaries], sort=False)"
   ]
  },
  {
   "cell_type": "code",
   "execution_count": 21,
   "metadata": {},
   "outputs": [
    {
     "data": {
      "text/plain": [
       "(786, 12)"
      ]
     },
     "execution_count": 21,
     "metadata": {},
     "output_type": "execute_result"
    }
   ],
   "source": [
    "df_salary.shape"
   ]
  },
  {
   "cell_type": "code",
   "execution_count": 22,
   "metadata": {},
   "outputs": [
    {
     "data": {
      "text/plain": [
       "(6889, 12)"
      ]
     },
     "execution_count": 22,
     "metadata": {},
     "output_type": "execute_result"
    }
   ],
   "source": [
    "#rejoining salary data into main scrape_data df\n",
    "df = pd.concat([df, df_salary])\n",
    "df.shape"
   ]
  },
  {
   "cell_type": "code",
   "execution_count": 23,
   "metadata": {},
   "outputs": [],
   "source": [
    "df.drop('Salary',axis=1,inplace=True)"
   ]
  },
  {
   "cell_type": "code",
   "execution_count": 24,
   "metadata": {},
   "outputs": [
    {
     "name": "stdout",
     "output_type": "stream",
     "text": [
      "<class 'pandas.core.frame.DataFrame'>\n",
      "Int64Index: 6889 entries, 0 to 1146\n",
      "Data columns (total 11 columns):\n",
      " #   Column       Non-Null Count  Dtype  \n",
      "---  ------       --------------  -----  \n",
      " 0   Title        6889 non-null   object \n",
      " 1   Location     6889 non-null   object \n",
      " 2   Date         6889 non-null   object \n",
      " 3   Company      6888 non-null   object \n",
      " 4   Rating       3614 non-null   object \n",
      " 5   Count        3541 non-null   object \n",
      " 6   Contract     4259 non-null   object \n",
      " 7   Description  6859 non-null   object \n",
      " 8   min_salary   786 non-null    float64\n",
      " 9   max_salary   786 non-null    float64\n",
      " 10  avg_salary   786 non-null    float64\n",
      "dtypes: float64(3), object(8)\n",
      "memory usage: 645.8+ KB\n"
     ]
    }
   ],
   "source": [
    "df.info()"
   ]
  },
  {
   "cell_type": "markdown",
   "metadata": {},
   "source": [
    "## Date"
   ]
  },
  {
   "cell_type": "code",
   "execution_count": 25,
   "metadata": {},
   "outputs": [
    {
     "data": {
      "text/plain": [
       "99.81129336623603"
      ]
     },
     "execution_count": 25,
     "metadata": {},
     "output_type": "execute_result"
    }
   ],
   "source": [
    "# count the number of date that contains the word 'jour'\n",
    "df['Date'].str.contains(\"jour\").mean()*100"
   ]
  },
  {
   "cell_type": "code",
   "execution_count": 26,
   "metadata": {},
   "outputs": [],
   "source": [
    "# parsing date and extract the date in which the job offer has been published\n",
    "from datetime import datetime, timedelta\n",
    "\n",
    "def parse_date(date):   \n",
    "    try:\n",
    "        N = int(''.join(filter(lambda x: x.isdigit(), date)))\n",
    "        date_N_days_ago = datetime.now() - timedelta(days=N)\n",
    "        date_N_days_ago = date_N_days_ago.strftime('%Y-%m-%d')\n",
    "        return date_N_days_ago\n",
    "    except:\n",
    "        pass "
   ]
  },
  {
   "cell_type": "code",
   "execution_count": 27,
   "metadata": {},
   "outputs": [
    {
     "data": {
      "text/plain": [
       "Title          0.000000\n",
       "Location       0.000000\n",
       "Date           0.000000\n",
       "Company        0.000145\n",
       "Rating         0.475396\n",
       "Count          0.485992\n",
       "Contract       0.381768\n",
       "Description    0.004355\n",
       "min_salary     0.885905\n",
       "max_salary     0.885905\n",
       "avg_salary     0.885905\n",
       "dtype: float64"
      ]
     },
     "execution_count": 27,
     "metadata": {},
     "output_type": "execute_result"
    }
   ],
   "source": [
    "df['Date'] = df['Date'].apply(parse_date)\n",
    "df['Date'] = df['Date'].fillna(value=datetime.now().strftime('%Y-%m-%d'))\n",
    "df.isna().mean()"
   ]
  },
  {
   "cell_type": "code",
   "execution_count": 28,
   "metadata": {},
   "outputs": [
    {
     "data": {
      "text/plain": [
       "0    2020-04-30\n",
       "1    2020-04-30\n",
       "Name: Date, dtype: object"
      ]
     },
     "execution_count": 28,
     "metadata": {},
     "output_type": "execute_result"
    }
   ],
   "source": [
    "df['Date'].head(2)"
   ]
  },
  {
   "cell_type": "markdown",
   "metadata": {},
   "source": [
    "###### Extract the department from location, then delete it from location column"
   ]
  },
  {
   "cell_type": "code",
   "execution_count": 29,
   "metadata": {},
   "outputs": [],
   "source": [
    "# extract department numbers in location\n",
    "df['Dept']=df['Location'].str.extract('(\\d+)')"
   ]
  },
  {
   "cell_type": "code",
   "execution_count": 30,
   "metadata": {},
   "outputs": [
    {
     "name": "stdout",
     "output_type": "stream",
     "text": [
      "<class 'pandas.core.frame.DataFrame'>\n",
      "Int64Index: 6889 entries, 0 to 1146\n",
      "Data columns (total 12 columns):\n",
      " #   Column       Non-Null Count  Dtype  \n",
      "---  ------       --------------  -----  \n",
      " 0   Title        6889 non-null   object \n",
      " 1   Location     6889 non-null   object \n",
      " 2   Date         6889 non-null   object \n",
      " 3   Company      6888 non-null   object \n",
      " 4   Rating       3614 non-null   object \n",
      " 5   Count        3541 non-null   object \n",
      " 6   Contract     4259 non-null   object \n",
      " 7   Description  6859 non-null   object \n",
      " 8   min_salary   786 non-null    float64\n",
      " 9   max_salary   786 non-null    float64\n",
      " 10  avg_salary   786 non-null    float64\n",
      " 11  Dept         6889 non-null   int64  \n",
      "dtypes: float64(3), int64(1), object(8)\n",
      "memory usage: 699.7+ KB\n"
     ]
    }
   ],
   "source": [
    "# deal with NAN values\n",
    "df['Dept'] = df['Dept'].fillna(0)\n",
    "df['Dept']=df['Dept'].astype(int)\n",
    "df.info()"
   ]
  },
  {
   "cell_type": "code",
   "execution_count": 31,
   "metadata": {},
   "outputs": [],
   "source": [
    "df['Location'] = df['Location'].str.replace(r\"\\(.*\\)\",\"\")"
   ]
  },
  {
   "cell_type": "code",
   "execution_count": 32,
   "metadata": {},
   "outputs": [
    {
     "name": "stdout",
     "output_type": "stream",
     "text": [
      "<class 'pandas.core.frame.DataFrame'>\n",
      "Int64Index: 6889 entries, 0 to 1146\n",
      "Data columns (total 12 columns):\n",
      " #   Column       Non-Null Count  Dtype  \n",
      "---  ------       --------------  -----  \n",
      " 0   Title        6889 non-null   object \n",
      " 1   Location     6889 non-null   object \n",
      " 2   Date         6889 non-null   object \n",
      " 3   Company      6888 non-null   object \n",
      " 4   Rating       3614 non-null   object \n",
      " 5   Count        3541 non-null   object \n",
      " 6   Contract     4259 non-null   object \n",
      " 7   Description  6859 non-null   object \n",
      " 8   min_salary   786 non-null    float64\n",
      " 9   max_salary   786 non-null    float64\n",
      " 10  avg_salary   786 non-null    float64\n",
      " 11  Dept         6889 non-null   int64  \n",
      "dtypes: float64(3), int64(1), object(8)\n",
      "memory usage: 699.7+ KB\n"
     ]
    }
   ],
   "source": [
    "df.info()"
   ]
  },
  {
   "cell_type": "markdown",
   "metadata": {},
   "source": [
    "###### Extract BagOfWords from title and summary column and save them in a new columns"
   ]
  },
  {
   "cell_type": "code",
   "execution_count": 33,
   "metadata": {},
   "outputs": [],
   "source": [
    "import spacy\n",
    "from spacy import displacy\n",
    "import nltk\n",
    "from nltk.stem.snowball import SnowballStemmer\n",
    "\n",
    "from spacy.lang.fr.stop_words import STOP_WORDS as fr_stop\n",
    "\n",
    "stemmer = SnowballStemmer(language='english')\n",
    "tokenizer = nltk.RegexpTokenizer(r'\\w+')\n",
    "stop_fr  = nltk.corpus.stopwords.words('french')\n",
    "stop_uk  = nltk.corpus.stopwords.words('english')\n",
    "stop_spacy_fr=list(fr_stop)"
   ]
  },
  {
   "cell_type": "code",
   "execution_count": 34,
   "metadata": {},
   "outputs": [],
   "source": [
    "def parse_text(x,location):\n",
    "    text=str(x)\n",
    "    # tokenize the text\n",
    "    text = tokenizer.tokenize(text.lower())\n",
    "    # delete english and frensh stop words\n",
    "    text = [word for word in text if not word in stop_fr]\n",
    "    text = [word for word in text if not word in stop_uk]\n",
    "    text = [word for word in text if not word in stop_spacy_fr]\n",
    "    # delete not wanted chars/words\n",
    "    text = [word for word in text if word !=location.lower()]\n",
    "    # delete not chars\n",
    "    text=[word for word in text if word.isalpha()]\n",
    "    # keep words with length more than 2 chars\n",
    "    text=[word for word in text if len(word)>2]\n",
    "    \n",
    "    return text"
   ]
  },
  {
   "cell_type": "code",
   "execution_count": 35,
   "metadata": {},
   "outputs": [],
   "source": [
    "df['title_words'] = df.apply(lambda x: parse_text(x.Title,x.Location), axis=1)"
   ]
  },
  {
   "cell_type": "code",
   "execution_count": 36,
   "metadata": {},
   "outputs": [],
   "source": [
    "df['summary_words'] = df.apply(lambda x: parse_text(x.Description,x.Location), axis=1)"
   ]
  },
  {
   "cell_type": "code",
   "execution_count": 37,
   "metadata": {},
   "outputs": [
    {
     "data": {
      "text/html": [
       "<div>\n",
       "<style scoped>\n",
       "    .dataframe tbody tr th:only-of-type {\n",
       "        vertical-align: middle;\n",
       "    }\n",
       "\n",
       "    .dataframe tbody tr th {\n",
       "        vertical-align: top;\n",
       "    }\n",
       "\n",
       "    .dataframe thead th {\n",
       "        text-align: right;\n",
       "    }\n",
       "</style>\n",
       "<table border=\"1\" class=\"dataframe\">\n",
       "  <thead>\n",
       "    <tr style=\"text-align: right;\">\n",
       "      <th></th>\n",
       "      <th>Title</th>\n",
       "      <th>Location</th>\n",
       "      <th>Date</th>\n",
       "      <th>Company</th>\n",
       "      <th>Rating</th>\n",
       "      <th>Count</th>\n",
       "      <th>Contract</th>\n",
       "      <th>Description</th>\n",
       "      <th>min_salary</th>\n",
       "      <th>max_salary</th>\n",
       "      <th>avg_salary</th>\n",
       "      <th>Dept</th>\n",
       "      <th>title_words</th>\n",
       "      <th>summary_words</th>\n",
       "    </tr>\n",
       "  </thead>\n",
       "  <tbody>\n",
       "    <tr>\n",
       "      <th>0</th>\n",
       "      <td>Responsable Business Intelligence (BI) H/F</td>\n",
       "      <td>Benfeld</td>\n",
       "      <td>2020-04-30</td>\n",
       "      <td>Socomec</td>\n",
       "      <td>3,7</td>\n",
       "      <td>32 avis</td>\n",
       "      <td>CDI</td>\n",
       "      <td>Référence de l'annonce : H-SSA-2019-59QUI SOMM...</td>\n",
       "      <td>NaN</td>\n",
       "      <td>NaN</td>\n",
       "      <td>NaN</td>\n",
       "      <td>67</td>\n",
       "      <td>[responsable, business, intelligence]</td>\n",
       "      <td>[référence, annonce, ssa, courant, vital, lumi...</td>\n",
       "    </tr>\n",
       "    <tr>\n",
       "      <th>1</th>\n",
       "      <td>Data Analyst - Business Intelligence H/F</td>\n",
       "      <td>Asnières-sur-Seine</td>\n",
       "      <td>2020-04-30</td>\n",
       "      <td>BCA Expertise</td>\n",
       "      <td>NaN</td>\n",
       "      <td>NaN</td>\n",
       "      <td>NaN</td>\n",
       "      <td>Leader français de l'expertise automobile, BCA...</td>\n",
       "      <td>NaN</td>\n",
       "      <td>NaN</td>\n",
       "      <td>NaN</td>\n",
       "      <td>92</td>\n",
       "      <td>[data, analyst, business, intelligence]</td>\n",
       "      <td>[leader, français, expertise, automobile, bca,...</td>\n",
       "    </tr>\n",
       "  </tbody>\n",
       "</table>\n",
       "</div>"
      ],
      "text/plain": [
       "                                        Title             Location        Date        Company Rating    Count Contract                                        Description  min_salary  max_salary  avg_salary  Dept                              title_words                                      summary_words\n",
       "0  Responsable Business Intelligence (BI) H/F             Benfeld   2020-04-30        Socomec    3,7  32 avis      CDI  Référence de l'annonce : H-SSA-2019-59QUI SOMM...         NaN         NaN         NaN    67    [responsable, business, intelligence]  [référence, annonce, ssa, courant, vital, lumi...\n",
       "1    Data Analyst - Business Intelligence H/F  Asnières-sur-Seine   2020-04-30  BCA Expertise    NaN      NaN      NaN  Leader français de l'expertise automobile, BCA...         NaN         NaN         NaN    92  [data, analyst, business, intelligence]  [leader, français, expertise, automobile, bca,..."
      ]
     },
     "execution_count": 37,
     "metadata": {},
     "output_type": "execute_result"
    }
   ],
   "source": [
    "df.head(2)"
   ]
  },
  {
   "cell_type": "markdown",
   "metadata": {},
   "source": [
    "### Get the number of opinions from the count column"
   ]
  },
  {
   "cell_type": "code",
   "execution_count": 38,
   "metadata": {},
   "outputs": [],
   "source": [
    "df.Count=df.Count.str.extract('(\\d+)')"
   ]
  },
  {
   "cell_type": "code",
   "execution_count": 39,
   "metadata": {},
   "outputs": [
    {
     "data": {
      "text/html": [
       "<div>\n",
       "<style scoped>\n",
       "    .dataframe tbody tr th:only-of-type {\n",
       "        vertical-align: middle;\n",
       "    }\n",
       "\n",
       "    .dataframe tbody tr th {\n",
       "        vertical-align: top;\n",
       "    }\n",
       "\n",
       "    .dataframe thead th {\n",
       "        text-align: right;\n",
       "    }\n",
       "</style>\n",
       "<table border=\"1\" class=\"dataframe\">\n",
       "  <thead>\n",
       "    <tr style=\"text-align: right;\">\n",
       "      <th></th>\n",
       "      <th>Title</th>\n",
       "      <th>Location</th>\n",
       "      <th>Date</th>\n",
       "      <th>Company</th>\n",
       "      <th>Rating</th>\n",
       "      <th>Count</th>\n",
       "      <th>Contract</th>\n",
       "      <th>Description</th>\n",
       "      <th>min_salary</th>\n",
       "      <th>max_salary</th>\n",
       "      <th>avg_salary</th>\n",
       "      <th>Dept</th>\n",
       "      <th>title_words</th>\n",
       "      <th>summary_words</th>\n",
       "    </tr>\n",
       "  </thead>\n",
       "  <tbody>\n",
       "    <tr>\n",
       "      <th>0</th>\n",
       "      <td>Responsable Business Intelligence (BI) H/F</td>\n",
       "      <td>Benfeld</td>\n",
       "      <td>2020-04-30</td>\n",
       "      <td>Socomec</td>\n",
       "      <td>3,7</td>\n",
       "      <td>32</td>\n",
       "      <td>CDI</td>\n",
       "      <td>Référence de l'annonce : H-SSA-2019-59QUI SOMM...</td>\n",
       "      <td>NaN</td>\n",
       "      <td>NaN</td>\n",
       "      <td>NaN</td>\n",
       "      <td>67</td>\n",
       "      <td>[responsable, business, intelligence]</td>\n",
       "      <td>[référence, annonce, ssa, courant, vital, lumi...</td>\n",
       "    </tr>\n",
       "    <tr>\n",
       "      <th>1</th>\n",
       "      <td>Data Analyst - Business Intelligence H/F</td>\n",
       "      <td>Asnières-sur-Seine</td>\n",
       "      <td>2020-04-30</td>\n",
       "      <td>BCA Expertise</td>\n",
       "      <td>NaN</td>\n",
       "      <td>NaN</td>\n",
       "      <td>NaN</td>\n",
       "      <td>Leader français de l'expertise automobile, BCA...</td>\n",
       "      <td>NaN</td>\n",
       "      <td>NaN</td>\n",
       "      <td>NaN</td>\n",
       "      <td>92</td>\n",
       "      <td>[data, analyst, business, intelligence]</td>\n",
       "      <td>[leader, français, expertise, automobile, bca,...</td>\n",
       "    </tr>\n",
       "  </tbody>\n",
       "</table>\n",
       "</div>"
      ],
      "text/plain": [
       "                                        Title             Location        Date        Company Rating Count Contract                                        Description  min_salary  max_salary  avg_salary  Dept                              title_words                                      summary_words\n",
       "0  Responsable Business Intelligence (BI) H/F             Benfeld   2020-04-30        Socomec    3,7    32      CDI  Référence de l'annonce : H-SSA-2019-59QUI SOMM...         NaN         NaN         NaN    67    [responsable, business, intelligence]  [référence, annonce, ssa, courant, vital, lumi...\n",
       "1    Data Analyst - Business Intelligence H/F  Asnières-sur-Seine   2020-04-30  BCA Expertise    NaN   NaN      NaN  Leader français de l'expertise automobile, BCA...         NaN         NaN         NaN    92  [data, analyst, business, intelligence]  [leader, français, expertise, automobile, bca,..."
      ]
     },
     "execution_count": 39,
     "metadata": {},
     "output_type": "execute_result"
    }
   ],
   "source": [
    "df.head(2)"
   ]
  },
  {
   "cell_type": "markdown",
   "metadata": {},
   "source": [
    "### Get unique job offers from contract "
   ]
  },
  {
   "cell_type": "code",
   "execution_count": 40,
   "metadata": {},
   "outputs": [],
   "source": [
    "# delete salary from Contract column\n",
    "import re\n",
    "df.Contract = df.Contract.replace(re.compile('^[0-9]'), np.nan, regex=True)"
   ]
  },
  {
   "cell_type": "code",
   "execution_count": 41,
   "metadata": {},
   "outputs": [
    {
     "name": "stdout",
     "output_type": "stream",
     "text": [
      "51\n"
     ]
    }
   ],
   "source": [
    "print( len(df.Contract.unique()))"
   ]
  },
  {
   "cell_type": "code",
   "execution_count": 42,
   "metadata": {},
   "outputs": [
    {
     "data": {
      "text/plain": [
       "{'CDI': ['cdi'],\n",
       " 'CDD': ['cdd', 'stage', 'apprentissage', 'contrat pro', 'intérim'],\n",
       " 'Freelance': ['freelance', 'indépendant'],\n",
       " 'Temps partiel': ['temps', 'partiel'],\n",
       " 'Temps plein': ['temps', 'plein'],\n",
       " 'Unknown': ['nan']}"
      ]
     },
     "execution_count": 42,
     "metadata": {},
     "output_type": "execute_result"
    }
   ],
   "source": [
    "# define a dictionary with the most commun job types\n",
    "dic = {'CDI': ['cdi'], 'CDD': ['cdd', 'stage', 'apprentissage', 'contrat pro', 'intérim'], 'Freelance': ['freelance', 'indépendant'],\n",
    "       'Temps partiel': ['temps', 'partiel'], 'Temps plein': ['temps', 'plein'], 'Unknown': ['nan']}\n",
    "dic"
   ]
  },
  {
   "cell_type": "code",
   "execution_count": 43,
   "metadata": {},
   "outputs": [],
   "source": [
    "def parseContract(x):\n",
    "    text=str(x)\n",
    "    # tokenize the text\n",
    "    text = tokenizer.tokenize(text.lower())\n",
    "    # delete not chars\n",
    "    text=[word for word in text if word.isalpha()]\n",
    "    # keep words with length more than 2 chars\n",
    "    text=[word for word in text if len(word)>2]\n",
    "    return text"
   ]
  },
  {
   "cell_type": "code",
   "execution_count": 44,
   "metadata": {},
   "outputs": [
    {
     "data": {
      "text/plain": [
       "0    [cdi]\n",
       "1    [nan]\n",
       "3    [cdi]\n",
       "5    [cdi]\n",
       "6    [cdi]\n",
       "Name: contractWords, dtype: object"
      ]
     },
     "execution_count": 44,
     "metadata": {},
     "output_type": "execute_result"
    }
   ],
   "source": [
    "df['contractWords']= df.apply(lambda x: parseContract(x.Contract), axis=1)\n",
    "df['contractWords'].head(5)"
   ]
  },
  {
   "cell_type": "code",
   "execution_count": 45,
   "metadata": {},
   "outputs": [],
   "source": [
    "def FindJobType(x, desc):\n",
    "    ''' input : contract type / job description\n",
    "        search for correct job type'''\n",
    "    # verify if the job type is cdi / temps plein / temps partiel / unknown type\n",
    "    if len(desc)<=2:\n",
    "        # check if the job type is included in desc\n",
    "        if all(item in x for item in desc):\n",
    "            return 1\n",
    "        else:\n",
    "            return 0\n",
    "    # if the job type is cdd, then we verify that there is at least one description of it in the contract\n",
    "    elif any(w in desc for w in x):\n",
    "        return 1\n",
    "    else: return 0"
   ]
  },
  {
   "cell_type": "code",
   "execution_count": 46,
   "metadata": {},
   "outputs": [
    {
     "data": {
      "text/plain": [
       "1"
      ]
     },
     "execution_count": 46,
     "metadata": {},
     "output_type": "execute_result"
    }
   ],
   "source": [
    "# example\n",
    "FindJobType(['pro','temps','partiel'],['temps','partiel'])"
   ]
  },
  {
   "cell_type": "code",
   "execution_count": 47,
   "metadata": {},
   "outputs": [],
   "source": [
    "# This function creates five columns in the dataframe df (keys in dictionary Dec), and assign the value 1 (exist) or 0 if not in the column contract\n",
    "def DummyJobType(df,Dic):\n",
    "    for Jtype, desc in Dic.items():\n",
    "        for index ,row in df.iterrows():\n",
    "            df.at[index, Jtype]=FindJobType(row['contractWords'],desc)\n",
    "    return df "
   ]
  },
  {
   "cell_type": "code",
   "execution_count": 48,
   "metadata": {},
   "outputs": [],
   "source": [
    "df=DummyJobType(df,dic)"
   ]
  },
  {
   "cell_type": "code",
   "execution_count": 49,
   "metadata": {},
   "outputs": [
    {
     "data": {
      "text/html": [
       "<div>\n",
       "<style scoped>\n",
       "    .dataframe tbody tr th:only-of-type {\n",
       "        vertical-align: middle;\n",
       "    }\n",
       "\n",
       "    .dataframe tbody tr th {\n",
       "        vertical-align: top;\n",
       "    }\n",
       "\n",
       "    .dataframe thead th {\n",
       "        text-align: right;\n",
       "    }\n",
       "</style>\n",
       "<table border=\"1\" class=\"dataframe\">\n",
       "  <thead>\n",
       "    <tr style=\"text-align: right;\">\n",
       "      <th></th>\n",
       "      <th>Title</th>\n",
       "      <th>Location</th>\n",
       "      <th>Date</th>\n",
       "      <th>Company</th>\n",
       "      <th>Rating</th>\n",
       "      <th>Count</th>\n",
       "      <th>Contract</th>\n",
       "      <th>Description</th>\n",
       "      <th>min_salary</th>\n",
       "      <th>max_salary</th>\n",
       "      <th>avg_salary</th>\n",
       "      <th>Dept</th>\n",
       "      <th>title_words</th>\n",
       "      <th>summary_words</th>\n",
       "      <th>contractWords</th>\n",
       "      <th>CDI</th>\n",
       "      <th>CDD</th>\n",
       "      <th>Freelance</th>\n",
       "      <th>Temps partiel</th>\n",
       "      <th>Temps plein</th>\n",
       "      <th>Unknown</th>\n",
       "    </tr>\n",
       "  </thead>\n",
       "  <tbody>\n",
       "    <tr>\n",
       "      <th>0</th>\n",
       "      <td>Responsable Business Intelligence (BI) H/F</td>\n",
       "      <td>Benfeld</td>\n",
       "      <td>2020-04-30</td>\n",
       "      <td>Socomec</td>\n",
       "      <td>3,7</td>\n",
       "      <td>32</td>\n",
       "      <td>CDI</td>\n",
       "      <td>Référence de l'annonce : H-SSA-2019-59QUI SOMM...</td>\n",
       "      <td>NaN</td>\n",
       "      <td>NaN</td>\n",
       "      <td>NaN</td>\n",
       "      <td>67</td>\n",
       "      <td>[responsable, business, intelligence]</td>\n",
       "      <td>[référence, annonce, ssa, courant, vital, lumi...</td>\n",
       "      <td>[cdi]</td>\n",
       "      <td>0.0</td>\n",
       "      <td>0.0</td>\n",
       "      <td>0.0</td>\n",
       "      <td>0.0</td>\n",
       "      <td>0.0</td>\n",
       "      <td>1.0</td>\n",
       "    </tr>\n",
       "    <tr>\n",
       "      <th>1</th>\n",
       "      <td>Data Analyst - Business Intelligence H/F</td>\n",
       "      <td>Asnières-sur-Seine</td>\n",
       "      <td>2020-04-30</td>\n",
       "      <td>BCA Expertise</td>\n",
       "      <td>NaN</td>\n",
       "      <td>NaN</td>\n",
       "      <td>NaN</td>\n",
       "      <td>Leader français de l'expertise automobile, BCA...</td>\n",
       "      <td>NaN</td>\n",
       "      <td>NaN</td>\n",
       "      <td>NaN</td>\n",
       "      <td>92</td>\n",
       "      <td>[data, analyst, business, intelligence]</td>\n",
       "      <td>[leader, français, expertise, automobile, bca,...</td>\n",
       "      <td>[nan]</td>\n",
       "      <td>1.0</td>\n",
       "      <td>0.0</td>\n",
       "      <td>0.0</td>\n",
       "      <td>0.0</td>\n",
       "      <td>1.0</td>\n",
       "      <td>0.0</td>\n",
       "    </tr>\n",
       "  </tbody>\n",
       "</table>\n",
       "</div>"
      ],
      "text/plain": [
       "                                        Title             Location        Date        Company Rating Count Contract                                        Description  min_salary  max_salary  avg_salary  Dept                              title_words                                      summary_words contractWords  CDI  CDD  Freelance  Temps partiel  Temps plein  Unknown\n",
       "0  Responsable Business Intelligence (BI) H/F             Benfeld   2020-04-30        Socomec    3,7    32      CDI  Référence de l'annonce : H-SSA-2019-59QUI SOMM...         NaN         NaN         NaN    67    [responsable, business, intelligence]  [référence, annonce, ssa, courant, vital, lumi...         [cdi]  0.0  0.0        0.0            0.0          0.0      1.0\n",
       "1    Data Analyst - Business Intelligence H/F  Asnières-sur-Seine   2020-04-30  BCA Expertise    NaN   NaN      NaN  Leader français de l'expertise automobile, BCA...         NaN         NaN         NaN    92  [data, analyst, business, intelligence]  [leader, français, expertise, automobile, bca,...         [nan]  1.0  0.0        0.0            0.0          1.0      0.0"
      ]
     },
     "execution_count": 49,
     "metadata": {},
     "output_type": "execute_result"
    }
   ],
   "source": [
    "df.head(2)"
   ]
  },
  {
   "cell_type": "markdown",
   "metadata": {},
   "source": [
    "### Extract the most commun n-gram from job title"
   ]
  },
  {
   "cell_type": "code",
   "execution_count": 50,
   "metadata": {},
   "outputs": [],
   "source": [
    "from sklearn.feature_extraction.text import CountVectorizer\n",
    "\n",
    "def get_top_n_words(corpus, n=None):\n",
    "    vec = CountVectorizer(stop_words = stop_fr).fit(corpus)\n",
    "    bag_of_words = vec.transform(corpus)\n",
    "    sum_words = bag_of_words.sum(axis=0) \n",
    "    words_freq = [(word, sum_words[0, idx]) for word, idx in vec.vocabulary_.items()]\n",
    "    words_freq =sorted(words_freq, key = lambda x: x[1], reverse=True)\n",
    "    return words_freq[:n]"
   ]
  },
  {
   "cell_type": "code",
   "execution_count": 51,
   "metadata": {},
   "outputs": [],
   "source": [
    "df['title_words']=df['title_words'].apply(lambda x: \" \".join(x))"
   ]
  },
  {
   "cell_type": "code",
   "execution_count": 52,
   "metadata": {},
   "outputs": [
    {
     "data": {
      "text/plain": [
       "Index(['Title', 'Location', 'Date', 'Company', 'Rating', 'Count', 'Contract', 'Description', 'min_salary', 'max_salary', 'avg_salary', 'Dept', 'title_words', 'summary_words', 'contractWords', 'CDI', 'CDD', 'Freelance', 'Temps partiel', 'Temps plein', 'Unknown'], dtype='object')"
      ]
     },
     "execution_count": 52,
     "metadata": {},
     "output_type": "execute_result"
    }
   ],
   "source": [
    "df.columns"
   ]
  },
  {
   "cell_type": "code",
   "execution_count": 53,
   "metadata": {},
   "outputs": [
    {
     "name": "stdout",
     "output_type": "stream",
     "text": [
      "data 1668\n",
      "engineer 1212\n",
      "développeur 891\n",
      "ingénieur 837\n",
      "devops 759\n",
      "consultant 627\n",
      "analyst 474\n",
      "architecte 390\n",
      "senior 388\n",
      "software 355\n",
      "web 318\n",
      "scientist 316\n",
      "business 308\n",
      "cloud 293\n",
      "big 280\n",
      "java 263\n",
      "manager 260\n",
      "end 235\n",
      "développement 231\n",
      "stage 225\n"
     ]
    }
   ],
   "source": [
    "common_words = get_top_n_words(df['title_words'], 20)\n",
    "for word, freq in common_words:\n",
    "    print(word, freq)"
   ]
  },
  {
   "cell_type": "markdown",
   "metadata": {},
   "source": [
    "### Dealing with NaNs\n",
    "\n",
    "Description and Company have very few missing values so we decide to drop rows. For Rating, we fill with the neutral rating of 3, and for Count, the obvious choixe is 0."
   ]
  },
  {
   "cell_type": "code",
   "execution_count": 54,
   "metadata": {},
   "outputs": [],
   "source": [
    "df.dropna(subset=['Description', 'Company'], inplace=True)"
   ]
  },
  {
   "cell_type": "code",
   "execution_count": 55,
   "metadata": {},
   "outputs": [],
   "source": [
    "df['Rating'].fillna(3, inplace=True)"
   ]
  },
  {
   "cell_type": "code",
   "execution_count": 56,
   "metadata": {},
   "outputs": [],
   "source": [
    "df['Count'].fillna(0, inplace=True)"
   ]
  },
  {
   "cell_type": "code",
   "execution_count": 57,
   "metadata": {},
   "outputs": [],
   "source": [
    "df['Contract'].fillna('Non renseigné', inplace=True)"
   ]
  },
  {
   "cell_type": "code",
   "execution_count": 58,
   "metadata": {},
   "outputs": [
    {
     "data": {
      "text/plain": [
       "Title            0.000000\n",
       "Location         0.000000\n",
       "Date             0.000000\n",
       "Company          0.000000\n",
       "Rating           0.000000\n",
       "Count            0.000000\n",
       "Contract         0.000000\n",
       "Description      0.000000\n",
       "min_salary       0.886556\n",
       "max_salary       0.886556\n",
       "avg_salary       0.886556\n",
       "Dept             0.000000\n",
       "title_words      0.000000\n",
       "summary_words    0.000000\n",
       "contractWords    0.000000\n",
       "CDI              0.000000\n",
       "CDD              0.000000\n",
       "Freelance        0.000000\n",
       "Temps partiel    0.000000\n",
       "Temps plein      0.000000\n",
       "Unknown          0.000000\n",
       "dtype: float64"
      ]
     },
     "execution_count": 58,
     "metadata": {},
     "output_type": "execute_result"
    }
   ],
   "source": [
    "df.isna().mean()"
   ]
  },
  {
   "cell_type": "markdown",
   "metadata": {},
   "source": [
    "## Outliers"
   ]
  },
  {
   "cell_type": "code",
   "execution_count": 59,
   "metadata": {},
   "outputs": [
    {
     "data": {
      "image/png": "[encoded data removed]",
      "text/plain": [
       "<Figure size 432x288 with 1 Axes>"
      ]
     },
     "metadata": {
      "needs_background": "light"
     },
     "output_type": "display_data"
    }
   ],
   "source": [
    "import seaborn as sns\n",
    "sns.boxplot(x=df['avg_salary'])\n",
    "plt.title('Outliers detection');"
   ]
  },
  {
   "cell_type": "markdown",
   "metadata": {},
   "source": [
    "Removing that obvious outlier to help the model generalize better"
   ]
  },
  {
   "cell_type": "markdown",
   "metadata": {},
   "source": [
    "### Location features"
   ]
  },
  {
   "cell_type": "code",
   "execution_count": 72,
   "metadata": {},
   "outputs": [],
   "source": [
    "from geopy.geocoders import Nominatim\n",
    "import pandas as pd\n",
    "\n",
    "geolocator = Nominatim(user_agent='BANFrance')\n",
    "\n",
    "df['geocode'] = df['Location'].apply(\n",
    "    lambda x: geolocator.geocode(x, country_codes='FR', timeout=10))"
   ]
  },
  {
   "cell_type": "code",
   "execution_count": 73,
   "metadata": {},
   "outputs": [],
   "source": [
    "df['lat-long'] = df['geocode'].apply(lambda x: tuple(x.point) if x else None)"
   ]
  },
  {
   "cell_type": "code",
   "execution_count": 74,
   "metadata": {},
   "outputs": [],
   "source": [
    "df['lat-long'] = df['lat-long'].apply(lambda x: x[:-1] if x else None)"
   ]
  },
  {
   "cell_type": "code",
   "execution_count": 75,
   "metadata": {},
   "outputs": [],
   "source": [
    "position = pd.DataFrame(df['lat-long'].tolist(), columns=['lat','long'], index=df['lat-long'].index)"
   ]
  },
  {
   "cell_type": "code",
   "execution_count": 76,
   "metadata": {},
   "outputs": [],
   "source": [
    "df.reset_index(drop=True, inplace=True)\n",
    "position.reset_index(drop=True, inplace=True)\n",
    "df = pd.concat([df, position], axis=1)"
   ]
  },
  {
   "cell_type": "code",
   "execution_count": 77,
   "metadata": {},
   "outputs": [],
   "source": [
    "# creating an extra feature to orient the model focus\n",
    "df['lat*long'] = df['lat']*df['long']"
   ]
  },
  {
   "cell_type": "markdown",
   "metadata": {},
   "source": [
    "## Regions feature"
   ]
  },
  {
   "cell_type": "code",
   "execution_count": 78,
   "metadata": {},
   "outputs": [],
   "source": [
    "REGIONS = {\n",
    "    'Auvergne-Rhône-Alpes': [1, 3, 7, 15, 26, 38, 42, 43, 63, 69, 73, 74],\n",
    "    'Bourgogne-Franche-Comté': [21, 25, 39, 58, 70, 71, 89, 90],\n",
    "    'Bretagne': [35, 22, 56, 29],\n",
    "    'Centre-Val de Loire': [18, 28, 36, 37, 41, 45],\n",
    "    'Corse': [2],\n",
    "    'Grand Est': [8, 10, 51, 52, 54, 55, 57, 67, 68, 88],\n",
    "    'Dom': [971, 972, 973, 974],\n",
    "    'Hauts-de-France': [2, 59, 60, 62, 80],\n",
    "    'Île-de-France': [75, 77, 78, 91, 92, 93, 94, 95],\n",
    "    'Normandie': [14, 27, 50, 61, 76],\n",
    "    'Nouvelle-Aquitaine': [16, 17, 19, 23, 24, 33, 40, 47, 64, 79, 86, 87],\n",
    "    'Occitanie': [9, 11, 12, 30, 31, 32, 34, 46, 48, 65, 66, 81, 82],\n",
    "    'Pays de la Loire': [44, 49, 53, 72, 85],\n",
    "    \"Provence-Alpes-Côte d'Azur\": [4, 5, 6, 13, 83, 84]\n",
    "}"
   ]
  },
  {
   "cell_type": "code",
   "execution_count": 79,
   "metadata": {},
   "outputs": [],
   "source": [
    "regions = {}\n",
    "for k, v in REGIONS.items():\n",
    "    for x in v:\n",
    "        regions[x] = k "
   ]
  },
  {
   "cell_type": "code",
   "execution_count": 80,
   "metadata": {},
   "outputs": [],
   "source": [
    "# creating the region feature thanks to the regions dict and dept column\n",
    "df['Regions'] = 0\n",
    "for i, dept in enumerate(df['Dept']):\n",
    "    for k, v in regions.items():\n",
    "        if dept == k:\n",
    "            df['Regions'][i] = v"
   ]
  },
  {
   "cell_type": "code",
   "execution_count": 81,
   "metadata": {},
   "outputs": [
    {
     "data": {
      "text/plain": [
       "0             Grand Est\n",
       "1         Île-de-France\n",
       "2       Hauts-de-France\n",
       "3         Île-de-France\n",
       "4             Occitanie\n",
       "             ...       \n",
       "6853          Occitanie\n",
       "6854      Île-de-France\n",
       "6855      Île-de-France\n",
       "6856    Hauts-de-France\n",
       "6857      Île-de-France\n",
       "Name: Regions, Length: 6858, dtype: object"
      ]
     },
     "execution_count": 81,
     "metadata": {},
     "output_type": "execute_result"
    }
   ],
   "source": [
    "df['Regions']"
   ]
  },
  {
   "cell_type": "markdown",
   "metadata": {},
   "source": [
    "## Spliting and saving dataframes"
   ]
  },
  {
   "cell_type": "code",
   "execution_count": 82,
   "metadata": {},
   "outputs": [
    {
     "data": {
      "text/plain": [
       "(778, 27)"
      ]
     },
     "execution_count": 82,
     "metadata": {},
     "output_type": "execute_result"
    }
   ],
   "source": [
    "df_nan = df[df['avg_salary'].isna()]\n",
    "df_salary = df[~df.isin(df_nan)].dropna(how='all')\n",
    "df_salary.shape"
   ]
  },
  {
   "cell_type": "code",
   "execution_count": 83,
   "metadata": {},
   "outputs": [],
   "source": [
    "df_salary = df_salary[df_salary['avg_salary'].astype(int) < 200000]"
   ]
  },
  {
   "cell_type": "code",
   "execution_count": 84,
   "metadata": {},
   "outputs": [],
   "source": [
    "df_salary.to_csv('DATA_WITH_SALARY.csv', index=False)\n",
    "df_nan.to_csv('DATA_WITHOUT_SALARY.csv', index=False)"
   ]
  },
  {
   "cell_type": "code",
   "execution_count": 85,
   "metadata": {},
   "outputs": [],
   "source": [
    "df = pd.concat([df_salary, df_nan])"
   ]
  },
  {
   "cell_type": "code",
   "execution_count": 86,
   "metadata": {},
   "outputs": [],
   "source": [
    "df.to_csv('DATA_FULL.csv', index=False)"
   ]
  },
  {
   "cell_type": "code",
   "execution_count": null,
   "metadata": {},
   "outputs": [],
   "source": []
  }
 ],
 "metadata": {
  "kernelspec": {
   "display_name": "Python 3",
   "language": "python",
   "name": "python3"
  },
  "language_info": {
   "codemirror_mode": {
    "name": "ipython",
    "version": 3
   },
   "file_extension": ".py",
   "mimetype": "text/x-python",
   "name": "python",
   "nbconvert_exporter": "python",
   "pygments_lexer": "ipython3",
   "version": "3.6.9"
  }
 },
 "nbformat": 4,
 "nbformat_minor": 4
}
