{
 "cells": [
  {
   "cell_type": "markdown",
   "metadata": {},
   "source": [
    "### Importing libraire + pandas settings"
   ]
  },
  {
   "cell_type": "code",
   "execution_count": 2,
   "metadata": {},
   "outputs": [],
   "source": [
    "#import modules\n",
    "import os.path\n",
    "from gensim import corpora\n",
    "from gensim.models import LsiModel\n",
    "from nltk.tokenize import RegexpTokenizer\n",
    "from sklearn.feature_extraction.text import CountVectorizer\n",
    "from sklearn.decomposition import TruncatedSVD\n",
    "from sklearn.feature_extraction.text import TfidfVectorizer\n",
    "import nltk\n",
    "from nltk.stem.snowball import FrenchStemmer\n",
    "from spacy.lang.fr.stop_words import STOP_WORDS as fr_stop\n",
    "from gensim import matutils, models\n",
    "import scipy.sparse\n",
    "from nltk.corpus import stopwords\n",
    "from nltk.stem.porter import PorterStemmer\n",
    "from gensim.models.coherencemodel import CoherenceModel\n",
    "import matplotlib.pyplot as plt\n",
    "import pandas as pd\n",
    "import numpy as np\n",
    "import datetime\n",
    "import warnings\n",
    "pd.set_option('display.max_rows', 1000)\n",
    "pd.set_option('display.max_columns', 500)\n",
    "pd.set_option('display.width', 1000)\n",
    "warnings.simplefilter(action='ignore')\n",
    "%matplotlib inline\n",
    "\n",
    "stemmer = FrenchStemmer()\n",
    "tokenizer = nltk.RegexpTokenizer(r'\\w+')\n",
    "stop_fr = nltk.corpus.stopwords.words('french')\n",
    "stop_uk = nltk.corpus.stopwords.words('english')\n",
    "stop_spacy_fr = list(fr_stop)"
   ]
  },
  {
   "cell_type": "code",
   "execution_count": 3,
   "metadata": {},
   "outputs": [],
   "source": [
    "df_salary = pd.read_csv('enhance_features.csv')"
   ]
  },
  {
   "cell_type": "code",
   "execution_count": 184,
   "metadata": {},
   "outputs": [],
   "source": [
    "data_ml_salary = pd.read_csv('DATA_ML_SALARY.csv')"
   ]
  },
  {
   "cell_type": "code",
   "execution_count": 185,
   "metadata": {},
   "outputs": [
    {
     "data": {
      "text/html": [
       "<div>\n",
       "<style scoped>\n",
       "    .dataframe tbody tr th:only-of-type {\n",
       "        vertical-align: middle;\n",
       "    }\n",
       "\n",
       "    .dataframe tbody tr th {\n",
       "        vertical-align: top;\n",
       "    }\n",
       "\n",
       "    .dataframe thead th {\n",
       "        text-align: right;\n",
       "    }\n",
       "</style>\n",
       "<table border=\"1\" class=\"dataframe\">\n",
       "  <thead>\n",
       "    <tr style=\"text-align: right;\">\n",
       "      <th></th>\n",
       "      <th>Title</th>\n",
       "      <th>Location</th>\n",
       "      <th>Date</th>\n",
       "      <th>Company</th>\n",
       "      <th>Rating</th>\n",
       "      <th>Count</th>\n",
       "      <th>Contract</th>\n",
       "      <th>Description</th>\n",
       "      <th>min_salary</th>\n",
       "      <th>max_salary</th>\n",
       "      <th>avg_salary</th>\n",
       "      <th>Dept</th>\n",
       "      <th>title_words</th>\n",
       "      <th>summary_words</th>\n",
       "      <th>contractWords</th>\n",
       "      <th>CDI</th>\n",
       "      <th>CDD</th>\n",
       "      <th>Freelance</th>\n",
       "      <th>Temps partiel</th>\n",
       "      <th>Temps plein</th>\n",
       "      <th>Unknown</th>\n",
       "      <th>lat-long</th>\n",
       "      <th>lat</th>\n",
       "      <th>long</th>\n",
       "      <th>lat*long</th>\n",
       "      <th>Regions</th>\n",
       "      <th>BagOfWords</th>\n",
       "      <th>lsa1</th>\n",
       "      <th>lsa2</th>\n",
       "      <th>lsa3</th>\n",
       "      <th>lsa4</th>\n",
       "      <th>lsa5</th>\n",
       "      <th>lda1</th>\n",
       "      <th>lda2</th>\n",
       "      <th>lda3</th>\n",
       "      <th>lda4</th>\n",
       "      <th>lda5</th>\n",
       "      <th>nmf1</th>\n",
       "      <th>nmf2</th>\n",
       "      <th>nmf3</th>\n",
       "      <th>nmf4</th>\n",
       "      <th>nmf5</th>\n",
       "    </tr>\n",
       "  </thead>\n",
       "  <tbody>\n",
       "    <tr>\n",
       "      <th>0</th>\n",
       "      <td>Business Developer – Expert sécurité</td>\n",
       "      <td>Arras</td>\n",
       "      <td>2020-05-11</td>\n",
       "      <td>Uptoo</td>\n",
       "      <td>4.5</td>\n",
       "      <td>32.0</td>\n",
       "      <td>Non renseigné</td>\n",
       "      <td>À PROPOS :Bienvenue dans notre PME spécialiste...</td>\n",
       "      <td>27000.0</td>\n",
       "      <td>55000.0</td>\n",
       "      <td>41000.0</td>\n",
       "      <td>62.0</td>\n",
       "      <td>business developer expert sécurité</td>\n",
       "      <td>['propos', 'bienvenue', 'pme', 'spécialiste', ...</td>\n",
       "      <td>['nan']</td>\n",
       "      <td>0.0</td>\n",
       "      <td>0.0</td>\n",
       "      <td>0.0</td>\n",
       "      <td>0.0</td>\n",
       "      <td>0.0</td>\n",
       "      <td>1.0</td>\n",
       "      <td>(50.291048, 2.7772211)</td>\n",
       "      <td>50.291048</td>\n",
       "      <td>2.777221</td>\n",
       "      <td>139.669360</td>\n",
       "      <td>Île-de-France</td>\n",
       "      <td>['business', 'develop', 'expert', 'secur', 'pr...</td>\n",
       "      <td>0.045003</td>\n",
       "      <td>0.031446</td>\n",
       "      <td>-0.069163</td>\n",
       "      <td>0.016583</td>\n",
       "      <td>0.324242</td>\n",
       "      <td>0.020423</td>\n",
       "      <td>0.020527</td>\n",
       "      <td>0.413644</td>\n",
       "      <td>0.136369</td>\n",
       "      <td>0.409036</td>\n",
       "      <td>0.040193</td>\n",
       "      <td>0.001115</td>\n",
       "      <td>0.000000</td>\n",
       "      <td>0.007555</td>\n",
       "      <td>0.001401</td>\n",
       "    </tr>\n",
       "    <tr>\n",
       "      <th>1</th>\n",
       "      <td>Manager Big Data H/F</td>\n",
       "      <td>Paris</td>\n",
       "      <td>2020-04-29</td>\n",
       "      <td>Elitegroup Recruitment</td>\n",
       "      <td>3.0</td>\n",
       "      <td>0.0</td>\n",
       "      <td>Temps plein, CDI</td>\n",
       "      <td>Présentation de l'entreprise:Notre client est ...</td>\n",
       "      <td>55000.0</td>\n",
       "      <td>75000.0</td>\n",
       "      <td>65000.0</td>\n",
       "      <td>75.0</td>\n",
       "      <td>manager big data</td>\n",
       "      <td>['présentation', 'entreprise', 'client', 'cabi...</td>\n",
       "      <td>['temps', 'plein', 'cdi']</td>\n",
       "      <td>1.0</td>\n",
       "      <td>0.0</td>\n",
       "      <td>0.0</td>\n",
       "      <td>0.0</td>\n",
       "      <td>1.0</td>\n",
       "      <td>0.0</td>\n",
       "      <td>(48.8566969, 2.3514616)</td>\n",
       "      <td>48.856697</td>\n",
       "      <td>2.351462</td>\n",
       "      <td>114.884647</td>\n",
       "      <td>Île-de-France</td>\n",
       "      <td>['manag', 'big', 'dat', 'present', 'entrepris'...</td>\n",
       "      <td>1.108354</td>\n",
       "      <td>-0.038272</td>\n",
       "      <td>-0.480699</td>\n",
       "      <td>-0.068788</td>\n",
       "      <td>-0.366764</td>\n",
       "      <td>0.031238</td>\n",
       "      <td>0.028750</td>\n",
       "      <td>0.028733</td>\n",
       "      <td>0.881830</td>\n",
       "      <td>0.029449</td>\n",
       "      <td>0.058498</td>\n",
       "      <td>0.000000</td>\n",
       "      <td>0.031997</td>\n",
       "      <td>0.000000</td>\n",
       "      <td>0.000000</td>\n",
       "    </tr>\n",
       "    <tr>\n",
       "      <th>2</th>\n",
       "      <td>Consultant(e) Business Intelligence (Power Bi)...</td>\n",
       "      <td>Lille</td>\n",
       "      <td>2020-05-18</td>\n",
       "      <td>sumit</td>\n",
       "      <td>3.0</td>\n",
       "      <td>0.0</td>\n",
       "      <td>Temps plein, CDI</td>\n",
       "      <td>Chez sumit, nous ne voyons pas nos consultants...</td>\n",
       "      <td>30000.0</td>\n",
       "      <td>40000.0</td>\n",
       "      <td>35000.0</td>\n",
       "      <td>59.0</td>\n",
       "      <td>consultant business intelligence power</td>\n",
       "      <td>['sumit', 'voyons', 'consultants', 'simple', '...</td>\n",
       "      <td>['temps', 'plein', 'cdi']</td>\n",
       "      <td>1.0</td>\n",
       "      <td>0.0</td>\n",
       "      <td>0.0</td>\n",
       "      <td>0.0</td>\n",
       "      <td>1.0</td>\n",
       "      <td>0.0</td>\n",
       "      <td>(50.6365654, 3.0635282)</td>\n",
       "      <td>50.636565</td>\n",
       "      <td>3.063528</td>\n",
       "      <td>155.126546</td>\n",
       "      <td>Île-de-France</td>\n",
       "      <td>['consult', 'business', 'intelligent', 'pow', ...</td>\n",
       "      <td>0.142829</td>\n",
       "      <td>-0.013129</td>\n",
       "      <td>-0.230162</td>\n",
       "      <td>0.075602</td>\n",
       "      <td>0.698628</td>\n",
       "      <td>0.020040</td>\n",
       "      <td>0.020020</td>\n",
       "      <td>0.020024</td>\n",
       "      <td>0.020088</td>\n",
       "      <td>0.919828</td>\n",
       "      <td>0.053204</td>\n",
       "      <td>0.000000</td>\n",
       "      <td>0.002149</td>\n",
       "      <td>0.003271</td>\n",
       "      <td>0.000000</td>\n",
       "    </tr>\n",
       "    <tr>\n",
       "      <th>3</th>\n",
       "      <td>Business Developer Junior H/F</td>\n",
       "      <td>Toulouse</td>\n",
       "      <td>2020-05-26</td>\n",
       "      <td>Synapse Développement</td>\n",
       "      <td>3.0</td>\n",
       "      <td>0.0</td>\n",
       "      <td>Temps plein, CDI</td>\n",
       "      <td>Devenez Synapsien !Et si vous rejoigniez une é...</td>\n",
       "      <td>30000.0</td>\n",
       "      <td>35000.0</td>\n",
       "      <td>32500.0</td>\n",
       "      <td>31.0</td>\n",
       "      <td>business developer junior</td>\n",
       "      <td>['devenez', 'synapsien', 'rejoigniez', 'équipe...</td>\n",
       "      <td>['temps', 'plein', 'cdi']</td>\n",
       "      <td>0.0</td>\n",
       "      <td>1.0</td>\n",
       "      <td>0.0</td>\n",
       "      <td>1.0</td>\n",
       "      <td>0.0</td>\n",
       "      <td>0.0</td>\n",
       "      <td>(43.6044622, 1.4442469)</td>\n",
       "      <td>43.604462</td>\n",
       "      <td>1.444247</td>\n",
       "      <td>62.975609</td>\n",
       "      <td>Île-de-France</td>\n",
       "      <td>['business', 'develop', 'junior', 'deven', 'sy...</td>\n",
       "      <td>0.050887</td>\n",
       "      <td>0.056841</td>\n",
       "      <td>-0.069799</td>\n",
       "      <td>0.002958</td>\n",
       "      <td>0.334825</td>\n",
       "      <td>0.028720</td>\n",
       "      <td>0.028621</td>\n",
       "      <td>0.028768</td>\n",
       "      <td>0.028608</td>\n",
       "      <td>0.885283</td>\n",
       "      <td>0.043325</td>\n",
       "      <td>0.001752</td>\n",
       "      <td>0.000120</td>\n",
       "      <td>0.025561</td>\n",
       "      <td>0.000000</td>\n",
       "    </tr>\n",
       "    <tr>\n",
       "      <th>4</th>\n",
       "      <td>Business Developer International – Éolien ?– E...</td>\n",
       "      <td>Gometz-la-Ville</td>\n",
       "      <td>2020-04-29</td>\n",
       "      <td>Uptoo</td>\n",
       "      <td>4.5</td>\n",
       "      <td>32.0</td>\n",
       "      <td>Non renseigné</td>\n",
       "      <td>À PROPOS :Notre société créée en 2004 est lead...</td>\n",
       "      <td>50000.0</td>\n",
       "      <td>60000.0</td>\n",
       "      <td>55000.0</td>\n",
       "      <td>91.0</td>\n",
       "      <td>business developer international éolien europe...</td>\n",
       "      <td>['propos', 'société', 'créée', 'leader', 'mond...</td>\n",
       "      <td>['nan']</td>\n",
       "      <td>0.0</td>\n",
       "      <td>0.0</td>\n",
       "      <td>0.0</td>\n",
       "      <td>0.0</td>\n",
       "      <td>0.0</td>\n",
       "      <td>1.0</td>\n",
       "      <td>(48.6718036, 2.1250543)</td>\n",
       "      <td>48.671804</td>\n",
       "      <td>2.125054</td>\n",
       "      <td>103.430226</td>\n",
       "      <td>Île-de-France</td>\n",
       "      <td>['business', 'develop', 'international', 'eoli...</td>\n",
       "      <td>0.033301</td>\n",
       "      <td>0.023574</td>\n",
       "      <td>-0.065514</td>\n",
       "      <td>-0.007059</td>\n",
       "      <td>0.322954</td>\n",
       "      <td>0.012766</td>\n",
       "      <td>0.012538</td>\n",
       "      <td>0.012574</td>\n",
       "      <td>0.012544</td>\n",
       "      <td>0.949579</td>\n",
       "      <td>0.047710</td>\n",
       "      <td>0.002941</td>\n",
       "      <td>0.000000</td>\n",
       "      <td>0.005452</td>\n",
       "      <td>0.000000</td>\n",
       "    </tr>\n",
       "  </tbody>\n",
       "</table>\n",
       "</div>"
      ],
      "text/plain": [
       "                                               Title          Location        Date                 Company  Rating  Count          Contract                                        Description  min_salary  max_salary  avg_salary  Dept                                        title_words                                      summary_words              contractWords  CDI  CDD  Freelance  Temps partiel  Temps plein  Unknown                 lat-long        lat      long    lat*long        Regions                                         BagOfWords      lsa1      lsa2      lsa3      lsa4      lsa5      lda1      lda2      lda3      lda4      lda5      nmf1      nmf2      nmf3      nmf4      nmf5\n",
       "0               Business Developer – Expert sécurité            Arras   2020-05-11                   Uptoo     4.5   32.0     Non renseigné  À PROPOS :Bienvenue dans notre PME spécialiste...     27000.0     55000.0     41000.0  62.0                 business developer expert sécurité  ['propos', 'bienvenue', 'pme', 'spécialiste', ...                    ['nan']  0.0  0.0        0.0            0.0          0.0      1.0   (50.291048, 2.7772211)  50.291048  2.777221  139.669360  Île-de-France  ['business', 'develop', 'expert', 'secur', 'pr...  0.045003  0.031446 -0.069163  0.016583  0.324242  0.020423  0.020527  0.413644  0.136369  0.409036  0.040193  0.001115  0.000000  0.007555  0.001401\n",
       "1                               Manager Big Data H/F            Paris   2020-04-29  Elitegroup Recruitment     3.0    0.0  Temps plein, CDI  Présentation de l'entreprise:Notre client est ...     55000.0     75000.0     65000.0  75.0                                   manager big data  ['présentation', 'entreprise', 'client', 'cabi...  ['temps', 'plein', 'cdi']  1.0  0.0        0.0            0.0          1.0      0.0  (48.8566969, 2.3514616)  48.856697  2.351462  114.884647  Île-de-France  ['manag', 'big', 'dat', 'present', 'entrepris'...  1.108354 -0.038272 -0.480699 -0.068788 -0.366764  0.031238  0.028750  0.028733  0.881830  0.029449  0.058498  0.000000  0.031997  0.000000  0.000000\n",
       "2  Consultant(e) Business Intelligence (Power Bi)...            Lille   2020-05-18                   sumit     3.0    0.0  Temps plein, CDI  Chez sumit, nous ne voyons pas nos consultants...     30000.0     40000.0     35000.0  59.0             consultant business intelligence power  ['sumit', 'voyons', 'consultants', 'simple', '...  ['temps', 'plein', 'cdi']  1.0  0.0        0.0            0.0          1.0      0.0  (50.6365654, 3.0635282)  50.636565  3.063528  155.126546  Île-de-France  ['consult', 'business', 'intelligent', 'pow', ...  0.142829 -0.013129 -0.230162  0.075602  0.698628  0.020040  0.020020  0.020024  0.020088  0.919828  0.053204  0.000000  0.002149  0.003271  0.000000\n",
       "3                      Business Developer Junior H/F         Toulouse   2020-05-26   Synapse Développement     3.0    0.0  Temps plein, CDI  Devenez Synapsien !Et si vous rejoigniez une é...     30000.0     35000.0     32500.0  31.0                          business developer junior  ['devenez', 'synapsien', 'rejoigniez', 'équipe...  ['temps', 'plein', 'cdi']  0.0  1.0        0.0            1.0          0.0      0.0  (43.6044622, 1.4442469)  43.604462  1.444247   62.975609  Île-de-France  ['business', 'develop', 'junior', 'deven', 'sy...  0.050887  0.056841 -0.069799  0.002958  0.334825  0.028720  0.028621  0.028768  0.028608  0.885283  0.043325  0.001752  0.000120  0.025561  0.000000\n",
       "4  Business Developer International – Éolien ?– E...  Gometz-la-Ville   2020-04-29                   Uptoo     4.5   32.0     Non renseigné  À PROPOS :Notre société créée en 2004 est lead...     50000.0     60000.0     55000.0  91.0  business developer international éolien europe...  ['propos', 'société', 'créée', 'leader', 'mond...                    ['nan']  0.0  0.0        0.0            0.0          0.0      1.0  (48.6718036, 2.1250543)  48.671804  2.125054  103.430226  Île-de-France  ['business', 'develop', 'international', 'eoli...  0.033301  0.023574 -0.065514 -0.007059  0.322954  0.012766  0.012538  0.012574  0.012544  0.949579  0.047710  0.002941  0.000000  0.005452  0.000000"
      ]
     },
     "execution_count": 185,
     "metadata": {},
     "output_type": "execute_result"
    }
   ],
   "source": [
    "data_ml_salary.head()"
   ]
  },
  {
   "cell_type": "code",
   "execution_count": 71,
   "metadata": {},
   "outputs": [
    {
     "data": {
      "text/html": [
       "<div>\n",
       "<style scoped>\n",
       "    .dataframe tbody tr th:only-of-type {\n",
       "        vertical-align: middle;\n",
       "    }\n",
       "\n",
       "    .dataframe tbody tr th {\n",
       "        vertical-align: top;\n",
       "    }\n",
       "\n",
       "    .dataframe thead th {\n",
       "        text-align: right;\n",
       "    }\n",
       "</style>\n",
       "<table border=\"1\" class=\"dataframe\">\n",
       "  <thead>\n",
       "    <tr style=\"text-align: right;\">\n",
       "      <th></th>\n",
       "      <th>Title</th>\n",
       "      <th>Location</th>\n",
       "      <th>Date</th>\n",
       "      <th>Company</th>\n",
       "      <th>Rating</th>\n",
       "      <th>Count</th>\n",
       "      <th>Contract</th>\n",
       "      <th>Description</th>\n",
       "      <th>min_salary</th>\n",
       "      <th>max_salary</th>\n",
       "      <th>avg_salary</th>\n",
       "      <th>Dept</th>\n",
       "      <th>title_words</th>\n",
       "      <th>summary_words</th>\n",
       "      <th>contractWords</th>\n",
       "      <th>CDI</th>\n",
       "      <th>CDD</th>\n",
       "      <th>Freelance</th>\n",
       "      <th>Temps partiel</th>\n",
       "      <th>Temps plein</th>\n",
       "      <th>Type_Notknown</th>\n",
       "      <th>geocode</th>\n",
       "      <th>lat-long</th>\n",
       "      <th>lat</th>\n",
       "      <th>long</th>\n",
       "      <th>lat*long</th>\n",
       "      <th>Region</th>\n",
       "      <th>BagOfWords</th>\n",
       "    </tr>\n",
       "  </thead>\n",
       "  <tbody>\n",
       "    <tr>\n",
       "      <th>0</th>\n",
       "      <td>Business Developer – Expert sécurité</td>\n",
       "      <td>Arras</td>\n",
       "      <td>2020-05-08</td>\n",
       "      <td>Uptoo</td>\n",
       "      <td>4.5</td>\n",
       "      <td>32.0</td>\n",
       "      <td>NaN</td>\n",
       "      <td>À PROPOS :Bienvenue dans notre PME spécialiste...</td>\n",
       "      <td>27000.0</td>\n",
       "      <td>55000.0</td>\n",
       "      <td>41000.0</td>\n",
       "      <td>62</td>\n",
       "      <td>business developer expert sécurité</td>\n",
       "      <td>['propos', 'bienvenue', 'pme', 'spécialiste', ...</td>\n",
       "      <td>['nan']</td>\n",
       "      <td>0.0</td>\n",
       "      <td>0.0</td>\n",
       "      <td>0.0</td>\n",
       "      <td>0.0</td>\n",
       "      <td>0.0</td>\n",
       "      <td>1.0</td>\n",
       "      <td>Arras, Pas-de-Calais, Hauts-de-France, France ...</td>\n",
       "      <td>(50.291048, 2.7772211)</td>\n",
       "      <td>50.291048</td>\n",
       "      <td>2.777221</td>\n",
       "      <td>139.669360</td>\n",
       "      <td>Hauts-de-France</td>\n",
       "      <td>[business, develop, expert, secur, propos, bie...</td>\n",
       "    </tr>\n",
       "    <tr>\n",
       "      <th>1</th>\n",
       "      <td>Manager Big Data H/F</td>\n",
       "      <td>Paris</td>\n",
       "      <td>2020-04-26</td>\n",
       "      <td>Elitegroup Recruitment</td>\n",
       "      <td>3.0</td>\n",
       "      <td>0.0</td>\n",
       "      <td>Temps plein, CDI</td>\n",
       "      <td>Présentation de l'entreprise:Notre client est ...</td>\n",
       "      <td>55000.0</td>\n",
       "      <td>75000.0</td>\n",
       "      <td>65000.0</td>\n",
       "      <td>75</td>\n",
       "      <td>manager big data</td>\n",
       "      <td>['présentation', 'entreprise', 'client', 'cabi...</td>\n",
       "      <td>['temps', 'plein', 'cdi']</td>\n",
       "      <td>1.0</td>\n",
       "      <td>0.0</td>\n",
       "      <td>0.0</td>\n",
       "      <td>0.0</td>\n",
       "      <td>1.0</td>\n",
       "      <td>0.0</td>\n",
       "      <td>Paris, Île-de-France, France métropolitaine, F...</td>\n",
       "      <td>(48.8566969, 2.3514616)</td>\n",
       "      <td>48.856697</td>\n",
       "      <td>2.351462</td>\n",
       "      <td>114.884647</td>\n",
       "      <td>Île-de-France</td>\n",
       "      <td>[manag, big, dat, present, entrepris, client, ...</td>\n",
       "    </tr>\n",
       "    <tr>\n",
       "      <th>2</th>\n",
       "      <td>Consultant(e) Business Intelligence (Power Bi)...</td>\n",
       "      <td>Lille</td>\n",
       "      <td>2020-05-15</td>\n",
       "      <td>sumit</td>\n",
       "      <td>3.0</td>\n",
       "      <td>0.0</td>\n",
       "      <td>Temps plein, CDI</td>\n",
       "      <td>Chez sumit, nous ne voyons pas nos consultants...</td>\n",
       "      <td>30000.0</td>\n",
       "      <td>40000.0</td>\n",
       "      <td>35000.0</td>\n",
       "      <td>59</td>\n",
       "      <td>consultant business intelligence power</td>\n",
       "      <td>['sumit', 'voyons', 'consultants', 'simple', '...</td>\n",
       "      <td>['temps', 'plein', 'cdi']</td>\n",
       "      <td>1.0</td>\n",
       "      <td>0.0</td>\n",
       "      <td>0.0</td>\n",
       "      <td>0.0</td>\n",
       "      <td>1.0</td>\n",
       "      <td>0.0</td>\n",
       "      <td>Lille, Nord, Hauts-de-France, France métropoli...</td>\n",
       "      <td>(50.6365654, 3.0635282)</td>\n",
       "      <td>50.636565</td>\n",
       "      <td>3.063528</td>\n",
       "      <td>155.126546</td>\n",
       "      <td>Hauts-de-France</td>\n",
       "      <td>[consult, business, intelligent, pow, sum, voy...</td>\n",
       "    </tr>\n",
       "    <tr>\n",
       "      <th>3</th>\n",
       "      <td>Business Developer Junior H/F</td>\n",
       "      <td>Toulouse</td>\n",
       "      <td>2020-05-23</td>\n",
       "      <td>Synapse Développement</td>\n",
       "      <td>3.0</td>\n",
       "      <td>0.0</td>\n",
       "      <td>Temps plein, CDI</td>\n",
       "      <td>Devenez Synapsien !Et si vous rejoigniez une é...</td>\n",
       "      <td>30000.0</td>\n",
       "      <td>35000.0</td>\n",
       "      <td>32500.0</td>\n",
       "      <td>31</td>\n",
       "      <td>business developer junior</td>\n",
       "      <td>['devenez', 'synapsien', 'rejoigniez', 'équipe...</td>\n",
       "      <td>['temps', 'plein', 'cdi']</td>\n",
       "      <td>0.0</td>\n",
       "      <td>1.0</td>\n",
       "      <td>0.0</td>\n",
       "      <td>1.0</td>\n",
       "      <td>0.0</td>\n",
       "      <td>0.0</td>\n",
       "      <td>Toulouse, Haute-Garonne, Occitanie, France mét...</td>\n",
       "      <td>(43.6044622, 1.4442469)</td>\n",
       "      <td>43.604462</td>\n",
       "      <td>1.444247</td>\n",
       "      <td>62.975609</td>\n",
       "      <td>Occitanie</td>\n",
       "      <td>[business, develop, junior, deven, synapsien, ...</td>\n",
       "    </tr>\n",
       "    <tr>\n",
       "      <th>4</th>\n",
       "      <td>Business Developer International – Éolien ?– E...</td>\n",
       "      <td>Gometz-la-Ville</td>\n",
       "      <td>2020-04-26</td>\n",
       "      <td>Uptoo</td>\n",
       "      <td>4.5</td>\n",
       "      <td>32.0</td>\n",
       "      <td>NaN</td>\n",
       "      <td>À PROPOS :Notre société créée en 2004 est lead...</td>\n",
       "      <td>50000.0</td>\n",
       "      <td>60000.0</td>\n",
       "      <td>55000.0</td>\n",
       "      <td>91</td>\n",
       "      <td>business developer international éolien europe...</td>\n",
       "      <td>['propos', 'société', 'créée', 'leader', 'mond...</td>\n",
       "      <td>['nan']</td>\n",
       "      <td>0.0</td>\n",
       "      <td>0.0</td>\n",
       "      <td>0.0</td>\n",
       "      <td>0.0</td>\n",
       "      <td>0.0</td>\n",
       "      <td>1.0</td>\n",
       "      <td>Gometz-la-Ville, Palaiseau, Essonne, Île-de-Fr...</td>\n",
       "      <td>(48.6718036, 2.1250543)</td>\n",
       "      <td>48.671804</td>\n",
       "      <td>2.125054</td>\n",
       "      <td>103.430226</td>\n",
       "      <td>Île-de-France</td>\n",
       "      <td>[business, develop, international, eolien, eur...</td>\n",
       "    </tr>\n",
       "  </tbody>\n",
       "</table>\n",
       "</div>"
      ],
      "text/plain": [
       "                                               Title          Location        Date                 Company  Rating  Count          Contract                                        Description  min_salary  max_salary  avg_salary  Dept                                        title_words                                      summary_words              contractWords  CDI  CDD  Freelance  Temps partiel  Temps plein  Type_Notknown                                            geocode                 lat-long        lat      long    lat*long           Region                                         BagOfWords\n",
       "0               Business Developer – Expert sécurité            Arras   2020-05-08                   Uptoo     4.5   32.0               NaN  À PROPOS :Bienvenue dans notre PME spécialiste...     27000.0     55000.0     41000.0    62                 business developer expert sécurité  ['propos', 'bienvenue', 'pme', 'spécialiste', ...                    ['nan']  0.0  0.0        0.0            0.0          0.0            1.0  Arras, Pas-de-Calais, Hauts-de-France, France ...   (50.291048, 2.7772211)  50.291048  2.777221  139.669360  Hauts-de-France  [business, develop, expert, secur, propos, bie...\n",
       "1                               Manager Big Data H/F            Paris   2020-04-26  Elitegroup Recruitment     3.0    0.0  Temps plein, CDI  Présentation de l'entreprise:Notre client est ...     55000.0     75000.0     65000.0    75                                   manager big data  ['présentation', 'entreprise', 'client', 'cabi...  ['temps', 'plein', 'cdi']  1.0  0.0        0.0            0.0          1.0            0.0  Paris, Île-de-France, France métropolitaine, F...  (48.8566969, 2.3514616)  48.856697  2.351462  114.884647    Île-de-France  [manag, big, dat, present, entrepris, client, ...\n",
       "2  Consultant(e) Business Intelligence (Power Bi)...            Lille   2020-05-15                   sumit     3.0    0.0  Temps plein, CDI  Chez sumit, nous ne voyons pas nos consultants...     30000.0     40000.0     35000.0    59             consultant business intelligence power  ['sumit', 'voyons', 'consultants', 'simple', '...  ['temps', 'plein', 'cdi']  1.0  0.0        0.0            0.0          1.0            0.0  Lille, Nord, Hauts-de-France, France métropoli...  (50.6365654, 3.0635282)  50.636565  3.063528  155.126546  Hauts-de-France  [consult, business, intelligent, pow, sum, voy...\n",
       "3                      Business Developer Junior H/F         Toulouse   2020-05-23   Synapse Développement     3.0    0.0  Temps plein, CDI  Devenez Synapsien !Et si vous rejoigniez une é...     30000.0     35000.0     32500.0    31                          business developer junior  ['devenez', 'synapsien', 'rejoigniez', 'équipe...  ['temps', 'plein', 'cdi']  0.0  1.0        0.0            1.0          0.0            0.0  Toulouse, Haute-Garonne, Occitanie, France mét...  (43.6044622, 1.4442469)  43.604462  1.444247   62.975609        Occitanie  [business, develop, junior, deven, synapsien, ...\n",
       "4  Business Developer International – Éolien ?– E...  Gometz-la-Ville   2020-04-26                   Uptoo     4.5   32.0               NaN  À PROPOS :Notre société créée en 2004 est lead...     50000.0     60000.0     55000.0    91  business developer international éolien europe...  ['propos', 'société', 'créée', 'leader', 'mond...                    ['nan']  0.0  0.0        0.0            0.0          0.0            1.0  Gometz-la-Ville, Palaiseau, Essonne, Île-de-Fr...  (48.6718036, 2.1250543)  48.671804  2.125054  103.430226    Île-de-France  [business, develop, international, eolien, eur..."
      ]
     },
     "execution_count": 71,
     "metadata": {},
     "output_type": "execute_result"
    }
   ],
   "source": [
    "df_salary.head()"
   ]
  },
  {
   "cell_type": "markdown",
   "metadata": {},
   "source": [
    "We're gonna need to change column \"Ratin\" by replacing , separator by ."
   ]
  },
  {
   "cell_type": "code",
   "execution_count": 5,
   "metadata": {},
   "outputs": [],
   "source": [
    "df_salary['Rating'] = df_salary['Rating'].str.replace(',','.')"
   ]
  },
  {
   "cell_type": "code",
   "execution_count": 70,
   "metadata": {},
   "outputs": [],
   "source": [
    "df_salary.Rating = df_salary.Rating.astype(float)\n",
    "df_salary.Dept = df_salary.Dept.astype(int)"
   ]
  },
  {
   "cell_type": "markdown",
   "metadata": {},
   "source": [
    "Adapting column type so we can work on it"
   ]
  },
  {
   "cell_type": "code",
   "execution_count": 6,
   "metadata": {},
   "outputs": [],
   "source": [
    "df_salary['lat*long'] = df_salary['lat']*df_salary['long']"
   ]
  },
  {
   "cell_type": "markdown",
   "metadata": {},
   "source": [
    "## Regions features"
   ]
  },
  {
   "cell_type": "code",
   "execution_count": 7,
   "metadata": {},
   "outputs": [],
   "source": [
    "REGIONS = {\n",
    "    'Auvergne-Rhône-Alpes': [1, 3, 7, 15, 26, 38, 42, 43, 63, 69, 73, 74],\n",
    "    'Bourgogne-Franche-Comté': [21, 25, 39, 58, 70, 71, 89, 90],\n",
    "    'Bretagne': [35, 22, 56, 29],\n",
    "    'Centre-Val de Loire': [18, 28, 36, 37, 41, 45],\n",
    "    'Corse': [2],\n",
    "    'Grand Est': [8, 10, 51, 52, 54, 55, 57, 67, 68, 88],\n",
    "    'Dom': [971, 972, 973, 974],\n",
    "    'Hauts-de-France': [2, 59, 60, 62, 80],\n",
    "    'Île-de-France': [75, 77, 78, 91, 92, 93, 94, 95],\n",
    "    'Normandie': [14, 27, 50, 61, 76],\n",
    "    'Nouvelle-Aquitaine': [16, 17, 19, 23, 24, 33, 40, 47, 64, 79, 86, 87],\n",
    "    'Occitanie': [9, 11, 12, 30, 31, 32, 34, 46, 48, 65, 66, 81, 82],\n",
    "    'Pays de la Loire': [44, 49, 53, 72, 85],\n",
    "    \"Provence-Alpes-Côte d'Azur\": [4, 5, 6, 13, 83, 84]\n",
    "}"
   ]
  },
  {
   "cell_type": "code",
   "execution_count": 8,
   "metadata": {},
   "outputs": [],
   "source": [
    "regions = {}\n",
    "for k, v in REGIONS.items():\n",
    "    for x in v:\n",
    "        regions[x] = k"
   ]
  },
  {
   "cell_type": "code",
   "execution_count": 9,
   "metadata": {},
   "outputs": [],
   "source": [
    "df_salary['Region'] = df_salary.Dept.map(regions)"
   ]
  },
  {
   "cell_type": "markdown",
   "metadata": {},
   "source": [
    "Region column creation to try to get more feature"
   ]
  },
  {
   "cell_type": "code",
   "execution_count": 12,
   "metadata": {},
   "outputs": [],
   "source": [
    "import re\n",
    "def parse_text(text): # Function that allow us to get rid of wods we don't want in both french and english ('and','et''h/f', etc..)\n",
    "    import unidecode\n",
    "    text = tokenizer.tokenize(text.lower())\n",
    "    text = [word for word in text if not word in stop_fr]\n",
    "    text = [word for word in text if not word in stop_uk]\n",
    "    text = [word for word in text if not word in stop_spacy_fr]\n",
    "    text = [word for word in text if not word in ['euse']]\n",
    "    text = [stemmer.stem(word) for word in text]\n",
    "    text = [re.sub(\"\\d+\", \"\", word) for word in text]\n",
    "    text = [unidecode.unidecode(word) for word in text]\n",
    "    # get unique locations\n",
    "    uniqueLocation=list(df_salary.Location.unique())\n",
    "    uniqueLocation=[x.lower() for x in uniqueLocation]\n",
    "    text = [word for word in text if not any(word in s for s in uniqueLocation)]\n",
    "    return text\n",
    "\n",
    "def concatExtractedWords(title,summary):\n",
    "    concatWords=parse_text(title)+parse_text(summary)\n",
    "    #concatWords.append(parse_text(title,location))\n",
    "    #concatWords.append(parse_text(summary,location))\n",
    "    #print(concatWords)\n",
    "    return concatWords"
   ]
  },
  {
   "cell_type": "markdown",
   "metadata": {},
   "source": [
    "Function that allow us to get rid of words we don't want in both french and english ('and','et''h/f', etc..)"
   ]
  },
  {
   "cell_type": "code",
   "execution_count": 13,
   "metadata": {},
   "outputs": [],
   "source": [
    "df_salary['BagOfWords'] = df_salary.apply(lambda x: concatExtractedWords(x.Title, x.Description), axis=1)"
   ]
  },
  {
   "cell_type": "markdown",
   "metadata": {},
   "source": [
    "'BagOfWords' NLP column to get more features and see if we could get good results with that"
   ]
  },
  {
   "cell_type": "code",
   "execution_count": 14,
   "metadata": {},
   "outputs": [],
   "source": [
    "def prepare_corpus(doc):\n",
    "    \"\"\"\n",
    "    Input  : cleaned documents\n",
    "    Purpose: create term dictionary of corpus and convert it into Document Term Matrix\n",
    "    Output : term dictionary and Document Term Matrix\n",
    "    \"\"\"\n",
    "    # create a new document-term matrix using only nouns and adjectives, also remove common words with max_df\n",
    "    cvna = CountVectorizer(tokenizer=parse_text, ngram_range=(\n",
    "        1, 3), stop_words=stop_fr, strip_accents='ascii', max_df=.8)\n",
    "    data_cvna = cvna.fit_transform(doc)\n",
    "    data_dtmna = pd.DataFrame(\n",
    "        data_cvna.toarray(), columns=cvna.get_feature_names())\n",
    "    \n",
    "    # create the term_document matrix\n",
    "    doc_term_matrix = matutils.Sparse2Corpus(\n",
    "        scipy.sparse.csr_matrix(data_dtmna.transpose()))\n",
    "    \n",
    "    # create the vocabulary dictionary\n",
    "    dictionary = dict((v, k) for k, v in cvna.vocabulary_.items())\n",
    "\n",
    "    return dictionary, doc_term_matrix"
   ]
  },
  {
   "cell_type": "markdown",
   "metadata": {},
   "source": [
    "## LSA features"
   ]
  },
  {
   "cell_type": "code",
   "execution_count": 15,
   "metadata": {},
   "outputs": [],
   "source": [
    "# that we have the term_document matrix we can run the lsa\n",
    "\n",
    "import re\n",
    "def create_gensim_lsa_model(docs, number_of_topics, chunk=2000):\n",
    "    \"\"\"\n",
    "    Input  : cleaned documents, number of topics and number of chunk per topic\n",
    "    Purpose: create LSA model using gensim\n",
    "    Output : return LSA model\n",
    "    \"\"\"\n",
    "    dictionary, doc_term_matrix = prepare_corpus(docs)\n",
    "    \n",
    "    lsamodel = LsiModel(doc_term_matrix, num_topics=number_of_topics,\n",
    "                        id2word=dictionary, chunksize=chunk)\n",
    "    \n",
    "    return lsamodel, doc_term_matrix"
   ]
  },
  {
   "cell_type": "code",
   "execution_count": 16,
   "metadata": {},
   "outputs": [],
   "source": [
    "number_of_topics=5\n",
    "lsa, doc_term_matrix=create_gensim_lsa_model(df_salary['Title'],number_of_topics)"
   ]
  },
  {
   "cell_type": "markdown",
   "metadata": {},
   "source": [
    "After some tries, we choose 5 as number of topics because it seems to get better results than other numbers"
   ]
  },
  {
   "cell_type": "code",
   "execution_count": 19,
   "metadata": {},
   "outputs": [
    {
     "data": {
      "text/plain": [
       "[(0,\n",
       "  '0.644*\"dat\" + 0.422*\"developpeur\" + 0.319*\"engine\" + 0.200*\"dat engine\" + 0.137*\"big\" + 0.137*\"big dat\" + 0.111*\"web\" + 0.108*\"senior\" + 0.106*\"analyst\" + 0.106*\"ingenieur\"'),\n",
       " (1,\n",
       "  '0.628*\"developpeur\" + -0.407*\"dat\" + -0.240*\"engine\" + 0.208*\"web\" + 0.195*\"stack\" + 0.195*\"full stack\" + 0.195*\"full\" + 0.178*\"developpeur web\" + -0.162*\"dat engine\" + 0.144*\"end\"'),\n",
       " (2,\n",
       "  '0.652*\"ingenieur\" + 0.623*\"devop\" + 0.249*\"ingenieur devop\" + 0.131*\"freelanc\" + -0.128*\"dat\" + 0.109*\"system\" + 0.098*\"developp\" + 0.088*\"ingenieur system\" + -0.058*\"dat engine\" + 0.055*\"ingenieur developp\"'),\n",
       " (3,\n",
       "  '0.663*\"engine\" + -0.300*\"dat\" + 0.243*\"softwar\" + 0.228*\"softwar engine\" + 0.212*\"dat engine\" + -0.179*\"analyst\" + -0.176*\"big dat\" + -0.176*\"big\" + 0.140*\"full\" + -0.134*\"dat analyst\"'),\n",
       " (4,\n",
       "  '-0.393*\"full\" + -0.393*\"full stack\" + -0.393*\"stack\" + 0.304*\"end\" + -0.237*\"developpeur full\" + -0.237*\"developpeur full stack\" + 0.188*\"developpeur\" + 0.171*\"front\" + 0.161*\"front end\" + 0.159*\"engine\"')]"
      ]
     },
     "execution_count": 19,
     "metadata": {},
     "output_type": "execute_result"
    }
   ],
   "source": [
    "lsa.print_topics() #Show topics that your LSA function returned"
   ]
  },
  {
   "cell_type": "code",
   "execution_count": 20,
   "metadata": {},
   "outputs": [],
   "source": [
    "# look at which topics each row contains\n",
    "corpus_transformed = lsa[doc_term_matrix]"
   ]
  },
  {
   "cell_type": "code",
   "execution_count": 21,
   "metadata": {},
   "outputs": [],
   "source": [
    "# transform the result into numpy array to get the score for each title \n",
    "all_topics_csr = matutils.corpus2csc(corpus_transformed)\n",
    "all_topics_numpy = all_topics_csr.T.toarray()"
   ]
  },
  {
   "cell_type": "code",
   "execution_count": 22,
   "metadata": {},
   "outputs": [
    {
     "data": {
      "text/html": [
       "<div>\n",
       "<style scoped>\n",
       "    .dataframe tbody tr th:only-of-type {\n",
       "        vertical-align: middle;\n",
       "    }\n",
       "\n",
       "    .dataframe tbody tr th {\n",
       "        vertical-align: top;\n",
       "    }\n",
       "\n",
       "    .dataframe thead th {\n",
       "        text-align: right;\n",
       "    }\n",
       "</style>\n",
       "<table border=\"1\" class=\"dataframe\">\n",
       "  <thead>\n",
       "    <tr style=\"text-align: right;\">\n",
       "      <th></th>\n",
       "      <th>lsa1</th>\n",
       "      <th>lsa2</th>\n",
       "      <th>lsa3</th>\n",
       "      <th>lsa4</th>\n",
       "      <th>lsa5</th>\n",
       "    </tr>\n",
       "  </thead>\n",
       "  <tbody>\n",
       "    <tr>\n",
       "      <th>0</th>\n",
       "      <td>0.040579</td>\n",
       "      <td>0.012271</td>\n",
       "      <td>0.037464</td>\n",
       "      <td>-0.015579</td>\n",
       "      <td>-0.033157</td>\n",
       "    </tr>\n",
       "    <tr>\n",
       "      <th>1</th>\n",
       "      <td>0.958691</td>\n",
       "      <td>-0.516990</td>\n",
       "      <td>-0.128322</td>\n",
       "      <td>-0.695121</td>\n",
       "      <td>-0.139765</td>\n",
       "    </tr>\n",
       "  </tbody>\n",
       "</table>\n",
       "</div>"
      ],
      "text/plain": [
       "       lsa1      lsa2      lsa3      lsa4      lsa5\n",
       "0  0.040579  0.012271  0.037464 -0.015579 -0.033157\n",
       "1  0.958691 -0.516990 -0.128322 -0.695121 -0.139765"
      ]
     },
     "execution_count": 22,
     "metadata": {},
     "output_type": "execute_result"
    }
   ],
   "source": [
    "Lsa_Topic = pd.DataFrame(all_topics_numpy, index=df_salary.index, columns=[\n",
    "                         'lsa1', 'lsa2', 'lsa3', 'lsa4', 'lsa5'])\n",
    "Lsa_Topic.head(2)\n",
    "# our brand new features"
   ]
  },
  {
   "cell_type": "markdown",
   "metadata": {},
   "source": [
    "## LDA features"
   ]
  },
  {
   "cell_type": "code",
   "execution_count": 24,
   "metadata": {},
   "outputs": [],
   "source": [
    "def create_gensim_lda_model(docs, number_of_topics, passe=20, iters=100, chunk=2000,):\n",
    "    \"\"\"\n",
    "    Input  : clean document, number of topics and number of iteration, chunks, passes to use \n",
    "    Purpose: create LSA model using gensim\n",
    "    Output : return LSA model\n",
    "    \"\"\"\n",
    "    dictionary, doc_term_matrix = prepare_corpus(docs)\n",
    "    # generate LDA model\n",
    "    ldamodel = models.LdaModel(corpus=doc_term_matrix, id2word=dictionary, num_topics=number_of_topics,\n",
    "                               iterations=iters, passes=passe, chunksize=chunk, random_state=1)\n",
    "    \n",
    "    return ldamodel, doc_term_matrix"
   ]
  },
  {
   "cell_type": "code",
   "execution_count": 25,
   "metadata": {},
   "outputs": [
    {
     "data": {
      "text/plain": [
       "[(0,\n",
       "  '0.040*\"analyst\" + 0.023*\"dat\" + 0.021*\"dat analyst\" + 0.015*\"ingenieur\" + 0.010*\"consult\" + 0.007*\"projet\" + 0.007*\"developp\" + 0.007*\"senior\" + 0.006*\"business\" + 0.006*\"chef projet\"'),\n",
       " (1,\n",
       "  '0.019*\"ingenieur\" + 0.017*\"engine\" + 0.014*\"softwar engine\" + 0.014*\"softwar\" + 0.011*\"jav\" + 0.011*\"developpeur\" + 0.009*\"fullstack\" + 0.009*\"python\" + 0.007*\"developp\" + 0.007*\"php\"'),\n",
       " (2,\n",
       "  '0.063*\"dat\" + 0.030*\"engine\" + 0.026*\"dat engine\" + 0.013*\"big dat\" + 0.013*\"big\" + 0.013*\"dat scientist\" + 0.013*\"scientist\" + 0.010*\"consult\" + 0.010*\"front\" + 0.009*\"developpeur\"'),\n",
       " (3,\n",
       "  '0.056*\"developpeur\" + 0.025*\"web\" + 0.023*\"developpeur web\" + 0.022*\"full stack\" + 0.022*\"stack\" + 0.021*\"full\" + 0.014*\"end\" + 0.012*\"back\" + 0.012*\"developpeur full stack\" + 0.012*\"developpeur full\"'),\n",
       " (4,\n",
       "  '0.055*\"devop\" + 0.028*\"ingenieur\" + 0.022*\"developpeur\" + 0.016*\"ingenieur devop\" + 0.011*\"dat\" + 0.011*\"architect\" + 0.011*\"engine\" + 0.009*\"system\" + 0.008*\"lead\" + 0.008*\"net\"')]"
      ]
     },
     "execution_count": 25,
     "metadata": {},
     "output_type": "execute_result"
    }
   ],
   "source": [
    "num_of_topics = 5\n",
    "lda, doc_term_matrixx = create_gensim_lda_model(\n",
    "    df_salary['Title'], num_of_topics)\n",
    "lda.print_topics()"
   ]
  },
  {
   "cell_type": "code",
   "execution_count": 26,
   "metadata": {},
   "outputs": [],
   "source": [
    "corpus_transformedd = lda[doc_term_matrixx]"
   ]
  },
  {
   "cell_type": "code",
   "execution_count": 27,
   "metadata": {},
   "outputs": [],
   "source": [
    "all_topics_cs = matutils.corpus2csc(corpus_transformedd)\n",
    "all_topics_np = all_topics_cs.T.toarray()"
   ]
  },
  {
   "cell_type": "code",
   "execution_count": 28,
   "metadata": {},
   "outputs": [
    {
     "data": {
      "text/html": [
       "<div>\n",
       "<style scoped>\n",
       "    .dataframe tbody tr th:only-of-type {\n",
       "        vertical-align: middle;\n",
       "    }\n",
       "\n",
       "    .dataframe tbody tr th {\n",
       "        vertical-align: top;\n",
       "    }\n",
       "\n",
       "    .dataframe thead th {\n",
       "        text-align: right;\n",
       "    }\n",
       "</style>\n",
       "<table border=\"1\" class=\"dataframe\">\n",
       "  <thead>\n",
       "    <tr style=\"text-align: right;\">\n",
       "      <th></th>\n",
       "      <th>lda1</th>\n",
       "      <th>lda2</th>\n",
       "      <th>lda3</th>\n",
       "      <th>lda4</th>\n",
       "      <th>lda5</th>\n",
       "    </tr>\n",
       "  </thead>\n",
       "  <tbody>\n",
       "    <tr>\n",
       "      <th>0</th>\n",
       "      <td>0.020639</td>\n",
       "      <td>0.020160</td>\n",
       "      <td>0.918919</td>\n",
       "      <td>0.020025</td>\n",
       "      <td>0.020257</td>\n",
       "    </tr>\n",
       "    <tr>\n",
       "      <th>1</th>\n",
       "      <td>0.028622</td>\n",
       "      <td>0.028635</td>\n",
       "      <td>0.885421</td>\n",
       "      <td>0.028579</td>\n",
       "      <td>0.028743</td>\n",
       "    </tr>\n",
       "  </tbody>\n",
       "</table>\n",
       "</div>"
      ],
      "text/plain": [
       "       lda1      lda2      lda3      lda4      lda5\n",
       "0  0.020639  0.020160  0.918919  0.020025  0.020257\n",
       "1  0.028622  0.028635  0.885421  0.028579  0.028743"
      ]
     },
     "execution_count": 28,
     "metadata": {},
     "output_type": "execute_result"
    }
   ],
   "source": [
    "Lda_Topic = pd.DataFrame(all_topics_np, index=df_salary.index, columns=[\n",
    "                         'lda1', 'lda2', 'lda3', 'lda4', 'lda5'])\n",
    "Lda_Topic.head(2)\n",
    "# our brand new features"
   ]
  },
  {
   "cell_type": "code",
   "execution_count": 29,
   "metadata": {},
   "outputs": [
    {
     "data": {
      "text/html": [
       "<div>\n",
       "<style scoped>\n",
       "    .dataframe tbody tr th:only-of-type {\n",
       "        vertical-align: middle;\n",
       "    }\n",
       "\n",
       "    .dataframe tbody tr th {\n",
       "        vertical-align: top;\n",
       "    }\n",
       "\n",
       "    .dataframe thead th {\n",
       "        text-align: right;\n",
       "    }\n",
       "</style>\n",
       "<table border=\"1\" class=\"dataframe\">\n",
       "  <thead>\n",
       "    <tr style=\"text-align: right;\">\n",
       "      <th></th>\n",
       "      <th>Title</th>\n",
       "      <th>Location</th>\n",
       "      <th>Date</th>\n",
       "      <th>Company</th>\n",
       "      <th>Rating</th>\n",
       "      <th>Count</th>\n",
       "      <th>Contract</th>\n",
       "      <th>Description</th>\n",
       "      <th>min_salary</th>\n",
       "      <th>max_salary</th>\n",
       "      <th>avg_salary</th>\n",
       "      <th>Dept</th>\n",
       "      <th>title_words</th>\n",
       "      <th>summary_words</th>\n",
       "      <th>contractWords</th>\n",
       "      <th>CDI</th>\n",
       "      <th>CDD</th>\n",
       "      <th>Freelance</th>\n",
       "      <th>Temps partiel</th>\n",
       "      <th>Temps plein</th>\n",
       "      <th>Type_Notknown</th>\n",
       "      <th>geocode</th>\n",
       "      <th>lat-long</th>\n",
       "      <th>lat</th>\n",
       "      <th>long</th>\n",
       "      <th>lat*long</th>\n",
       "      <th>Region</th>\n",
       "      <th>BagOfWords</th>\n",
       "      <th>lsa1</th>\n",
       "      <th>lsa2</th>\n",
       "      <th>lsa3</th>\n",
       "      <th>lsa4</th>\n",
       "      <th>lsa5</th>\n",
       "      <th>lda1</th>\n",
       "      <th>lda2</th>\n",
       "      <th>lda3</th>\n",
       "      <th>lda4</th>\n",
       "      <th>lda5</th>\n",
       "    </tr>\n",
       "  </thead>\n",
       "  <tbody>\n",
       "    <tr>\n",
       "      <th>0</th>\n",
       "      <td>Business Developer – Expert sécurité</td>\n",
       "      <td>Arras</td>\n",
       "      <td>2020-05-08</td>\n",
       "      <td>Uptoo</td>\n",
       "      <td>4.5</td>\n",
       "      <td>32.0</td>\n",
       "      <td>NaN</td>\n",
       "      <td>À PROPOS :Bienvenue dans notre PME spécialiste...</td>\n",
       "      <td>27000.0</td>\n",
       "      <td>55000.0</td>\n",
       "      <td>41000.0</td>\n",
       "      <td>62.0</td>\n",
       "      <td>business developer expert sécurité</td>\n",
       "      <td>['propos', 'bienvenue', 'pme', 'spécialiste', ...</td>\n",
       "      <td>['nan']</td>\n",
       "      <td>0.0</td>\n",
       "      <td>0.0</td>\n",
       "      <td>0.0</td>\n",
       "      <td>0.0</td>\n",
       "      <td>0.0</td>\n",
       "      <td>1.0</td>\n",
       "      <td>Arras, Pas-de-Calais, Hauts-de-France, France ...</td>\n",
       "      <td>(50.291048, 2.7772211)</td>\n",
       "      <td>50.291048</td>\n",
       "      <td>2.777221</td>\n",
       "      <td>139.669360</td>\n",
       "      <td>Hauts-de-France</td>\n",
       "      <td>[business, develop, expert, secur, propos, bie...</td>\n",
       "      <td>0.040579</td>\n",
       "      <td>0.012271</td>\n",
       "      <td>0.037464</td>\n",
       "      <td>-0.015579</td>\n",
       "      <td>-0.033157</td>\n",
       "      <td>0.020639</td>\n",
       "      <td>0.020160</td>\n",
       "      <td>0.918919</td>\n",
       "      <td>0.020025</td>\n",
       "      <td>0.020257</td>\n",
       "    </tr>\n",
       "    <tr>\n",
       "      <th>1</th>\n",
       "      <td>Manager Big Data H/F</td>\n",
       "      <td>Paris</td>\n",
       "      <td>2020-04-26</td>\n",
       "      <td>Elitegroup Recruitment</td>\n",
       "      <td>3</td>\n",
       "      <td>0.0</td>\n",
       "      <td>Temps plein, CDI</td>\n",
       "      <td>Présentation de l'entreprise:Notre client est ...</td>\n",
       "      <td>55000.0</td>\n",
       "      <td>75000.0</td>\n",
       "      <td>65000.0</td>\n",
       "      <td>75.0</td>\n",
       "      <td>manager big data</td>\n",
       "      <td>['présentation', 'entreprise', 'client', 'cabi...</td>\n",
       "      <td>['temps', 'plein', 'cdi']</td>\n",
       "      <td>1.0</td>\n",
       "      <td>0.0</td>\n",
       "      <td>0.0</td>\n",
       "      <td>0.0</td>\n",
       "      <td>1.0</td>\n",
       "      <td>0.0</td>\n",
       "      <td>Paris, Île-de-France, France métropolitaine, F...</td>\n",
       "      <td>(48.8566969, 2.3514616)</td>\n",
       "      <td>48.856697</td>\n",
       "      <td>2.351462</td>\n",
       "      <td>114.884647</td>\n",
       "      <td>Île-de-France</td>\n",
       "      <td>[manag, big, dat, present, entrepris, client, ...</td>\n",
       "      <td>0.958691</td>\n",
       "      <td>-0.516990</td>\n",
       "      <td>-0.128322</td>\n",
       "      <td>-0.695121</td>\n",
       "      <td>-0.139765</td>\n",
       "      <td>0.028622</td>\n",
       "      <td>0.028635</td>\n",
       "      <td>0.885421</td>\n",
       "      <td>0.028579</td>\n",
       "      <td>0.028743</td>\n",
       "    </tr>\n",
       "  </tbody>\n",
       "</table>\n",
       "</div>"
      ],
      "text/plain": [
       "                                  Title Location        Date                 Company Rating  Count          Contract                                        Description  min_salary  max_salary  avg_salary  Dept                         title_words                                      summary_words              contractWords  CDI  CDD  Freelance  Temps partiel  Temps plein  Type_Notknown                                            geocode                 lat-long        lat      long    lat*long           Region                                         BagOfWords      lsa1      lsa2      lsa3      lsa4      lsa5      lda1      lda2      lda3      lda4      lda5\n",
       "0  Business Developer – Expert sécurité   Arras   2020-05-08                   Uptoo    4.5   32.0               NaN  À PROPOS :Bienvenue dans notre PME spécialiste...     27000.0     55000.0     41000.0  62.0  business developer expert sécurité  ['propos', 'bienvenue', 'pme', 'spécialiste', ...                    ['nan']  0.0  0.0        0.0            0.0          0.0            1.0  Arras, Pas-de-Calais, Hauts-de-France, France ...   (50.291048, 2.7772211)  50.291048  2.777221  139.669360  Hauts-de-France  [business, develop, expert, secur, propos, bie...  0.040579  0.012271  0.037464 -0.015579 -0.033157  0.020639  0.020160  0.918919  0.020025  0.020257\n",
       "1                  Manager Big Data H/F   Paris   2020-04-26  Elitegroup Recruitment      3    0.0  Temps plein, CDI  Présentation de l'entreprise:Notre client est ...     55000.0     75000.0     65000.0  75.0                    manager big data  ['présentation', 'entreprise', 'client', 'cabi...  ['temps', 'plein', 'cdi']  1.0  0.0        0.0            0.0          1.0            0.0  Paris, Île-de-France, France métropolitaine, F...  (48.8566969, 2.3514616)  48.856697  2.351462  114.884647    Île-de-France  [manag, big, dat, present, entrepris, client, ...  0.958691 -0.516990 -0.128322 -0.695121 -0.139765  0.028622  0.028635  0.885421  0.028579  0.028743"
      ]
     },
     "execution_count": 29,
     "metadata": {},
     "output_type": "execute_result"
    }
   ],
   "source": [
    "df_salaryy = pd.concat([df_salary, Lsa_Topic, Lda_Topic], axis=1)\n",
    "df_salaryy.head(2)"
   ]
  },
  {
   "cell_type": "markdown",
   "metadata": {},
   "source": [
    "## Contract feature"
   ]
  },
  {
   "cell_type": "code",
   "execution_count": 30,
   "metadata": {},
   "outputs": [],
   "source": [
    "dic = {'CDI': ['cdi'], 'CDD': ['cdd','stage', 'apprentissage', 'contrat pro', 'intérim'], \n",
    "       'Freelance': ['freelance', 'indépendant'],\n",
    "       'Temps partiel': ['temps', 'partiel'], 'Temps plein': ['temps', 'plein'], \n",
    "       'Unknown': ['nan']}"
   ]
  },
  {
   "cell_type": "code",
   "execution_count": 31,
   "metadata": {},
   "outputs": [],
   "source": [
    "import nltk\n",
    "tokenizer = nltk.RegexpTokenizer(r'\\w+')\n",
    "def parseContract(x):\n",
    "    text=str(x)\n",
    "    # tokenize the text\n",
    "    text = tokenizer.tokenize(text.lower())\n",
    "    # delete not chars\n",
    "    text=[word for word in text if word.isalpha()]\n",
    "    # keep words with length more than 2 chars\n",
    "    text=[word for word in text if len(word)>2]\n",
    "    return text"
   ]
  },
  {
   "cell_type": "markdown",
   "metadata": {},
   "source": [
    "Function to parse 'contract' column and get rid of words we don't need"
   ]
  },
  {
   "cell_type": "code",
   "execution_count": 32,
   "metadata": {},
   "outputs": [
    {
     "data": {
      "text/plain": [
       "0                  [nan]\n",
       "1    [temps, plein, cdi]\n",
       "2    [temps, plein, cdi]\n",
       "3    [temps, plein, cdi]\n",
       "4                  [nan]\n",
       "Name: contractWords, dtype: object"
      ]
     },
     "execution_count": 32,
     "metadata": {},
     "output_type": "execute_result"
    }
   ],
   "source": [
    "df_salaryy['contractWords']= df_salaryy.apply(lambda x: parseContract(x.Contract), axis=1)\n",
    "df_salaryy['contractWords'].head(5)"
   ]
  },
  {
   "cell_type": "code",
   "execution_count": 33,
   "metadata": {},
   "outputs": [],
   "source": [
    "def FindJobType(x, desc):\n",
    "    # mapping function to the correct job type\n",
    "    if len(desc) <= 2:\n",
    "        # check if the job type is totaly included in the contract\n",
    "        if all(item in x for item in desc):\n",
    "            return 1\n",
    "        else:\n",
    "            return 0\n",
    "    # if the job type is cdd, then we verify that there is at least one description of it in the contract\n",
    "    elif any(w in desc for w in x):\n",
    "        return 1\n",
    "    else:\n",
    "        return 0"
   ]
  },
  {
   "cell_type": "code",
   "execution_count": 34,
   "metadata": {},
   "outputs": [],
   "source": [
    "def DummyJobType(df,Dec):\n",
    "    for Jtype,desc in Dec.items():\n",
    "        for index ,row in df.iterrows():\n",
    "            df.at[index, Jtype]=FindJobType(row['contractWords'],desc)\n",
    "    return df"
   ]
  },
  {
   "cell_type": "code",
   "execution_count": 35,
   "metadata": {},
   "outputs": [],
   "source": [
    "df_salaryy = DummyJobType(df_salaryy, dic)"
   ]
  },
  {
   "cell_type": "markdown",
   "metadata": {},
   "source": [
    "# -------------------Modeling / Machine Learning -------------------"
   ]
  },
  {
   "cell_type": "markdown",
   "metadata": {},
   "source": [
    "Getting our predictors and target"
   ]
  },
  {
   "cell_type": "code",
   "execution_count": 205,
   "metadata": {},
   "outputs": [],
   "source": [
    "X = df_salaryy[['Rating', 'CDI', 'CDD', 'Freelance', 'Temps partiel', 'Temps plein', 'Unknown',\n",
    "                'Count','Dept', 'lat', 'lat*long', 'long', 'lsa1', 'lsa2', 'lsa3', 'lsa4', 'lsa5',\n",
    "                'lda1', 'lda2', 'lda3', 'lda4', 'lda5']]\n",
    "y = df_salaryy['avg_salary']"
   ]
  },
  {
   "cell_type": "code",
   "execution_count": 169,
   "metadata": {},
   "outputs": [],
   "source": [
    "X.Rating = X.Rating.astype(float)"
   ]
  },
  {
   "cell_type": "code",
   "execution_count": 186,
   "metadata": {},
   "outputs": [
    {
     "data": {
      "text/html": [
       "<div>\n",
       "<style scoped>\n",
       "    .dataframe tbody tr th:only-of-type {\n",
       "        vertical-align: middle;\n",
       "    }\n",
       "\n",
       "    .dataframe tbody tr th {\n",
       "        vertical-align: top;\n",
       "    }\n",
       "\n",
       "    .dataframe thead th {\n",
       "        text-align: right;\n",
       "    }\n",
       "</style>\n",
       "<table border=\"1\" class=\"dataframe\">\n",
       "  <thead>\n",
       "    <tr style=\"text-align: right;\">\n",
       "      <th></th>\n",
       "      <th>Title</th>\n",
       "      <th>Location</th>\n",
       "      <th>Date</th>\n",
       "      <th>Company</th>\n",
       "      <th>Rating</th>\n",
       "      <th>Count</th>\n",
       "      <th>Contract</th>\n",
       "      <th>Description</th>\n",
       "      <th>min_salary</th>\n",
       "      <th>max_salary</th>\n",
       "      <th>avg_salary</th>\n",
       "      <th>Dept</th>\n",
       "      <th>title_words</th>\n",
       "      <th>summary_words</th>\n",
       "      <th>contractWords</th>\n",
       "      <th>CDI</th>\n",
       "      <th>CDD</th>\n",
       "      <th>Freelance</th>\n",
       "      <th>Temps partiel</th>\n",
       "      <th>Temps plein</th>\n",
       "      <th>Unknown</th>\n",
       "      <th>lat-long</th>\n",
       "      <th>lat</th>\n",
       "      <th>long</th>\n",
       "      <th>lat*long</th>\n",
       "      <th>Regions</th>\n",
       "      <th>BagOfWords</th>\n",
       "      <th>lsa1</th>\n",
       "      <th>lsa2</th>\n",
       "      <th>lsa3</th>\n",
       "      <th>lsa4</th>\n",
       "      <th>lsa5</th>\n",
       "      <th>lda1</th>\n",
       "      <th>lda2</th>\n",
       "      <th>lda3</th>\n",
       "      <th>lda4</th>\n",
       "      <th>lda5</th>\n",
       "      <th>nmf1</th>\n",
       "      <th>nmf2</th>\n",
       "      <th>nmf3</th>\n",
       "      <th>nmf4</th>\n",
       "      <th>nmf5</th>\n",
       "    </tr>\n",
       "  </thead>\n",
       "  <tbody>\n",
       "    <tr>\n",
       "      <th>0</th>\n",
       "      <td>Business Developer – Expert sécurité</td>\n",
       "      <td>Arras</td>\n",
       "      <td>2020-05-11</td>\n",
       "      <td>Uptoo</td>\n",
       "      <td>4.5</td>\n",
       "      <td>32.0</td>\n",
       "      <td>Non renseigné</td>\n",
       "      <td>À PROPOS :Bienvenue dans notre PME spécialiste...</td>\n",
       "      <td>27000.0</td>\n",
       "      <td>55000.0</td>\n",
       "      <td>41000.0</td>\n",
       "      <td>62.0</td>\n",
       "      <td>business developer expert sécurité</td>\n",
       "      <td>['propos', 'bienvenue', 'pme', 'spécialiste', ...</td>\n",
       "      <td>['nan']</td>\n",
       "      <td>0.0</td>\n",
       "      <td>0.0</td>\n",
       "      <td>0.0</td>\n",
       "      <td>0.0</td>\n",
       "      <td>0.0</td>\n",
       "      <td>1.0</td>\n",
       "      <td>(50.291048, 2.7772211)</td>\n",
       "      <td>50.291048</td>\n",
       "      <td>2.777221</td>\n",
       "      <td>139.669360</td>\n",
       "      <td>Île-de-France</td>\n",
       "      <td>['business', 'develop', 'expert', 'secur', 'pr...</td>\n",
       "      <td>0.045003</td>\n",
       "      <td>0.031446</td>\n",
       "      <td>-0.069163</td>\n",
       "      <td>0.016583</td>\n",
       "      <td>0.324242</td>\n",
       "      <td>0.020423</td>\n",
       "      <td>0.020527</td>\n",
       "      <td>0.413644</td>\n",
       "      <td>0.136369</td>\n",
       "      <td>0.409036</td>\n",
       "      <td>0.040193</td>\n",
       "      <td>0.001115</td>\n",
       "      <td>0.000000</td>\n",
       "      <td>0.007555</td>\n",
       "      <td>0.001401</td>\n",
       "    </tr>\n",
       "    <tr>\n",
       "      <th>1</th>\n",
       "      <td>Manager Big Data H/F</td>\n",
       "      <td>Paris</td>\n",
       "      <td>2020-04-29</td>\n",
       "      <td>Elitegroup Recruitment</td>\n",
       "      <td>3.0</td>\n",
       "      <td>0.0</td>\n",
       "      <td>Temps plein, CDI</td>\n",
       "      <td>Présentation de l'entreprise:Notre client est ...</td>\n",
       "      <td>55000.0</td>\n",
       "      <td>75000.0</td>\n",
       "      <td>65000.0</td>\n",
       "      <td>75.0</td>\n",
       "      <td>manager big data</td>\n",
       "      <td>['présentation', 'entreprise', 'client', 'cabi...</td>\n",
       "      <td>['temps', 'plein', 'cdi']</td>\n",
       "      <td>1.0</td>\n",
       "      <td>0.0</td>\n",
       "      <td>0.0</td>\n",
       "      <td>0.0</td>\n",
       "      <td>1.0</td>\n",
       "      <td>0.0</td>\n",
       "      <td>(48.8566969, 2.3514616)</td>\n",
       "      <td>48.856697</td>\n",
       "      <td>2.351462</td>\n",
       "      <td>114.884647</td>\n",
       "      <td>Île-de-France</td>\n",
       "      <td>['manag', 'big', 'dat', 'present', 'entrepris'...</td>\n",
       "      <td>1.108354</td>\n",
       "      <td>-0.038272</td>\n",
       "      <td>-0.480699</td>\n",
       "      <td>-0.068788</td>\n",
       "      <td>-0.366764</td>\n",
       "      <td>0.031238</td>\n",
       "      <td>0.028750</td>\n",
       "      <td>0.028733</td>\n",
       "      <td>0.881830</td>\n",
       "      <td>0.029449</td>\n",
       "      <td>0.058498</td>\n",
       "      <td>0.000000</td>\n",
       "      <td>0.031997</td>\n",
       "      <td>0.000000</td>\n",
       "      <td>0.000000</td>\n",
       "    </tr>\n",
       "    <tr>\n",
       "      <th>2</th>\n",
       "      <td>Consultant(e) Business Intelligence (Power Bi)...</td>\n",
       "      <td>Lille</td>\n",
       "      <td>2020-05-18</td>\n",
       "      <td>sumit</td>\n",
       "      <td>3.0</td>\n",
       "      <td>0.0</td>\n",
       "      <td>Temps plein, CDI</td>\n",
       "      <td>Chez sumit, nous ne voyons pas nos consultants...</td>\n",
       "      <td>30000.0</td>\n",
       "      <td>40000.0</td>\n",
       "      <td>35000.0</td>\n",
       "      <td>59.0</td>\n",
       "      <td>consultant business intelligence power</td>\n",
       "      <td>['sumit', 'voyons', 'consultants', 'simple', '...</td>\n",
       "      <td>['temps', 'plein', 'cdi']</td>\n",
       "      <td>1.0</td>\n",
       "      <td>0.0</td>\n",
       "      <td>0.0</td>\n",
       "      <td>0.0</td>\n",
       "      <td>1.0</td>\n",
       "      <td>0.0</td>\n",
       "      <td>(50.6365654, 3.0635282)</td>\n",
       "      <td>50.636565</td>\n",
       "      <td>3.063528</td>\n",
       "      <td>155.126546</td>\n",
       "      <td>Île-de-France</td>\n",
       "      <td>['consult', 'business', 'intelligent', 'pow', ...</td>\n",
       "      <td>0.142829</td>\n",
       "      <td>-0.013129</td>\n",
       "      <td>-0.230162</td>\n",
       "      <td>0.075602</td>\n",
       "      <td>0.698628</td>\n",
       "      <td>0.020040</td>\n",
       "      <td>0.020020</td>\n",
       "      <td>0.020024</td>\n",
       "      <td>0.020088</td>\n",
       "      <td>0.919828</td>\n",
       "      <td>0.053204</td>\n",
       "      <td>0.000000</td>\n",
       "      <td>0.002149</td>\n",
       "      <td>0.003271</td>\n",
       "      <td>0.000000</td>\n",
       "    </tr>\n",
       "    <tr>\n",
       "      <th>3</th>\n",
       "      <td>Business Developer Junior H/F</td>\n",
       "      <td>Toulouse</td>\n",
       "      <td>2020-05-26</td>\n",
       "      <td>Synapse Développement</td>\n",
       "      <td>3.0</td>\n",
       "      <td>0.0</td>\n",
       "      <td>Temps plein, CDI</td>\n",
       "      <td>Devenez Synapsien !Et si vous rejoigniez une é...</td>\n",
       "      <td>30000.0</td>\n",
       "      <td>35000.0</td>\n",
       "      <td>32500.0</td>\n",
       "      <td>31.0</td>\n",
       "      <td>business developer junior</td>\n",
       "      <td>['devenez', 'synapsien', 'rejoigniez', 'équipe...</td>\n",
       "      <td>['temps', 'plein', 'cdi']</td>\n",
       "      <td>0.0</td>\n",
       "      <td>1.0</td>\n",
       "      <td>0.0</td>\n",
       "      <td>1.0</td>\n",
       "      <td>0.0</td>\n",
       "      <td>0.0</td>\n",
       "      <td>(43.6044622, 1.4442469)</td>\n",
       "      <td>43.604462</td>\n",
       "      <td>1.444247</td>\n",
       "      <td>62.975609</td>\n",
       "      <td>Île-de-France</td>\n",
       "      <td>['business', 'develop', 'junior', 'deven', 'sy...</td>\n",
       "      <td>0.050887</td>\n",
       "      <td>0.056841</td>\n",
       "      <td>-0.069799</td>\n",
       "      <td>0.002958</td>\n",
       "      <td>0.334825</td>\n",
       "      <td>0.028720</td>\n",
       "      <td>0.028621</td>\n",
       "      <td>0.028768</td>\n",
       "      <td>0.028608</td>\n",
       "      <td>0.885283</td>\n",
       "      <td>0.043325</td>\n",
       "      <td>0.001752</td>\n",
       "      <td>0.000120</td>\n",
       "      <td>0.025561</td>\n",
       "      <td>0.000000</td>\n",
       "    </tr>\n",
       "    <tr>\n",
       "      <th>4</th>\n",
       "      <td>Business Developer International – Éolien ?– E...</td>\n",
       "      <td>Gometz-la-Ville</td>\n",
       "      <td>2020-04-29</td>\n",
       "      <td>Uptoo</td>\n",
       "      <td>4.5</td>\n",
       "      <td>32.0</td>\n",
       "      <td>Non renseigné</td>\n",
       "      <td>À PROPOS :Notre société créée en 2004 est lead...</td>\n",
       "      <td>50000.0</td>\n",
       "      <td>60000.0</td>\n",
       "      <td>55000.0</td>\n",
       "      <td>91.0</td>\n",
       "      <td>business developer international éolien europe...</td>\n",
       "      <td>['propos', 'société', 'créée', 'leader', 'mond...</td>\n",
       "      <td>['nan']</td>\n",
       "      <td>0.0</td>\n",
       "      <td>0.0</td>\n",
       "      <td>0.0</td>\n",
       "      <td>0.0</td>\n",
       "      <td>0.0</td>\n",
       "      <td>1.0</td>\n",
       "      <td>(48.6718036, 2.1250543)</td>\n",
       "      <td>48.671804</td>\n",
       "      <td>2.125054</td>\n",
       "      <td>103.430226</td>\n",
       "      <td>Île-de-France</td>\n",
       "      <td>['business', 'develop', 'international', 'eoli...</td>\n",
       "      <td>0.033301</td>\n",
       "      <td>0.023574</td>\n",
       "      <td>-0.065514</td>\n",
       "      <td>-0.007059</td>\n",
       "      <td>0.322954</td>\n",
       "      <td>0.012766</td>\n",
       "      <td>0.012538</td>\n",
       "      <td>0.012574</td>\n",
       "      <td>0.012544</td>\n",
       "      <td>0.949579</td>\n",
       "      <td>0.047710</td>\n",
       "      <td>0.002941</td>\n",
       "      <td>0.000000</td>\n",
       "      <td>0.005452</td>\n",
       "      <td>0.000000</td>\n",
       "    </tr>\n",
       "  </tbody>\n",
       "</table>\n",
       "</div>"
      ],
      "text/plain": [
       "                                               Title          Location        Date                 Company  Rating  Count          Contract                                        Description  min_salary  max_salary  avg_salary  Dept                                        title_words                                      summary_words              contractWords  CDI  CDD  Freelance  Temps partiel  Temps plein  Unknown                 lat-long        lat      long    lat*long        Regions                                         BagOfWords      lsa1      lsa2      lsa3      lsa4      lsa5      lda1      lda2      lda3      lda4      lda5      nmf1      nmf2      nmf3      nmf4      nmf5\n",
       "0               Business Developer – Expert sécurité            Arras   2020-05-11                   Uptoo     4.5   32.0     Non renseigné  À PROPOS :Bienvenue dans notre PME spécialiste...     27000.0     55000.0     41000.0  62.0                 business developer expert sécurité  ['propos', 'bienvenue', 'pme', 'spécialiste', ...                    ['nan']  0.0  0.0        0.0            0.0          0.0      1.0   (50.291048, 2.7772211)  50.291048  2.777221  139.669360  Île-de-France  ['business', 'develop', 'expert', 'secur', 'pr...  0.045003  0.031446 -0.069163  0.016583  0.324242  0.020423  0.020527  0.413644  0.136369  0.409036  0.040193  0.001115  0.000000  0.007555  0.001401\n",
       "1                               Manager Big Data H/F            Paris   2020-04-29  Elitegroup Recruitment     3.0    0.0  Temps plein, CDI  Présentation de l'entreprise:Notre client est ...     55000.0     75000.0     65000.0  75.0                                   manager big data  ['présentation', 'entreprise', 'client', 'cabi...  ['temps', 'plein', 'cdi']  1.0  0.0        0.0            0.0          1.0      0.0  (48.8566969, 2.3514616)  48.856697  2.351462  114.884647  Île-de-France  ['manag', 'big', 'dat', 'present', 'entrepris'...  1.108354 -0.038272 -0.480699 -0.068788 -0.366764  0.031238  0.028750  0.028733  0.881830  0.029449  0.058498  0.000000  0.031997  0.000000  0.000000\n",
       "2  Consultant(e) Business Intelligence (Power Bi)...            Lille   2020-05-18                   sumit     3.0    0.0  Temps plein, CDI  Chez sumit, nous ne voyons pas nos consultants...     30000.0     40000.0     35000.0  59.0             consultant business intelligence power  ['sumit', 'voyons', 'consultants', 'simple', '...  ['temps', 'plein', 'cdi']  1.0  0.0        0.0            0.0          1.0      0.0  (50.6365654, 3.0635282)  50.636565  3.063528  155.126546  Île-de-France  ['consult', 'business', 'intelligent', 'pow', ...  0.142829 -0.013129 -0.230162  0.075602  0.698628  0.020040  0.020020  0.020024  0.020088  0.919828  0.053204  0.000000  0.002149  0.003271  0.000000\n",
       "3                      Business Developer Junior H/F         Toulouse   2020-05-26   Synapse Développement     3.0    0.0  Temps plein, CDI  Devenez Synapsien !Et si vous rejoigniez une é...     30000.0     35000.0     32500.0  31.0                          business developer junior  ['devenez', 'synapsien', 'rejoigniez', 'équipe...  ['temps', 'plein', 'cdi']  0.0  1.0        0.0            1.0          0.0      0.0  (43.6044622, 1.4442469)  43.604462  1.444247   62.975609  Île-de-France  ['business', 'develop', 'junior', 'deven', 'sy...  0.050887  0.056841 -0.069799  0.002958  0.334825  0.028720  0.028621  0.028768  0.028608  0.885283  0.043325  0.001752  0.000120  0.025561  0.000000\n",
       "4  Business Developer International – Éolien ?– E...  Gometz-la-Ville   2020-04-29                   Uptoo     4.5   32.0     Non renseigné  À PROPOS :Notre société créée en 2004 est lead...     50000.0     60000.0     55000.0  91.0  business developer international éolien europe...  ['propos', 'société', 'créée', 'leader', 'mond...                    ['nan']  0.0  0.0        0.0            0.0          0.0      1.0  (48.6718036, 2.1250543)  48.671804  2.125054  103.430226  Île-de-France  ['business', 'develop', 'international', 'eoli...  0.033301  0.023574 -0.065514 -0.007059  0.322954  0.012766  0.012538  0.012574  0.012544  0.949579  0.047710  0.002941  0.000000  0.005452  0.000000"
      ]
     },
     "execution_count": 186,
     "metadata": {},
     "output_type": "execute_result"
    }
   ],
   "source": [
    "data_ml_salary.head()"
   ]
  },
  {
   "cell_type": "code",
   "execution_count": 195,
   "metadata": {},
   "outputs": [],
   "source": [
    "# X = data_ml_salary[['Rating', 'CDI', 'CDD', 'Freelance', 'Temps partiel', 'Temps plein', 'Unknown',\n",
    "#                  'Count','Dept', 'lat', 'lat*long', 'long', 'lsa1', 'lsa2', 'lsa3', 'lsa4', 'lsa5',\n",
    "#                  'lda1', 'lda2', 'lda3', 'lda4', 'lda5','nmf1','nmf2','nmf3','nmf4','nmf5']]"
   ]
  },
  {
   "cell_type": "code",
   "execution_count": 196,
   "metadata": {},
   "outputs": [],
   "source": [
    "# y = data_ml_salary['avg_salary']"
   ]
  },
  {
   "cell_type": "markdown",
   "metadata": {},
   "source": [
    "Defining X (features) and labels (y) here. Note that this is for regression for now since we took the 'avg_salary' column as y which is the target, which is numerical."
   ]
  },
  {
   "cell_type": "code",
   "execution_count": 170,
   "metadata": {},
   "outputs": [],
   "source": [
    "# X = pd.get_dummies(X, columns=['Dept'])"
   ]
  },
  {
   "cell_type": "markdown",
   "metadata": {},
   "source": [
    "## Sampling train/test"
   ]
  },
  {
   "cell_type": "code",
   "execution_count": 171,
   "metadata": {},
   "outputs": [],
   "source": [
    "y = pd.qcut(y, 2, labels=False) #Run this cell only if we want to do classification, otherwise just ignore this."
   ]
  },
  {
   "cell_type": "code",
   "execution_count": 197,
   "metadata": {},
   "outputs": [],
   "source": [
    "from sklearn.model_selection import train_test_split\n",
    "\n",
    "X_train_reg, X_test_reg, y_train_reg, y_test_reg = train_test_split(\n",
    "    X, y, test_size=0.25, random_state=42)"
   ]
  },
  {
   "cell_type": "markdown",
   "metadata": {},
   "source": [
    "Doing dummies here to take this column more relevant in your analysis / ml model, and avoid misreading from our model."
   ]
  },
  {
   "cell_type": "code",
   "execution_count": 173,
   "metadata": {},
   "outputs": [
    {
     "data": {
      "text/html": [
       "<div>\n",
       "<style scoped>\n",
       "    .dataframe tbody tr th:only-of-type {\n",
       "        vertical-align: middle;\n",
       "    }\n",
       "\n",
       "    .dataframe tbody tr th {\n",
       "        vertical-align: top;\n",
       "    }\n",
       "\n",
       "    .dataframe thead th {\n",
       "        text-align: right;\n",
       "    }\n",
       "</style>\n",
       "<table border=\"1\" class=\"dataframe\">\n",
       "  <thead>\n",
       "    <tr style=\"text-align: right;\">\n",
       "      <th></th>\n",
       "      <th>Rating</th>\n",
       "      <th>CDI</th>\n",
       "      <th>CDD</th>\n",
       "      <th>Freelance</th>\n",
       "      <th>Temps partiel</th>\n",
       "      <th>Temps plein</th>\n",
       "      <th>Unknown</th>\n",
       "      <th>Count</th>\n",
       "      <th>lat</th>\n",
       "      <th>lat*long</th>\n",
       "      <th>long</th>\n",
       "      <th>lsa1</th>\n",
       "      <th>lsa2</th>\n",
       "      <th>lsa3</th>\n",
       "      <th>lsa4</th>\n",
       "      <th>lsa5</th>\n",
       "      <th>lda1</th>\n",
       "      <th>lda2</th>\n",
       "      <th>lda3</th>\n",
       "      <th>lda4</th>\n",
       "      <th>lda5</th>\n",
       "      <th>Dept_0.0</th>\n",
       "      <th>Dept_1.0</th>\n",
       "      <th>Dept_2.0</th>\n",
       "      <th>Dept_3.0</th>\n",
       "      <th>Dept_5.0</th>\n",
       "      <th>Dept_6.0</th>\n",
       "      <th>Dept_7.0</th>\n",
       "      <th>Dept_8.0</th>\n",
       "      <th>Dept_9.0</th>\n",
       "      <th>Dept_10.0</th>\n",
       "      <th>Dept_11.0</th>\n",
       "      <th>Dept_12.0</th>\n",
       "      <th>Dept_13.0</th>\n",
       "      <th>Dept_15.0</th>\n",
       "      <th>Dept_16.0</th>\n",
       "      <th>Dept_17.0</th>\n",
       "      <th>Dept_18.0</th>\n",
       "      <th>Dept_19.0</th>\n",
       "      <th>Dept_21.0</th>\n",
       "      <th>Dept_25.0</th>\n",
       "      <th>Dept_26.0</th>\n",
       "      <th>Dept_27.0</th>\n",
       "      <th>Dept_29.0</th>\n",
       "      <th>Dept_31.0</th>\n",
       "      <th>Dept_33.0</th>\n",
       "      <th>Dept_34.0</th>\n",
       "      <th>Dept_35.0</th>\n",
       "      <th>Dept_36.0</th>\n",
       "      <th>Dept_37.0</th>\n",
       "      <th>Dept_38.0</th>\n",
       "      <th>Dept_42.0</th>\n",
       "      <th>Dept_44.0</th>\n",
       "      <th>Dept_47.0</th>\n",
       "      <th>Dept_49.0</th>\n",
       "      <th>Dept_51.0</th>\n",
       "      <th>Dept_52.0</th>\n",
       "      <th>Dept_54.0</th>\n",
       "      <th>Dept_56.0</th>\n",
       "      <th>Dept_57.0</th>\n",
       "      <th>Dept_59.0</th>\n",
       "      <th>Dept_62.0</th>\n",
       "      <th>Dept_64.0</th>\n",
       "      <th>Dept_67.0</th>\n",
       "      <th>Dept_69.0</th>\n",
       "      <th>Dept_72.0</th>\n",
       "      <th>Dept_73.0</th>\n",
       "      <th>Dept_75.0</th>\n",
       "      <th>Dept_76.0</th>\n",
       "      <th>Dept_78.0</th>\n",
       "      <th>Dept_79.0</th>\n",
       "      <th>Dept_80.0</th>\n",
       "      <th>Dept_83.0</th>\n",
       "      <th>Dept_84.0</th>\n",
       "      <th>Dept_85.0</th>\n",
       "      <th>Dept_90.0</th>\n",
       "      <th>Dept_91.0</th>\n",
       "      <th>Dept_92.0</th>\n",
       "      <th>Dept_93.0</th>\n",
       "      <th>Dept_94.0</th>\n",
       "      <th>Dept_95.0</th>\n",
       "    </tr>\n",
       "  </thead>\n",
       "  <tbody>\n",
       "    <tr>\n",
       "      <th>0</th>\n",
       "      <td>4.5</td>\n",
       "      <td>0.0</td>\n",
       "      <td>0.0</td>\n",
       "      <td>0.0</td>\n",
       "      <td>0.0</td>\n",
       "      <td>0.0</td>\n",
       "      <td>1.0</td>\n",
       "      <td>32.0</td>\n",
       "      <td>50.291048</td>\n",
       "      <td>139.669360</td>\n",
       "      <td>2.777221</td>\n",
       "      <td>0.040579</td>\n",
       "      <td>0.012271</td>\n",
       "      <td>0.037464</td>\n",
       "      <td>-0.015579</td>\n",
       "      <td>-0.033157</td>\n",
       "      <td>0.020639</td>\n",
       "      <td>0.020160</td>\n",
       "      <td>0.918919</td>\n",
       "      <td>0.020025</td>\n",
       "      <td>0.020257</td>\n",
       "      <td>0</td>\n",
       "      <td>0</td>\n",
       "      <td>0</td>\n",
       "      <td>0</td>\n",
       "      <td>0</td>\n",
       "      <td>0</td>\n",
       "      <td>0</td>\n",
       "      <td>0</td>\n",
       "      <td>0</td>\n",
       "      <td>0</td>\n",
       "      <td>0</td>\n",
       "      <td>0</td>\n",
       "      <td>0</td>\n",
       "      <td>0</td>\n",
       "      <td>0</td>\n",
       "      <td>0</td>\n",
       "      <td>0</td>\n",
       "      <td>0</td>\n",
       "      <td>0</td>\n",
       "      <td>0</td>\n",
       "      <td>0</td>\n",
       "      <td>0</td>\n",
       "      <td>0</td>\n",
       "      <td>0</td>\n",
       "      <td>0</td>\n",
       "      <td>0</td>\n",
       "      <td>0</td>\n",
       "      <td>0</td>\n",
       "      <td>0</td>\n",
       "      <td>0</td>\n",
       "      <td>0</td>\n",
       "      <td>0</td>\n",
       "      <td>0</td>\n",
       "      <td>0</td>\n",
       "      <td>0</td>\n",
       "      <td>0</td>\n",
       "      <td>0</td>\n",
       "      <td>0</td>\n",
       "      <td>0</td>\n",
       "      <td>0</td>\n",
       "      <td>1</td>\n",
       "      <td>0</td>\n",
       "      <td>0</td>\n",
       "      <td>0</td>\n",
       "      <td>0</td>\n",
       "      <td>0</td>\n",
       "      <td>0</td>\n",
       "      <td>0</td>\n",
       "      <td>0</td>\n",
       "      <td>0</td>\n",
       "      <td>0</td>\n",
       "      <td>0</td>\n",
       "      <td>0</td>\n",
       "      <td>0</td>\n",
       "      <td>0</td>\n",
       "      <td>0</td>\n",
       "      <td>0</td>\n",
       "      <td>0</td>\n",
       "      <td>0</td>\n",
       "      <td>0</td>\n",
       "    </tr>\n",
       "    <tr>\n",
       "      <th>1</th>\n",
       "      <td>3.0</td>\n",
       "      <td>1.0</td>\n",
       "      <td>0.0</td>\n",
       "      <td>0.0</td>\n",
       "      <td>0.0</td>\n",
       "      <td>1.0</td>\n",
       "      <td>0.0</td>\n",
       "      <td>0.0</td>\n",
       "      <td>48.856697</td>\n",
       "      <td>114.884647</td>\n",
       "      <td>2.351462</td>\n",
       "      <td>0.958691</td>\n",
       "      <td>-0.516990</td>\n",
       "      <td>-0.128322</td>\n",
       "      <td>-0.695121</td>\n",
       "      <td>-0.139765</td>\n",
       "      <td>0.028622</td>\n",
       "      <td>0.028635</td>\n",
       "      <td>0.885421</td>\n",
       "      <td>0.028579</td>\n",
       "      <td>0.028743</td>\n",
       "      <td>0</td>\n",
       "      <td>0</td>\n",
       "      <td>0</td>\n",
       "      <td>0</td>\n",
       "      <td>0</td>\n",
       "      <td>0</td>\n",
       "      <td>0</td>\n",
       "      <td>0</td>\n",
       "      <td>0</td>\n",
       "      <td>0</td>\n",
       "      <td>0</td>\n",
       "      <td>0</td>\n",
       "      <td>0</td>\n",
       "      <td>0</td>\n",
       "      <td>0</td>\n",
       "      <td>0</td>\n",
       "      <td>0</td>\n",
       "      <td>0</td>\n",
       "      <td>0</td>\n",
       "      <td>0</td>\n",
       "      <td>0</td>\n",
       "      <td>0</td>\n",
       "      <td>0</td>\n",
       "      <td>0</td>\n",
       "      <td>0</td>\n",
       "      <td>0</td>\n",
       "      <td>0</td>\n",
       "      <td>0</td>\n",
       "      <td>0</td>\n",
       "      <td>0</td>\n",
       "      <td>0</td>\n",
       "      <td>0</td>\n",
       "      <td>0</td>\n",
       "      <td>0</td>\n",
       "      <td>0</td>\n",
       "      <td>0</td>\n",
       "      <td>0</td>\n",
       "      <td>0</td>\n",
       "      <td>0</td>\n",
       "      <td>0</td>\n",
       "      <td>0</td>\n",
       "      <td>0</td>\n",
       "      <td>0</td>\n",
       "      <td>0</td>\n",
       "      <td>0</td>\n",
       "      <td>0</td>\n",
       "      <td>1</td>\n",
       "      <td>0</td>\n",
       "      <td>0</td>\n",
       "      <td>0</td>\n",
       "      <td>0</td>\n",
       "      <td>0</td>\n",
       "      <td>0</td>\n",
       "      <td>0</td>\n",
       "      <td>0</td>\n",
       "      <td>0</td>\n",
       "      <td>0</td>\n",
       "      <td>0</td>\n",
       "      <td>0</td>\n",
       "      <td>0</td>\n",
       "    </tr>\n",
       "    <tr>\n",
       "      <th>2</th>\n",
       "      <td>3.0</td>\n",
       "      <td>1.0</td>\n",
       "      <td>0.0</td>\n",
       "      <td>0.0</td>\n",
       "      <td>0.0</td>\n",
       "      <td>1.0</td>\n",
       "      <td>0.0</td>\n",
       "      <td>0.0</td>\n",
       "      <td>50.636565</td>\n",
       "      <td>155.126546</td>\n",
       "      <td>3.063528</td>\n",
       "      <td>0.079034</td>\n",
       "      <td>-0.042588</td>\n",
       "      <td>0.017153</td>\n",
       "      <td>-0.139600</td>\n",
       "      <td>-0.042584</td>\n",
       "      <td>0.919152</td>\n",
       "      <td>0.020051</td>\n",
       "      <td>0.020745</td>\n",
       "      <td>0.020011</td>\n",
       "      <td>0.020042</td>\n",
       "      <td>0</td>\n",
       "      <td>0</td>\n",
       "      <td>0</td>\n",
       "      <td>0</td>\n",
       "      <td>0</td>\n",
       "      <td>0</td>\n",
       "      <td>0</td>\n",
       "      <td>0</td>\n",
       "      <td>0</td>\n",
       "      <td>0</td>\n",
       "      <td>0</td>\n",
       "      <td>0</td>\n",
       "      <td>0</td>\n",
       "      <td>0</td>\n",
       "      <td>0</td>\n",
       "      <td>0</td>\n",
       "      <td>0</td>\n",
       "      <td>0</td>\n",
       "      <td>0</td>\n",
       "      <td>0</td>\n",
       "      <td>0</td>\n",
       "      <td>0</td>\n",
       "      <td>0</td>\n",
       "      <td>0</td>\n",
       "      <td>0</td>\n",
       "      <td>0</td>\n",
       "      <td>0</td>\n",
       "      <td>0</td>\n",
       "      <td>0</td>\n",
       "      <td>0</td>\n",
       "      <td>0</td>\n",
       "      <td>0</td>\n",
       "      <td>0</td>\n",
       "      <td>0</td>\n",
       "      <td>0</td>\n",
       "      <td>0</td>\n",
       "      <td>0</td>\n",
       "      <td>0</td>\n",
       "      <td>0</td>\n",
       "      <td>1</td>\n",
       "      <td>0</td>\n",
       "      <td>0</td>\n",
       "      <td>0</td>\n",
       "      <td>0</td>\n",
       "      <td>0</td>\n",
       "      <td>0</td>\n",
       "      <td>0</td>\n",
       "      <td>0</td>\n",
       "      <td>0</td>\n",
       "      <td>0</td>\n",
       "      <td>0</td>\n",
       "      <td>0</td>\n",
       "      <td>0</td>\n",
       "      <td>0</td>\n",
       "      <td>0</td>\n",
       "      <td>0</td>\n",
       "      <td>0</td>\n",
       "      <td>0</td>\n",
       "      <td>0</td>\n",
       "      <td>0</td>\n",
       "    </tr>\n",
       "    <tr>\n",
       "      <th>3</th>\n",
       "      <td>3.0</td>\n",
       "      <td>1.0</td>\n",
       "      <td>0.0</td>\n",
       "      <td>0.0</td>\n",
       "      <td>0.0</td>\n",
       "      <td>1.0</td>\n",
       "      <td>0.0</td>\n",
       "      <td>0.0</td>\n",
       "      <td>43.604462</td>\n",
       "      <td>62.975609</td>\n",
       "      <td>1.444247</td>\n",
       "      <td>0.052211</td>\n",
       "      <td>0.046524</td>\n",
       "      <td>0.006212</td>\n",
       "      <td>0.005105</td>\n",
       "      <td>-0.049489</td>\n",
       "      <td>0.028939</td>\n",
       "      <td>0.028767</td>\n",
       "      <td>0.884768</td>\n",
       "      <td>0.028733</td>\n",
       "      <td>0.028792</td>\n",
       "      <td>0</td>\n",
       "      <td>0</td>\n",
       "      <td>0</td>\n",
       "      <td>0</td>\n",
       "      <td>0</td>\n",
       "      <td>0</td>\n",
       "      <td>0</td>\n",
       "      <td>0</td>\n",
       "      <td>0</td>\n",
       "      <td>0</td>\n",
       "      <td>0</td>\n",
       "      <td>0</td>\n",
       "      <td>0</td>\n",
       "      <td>0</td>\n",
       "      <td>0</td>\n",
       "      <td>0</td>\n",
       "      <td>0</td>\n",
       "      <td>0</td>\n",
       "      <td>0</td>\n",
       "      <td>0</td>\n",
       "      <td>0</td>\n",
       "      <td>0</td>\n",
       "      <td>0</td>\n",
       "      <td>1</td>\n",
       "      <td>0</td>\n",
       "      <td>0</td>\n",
       "      <td>0</td>\n",
       "      <td>0</td>\n",
       "      <td>0</td>\n",
       "      <td>0</td>\n",
       "      <td>0</td>\n",
       "      <td>0</td>\n",
       "      <td>0</td>\n",
       "      <td>0</td>\n",
       "      <td>0</td>\n",
       "      <td>0</td>\n",
       "      <td>0</td>\n",
       "      <td>0</td>\n",
       "      <td>0</td>\n",
       "      <td>0</td>\n",
       "      <td>0</td>\n",
       "      <td>0</td>\n",
       "      <td>0</td>\n",
       "      <td>0</td>\n",
       "      <td>0</td>\n",
       "      <td>0</td>\n",
       "      <td>0</td>\n",
       "      <td>0</td>\n",
       "      <td>0</td>\n",
       "      <td>0</td>\n",
       "      <td>0</td>\n",
       "      <td>0</td>\n",
       "      <td>0</td>\n",
       "      <td>0</td>\n",
       "      <td>0</td>\n",
       "      <td>0</td>\n",
       "      <td>0</td>\n",
       "      <td>0</td>\n",
       "      <td>0</td>\n",
       "      <td>0</td>\n",
       "    </tr>\n",
       "    <tr>\n",
       "      <th>4</th>\n",
       "      <td>4.5</td>\n",
       "      <td>0.0</td>\n",
       "      <td>0.0</td>\n",
       "      <td>0.0</td>\n",
       "      <td>0.0</td>\n",
       "      <td>0.0</td>\n",
       "      <td>1.0</td>\n",
       "      <td>32.0</td>\n",
       "      <td>48.671804</td>\n",
       "      <td>103.430226</td>\n",
       "      <td>2.125054</td>\n",
       "      <td>0.023050</td>\n",
       "      <td>0.013194</td>\n",
       "      <td>0.003539</td>\n",
       "      <td>-0.000740</td>\n",
       "      <td>-0.037012</td>\n",
       "      <td>0.012536</td>\n",
       "      <td>0.012527</td>\n",
       "      <td>0.949875</td>\n",
       "      <td>0.012530</td>\n",
       "      <td>0.012532</td>\n",
       "      <td>0</td>\n",
       "      <td>0</td>\n",
       "      <td>0</td>\n",
       "      <td>0</td>\n",
       "      <td>0</td>\n",
       "      <td>0</td>\n",
       "      <td>0</td>\n",
       "      <td>0</td>\n",
       "      <td>0</td>\n",
       "      <td>0</td>\n",
       "      <td>0</td>\n",
       "      <td>0</td>\n",
       "      <td>0</td>\n",
       "      <td>0</td>\n",
       "      <td>0</td>\n",
       "      <td>0</td>\n",
       "      <td>0</td>\n",
       "      <td>0</td>\n",
       "      <td>0</td>\n",
       "      <td>0</td>\n",
       "      <td>0</td>\n",
       "      <td>0</td>\n",
       "      <td>0</td>\n",
       "      <td>0</td>\n",
       "      <td>0</td>\n",
       "      <td>0</td>\n",
       "      <td>0</td>\n",
       "      <td>0</td>\n",
       "      <td>0</td>\n",
       "      <td>0</td>\n",
       "      <td>0</td>\n",
       "      <td>0</td>\n",
       "      <td>0</td>\n",
       "      <td>0</td>\n",
       "      <td>0</td>\n",
       "      <td>0</td>\n",
       "      <td>0</td>\n",
       "      <td>0</td>\n",
       "      <td>0</td>\n",
       "      <td>0</td>\n",
       "      <td>0</td>\n",
       "      <td>0</td>\n",
       "      <td>0</td>\n",
       "      <td>0</td>\n",
       "      <td>0</td>\n",
       "      <td>0</td>\n",
       "      <td>0</td>\n",
       "      <td>0</td>\n",
       "      <td>0</td>\n",
       "      <td>0</td>\n",
       "      <td>0</td>\n",
       "      <td>0</td>\n",
       "      <td>0</td>\n",
       "      <td>0</td>\n",
       "      <td>0</td>\n",
       "      <td>1</td>\n",
       "      <td>0</td>\n",
       "      <td>0</td>\n",
       "      <td>0</td>\n",
       "      <td>0</td>\n",
       "    </tr>\n",
       "  </tbody>\n",
       "</table>\n",
       "</div>"
      ],
      "text/plain": [
       "   Rating  CDI  CDD  Freelance  Temps partiel  Temps plein  Unknown  Count        lat    lat*long      long      lsa1      lsa2      lsa3      lsa4      lsa5      lda1      lda2      lda3      lda4      lda5  Dept_0.0  Dept_1.0  Dept_2.0  Dept_3.0  Dept_5.0  Dept_6.0  Dept_7.0  Dept_8.0  Dept_9.0  Dept_10.0  Dept_11.0  Dept_12.0  Dept_13.0  Dept_15.0  Dept_16.0  Dept_17.0  Dept_18.0  Dept_19.0  Dept_21.0  Dept_25.0  Dept_26.0  Dept_27.0  Dept_29.0  Dept_31.0  Dept_33.0  Dept_34.0  Dept_35.0  Dept_36.0  Dept_37.0  Dept_38.0  Dept_42.0  Dept_44.0  Dept_47.0  Dept_49.0  Dept_51.0  Dept_52.0  Dept_54.0  Dept_56.0  Dept_57.0  Dept_59.0  Dept_62.0  Dept_64.0  Dept_67.0  Dept_69.0  Dept_72.0  Dept_73.0  Dept_75.0  Dept_76.0  Dept_78.0  Dept_79.0  Dept_80.0  Dept_83.0  Dept_84.0  Dept_85.0  Dept_90.0  Dept_91.0  Dept_92.0  Dept_93.0  Dept_94.0  Dept_95.0\n",
       "0     4.5  0.0  0.0        0.0            0.0          0.0      1.0   32.0  50.291048  139.669360  2.777221  0.040579  0.012271  0.037464 -0.015579 -0.033157  0.020639  0.020160  0.918919  0.020025  0.020257         0         0         0         0         0         0         0         0         0          0          0          0          0          0          0          0          0          0          0          0          0          0          0          0          0          0          0          0          0          0          0          0          0          0          0          0          0          0          0          0          1          0          0          0          0          0          0          0          0          0          0          0          0          0          0          0          0          0          0          0\n",
       "1     3.0  1.0  0.0        0.0            0.0          1.0      0.0    0.0  48.856697  114.884647  2.351462  0.958691 -0.516990 -0.128322 -0.695121 -0.139765  0.028622  0.028635  0.885421  0.028579  0.028743         0         0         0         0         0         0         0         0         0          0          0          0          0          0          0          0          0          0          0          0          0          0          0          0          0          0          0          0          0          0          0          0          0          0          0          0          0          0          0          0          0          0          0          0          0          0          1          0          0          0          0          0          0          0          0          0          0          0          0          0\n",
       "2     3.0  1.0  0.0        0.0            0.0          1.0      0.0    0.0  50.636565  155.126546  3.063528  0.079034 -0.042588  0.017153 -0.139600 -0.042584  0.919152  0.020051  0.020745  0.020011  0.020042         0         0         0         0         0         0         0         0         0          0          0          0          0          0          0          0          0          0          0          0          0          0          0          0          0          0          0          0          0          0          0          0          0          0          0          0          0          0          0          1          0          0          0          0          0          0          0          0          0          0          0          0          0          0          0          0          0          0          0          0\n",
       "3     3.0  1.0  0.0        0.0            0.0          1.0      0.0    0.0  43.604462   62.975609  1.444247  0.052211  0.046524  0.006212  0.005105 -0.049489  0.028939  0.028767  0.884768  0.028733  0.028792         0         0         0         0         0         0         0         0         0          0          0          0          0          0          0          0          0          0          0          0          0          0          0          1          0          0          0          0          0          0          0          0          0          0          0          0          0          0          0          0          0          0          0          0          0          0          0          0          0          0          0          0          0          0          0          0          0          0          0          0\n",
       "4     4.5  0.0  0.0        0.0            0.0          0.0      1.0   32.0  48.671804  103.430226  2.125054  0.023050  0.013194  0.003539 -0.000740 -0.037012  0.012536  0.012527  0.949875  0.012530  0.012532         0         0         0         0         0         0         0         0         0          0          0          0          0          0          0          0          0          0          0          0          0          0          0          0          0          0          0          0          0          0          0          0          0          0          0          0          0          0          0          0          0          0          0          0          0          0          0          0          0          0          0          0          0          0          0          1          0          0          0          0"
      ]
     },
     "execution_count": 173,
     "metadata": {},
     "output_type": "execute_result"
    }
   ],
   "source": [
    "X.head()"
   ]
  },
  {
   "cell_type": "markdown",
   "metadata": {},
   "source": [
    "Standardization of your features"
   ]
  },
  {
   "cell_type": "code",
   "execution_count": 174,
   "metadata": {},
   "outputs": [
    {
     "data": {
      "text/plain": [
       "array([[-0.41638042, -1.38136283,  3.33581468, ..., -0.1266601 ,\n",
       "        -0.16439899, -0.05933908],\n",
       "       [ 2.657931  , -1.38136283, -0.29977684, ..., -0.1266601 ,\n",
       "        -0.16439899, -0.05933908],\n",
       "       [-0.41638042,  0.72392277, -0.29977684, ..., -0.1266601 ,\n",
       "        -0.16439899, -0.05933908],\n",
       "       ...,\n",
       "       [-0.41638042, -1.38136283,  3.33581468, ..., -0.1266601 ,\n",
       "        -0.16439899, -0.05933908],\n",
       "       [-0.41638042,  0.72392277, -0.29977684, ..., -0.1266601 ,\n",
       "        -0.16439899, -0.05933908],\n",
       "       [-0.41638042,  0.72392277, -0.29977684, ..., -0.1266601 ,\n",
       "        -0.16439899, -0.05933908]])"
      ]
     },
     "execution_count": 174,
     "metadata": {},
     "output_type": "execute_result"
    }
   ],
   "source": [
    "from sklearn.preprocessing import StandardScaler\n",
    "\n",
    "transformer = StandardScaler().fit(X_train_reg)\n",
    "transformer.transform(X_train_reg)\n",
    "transformer.transform(X_test_reg)"
   ]
  },
  {
   "cell_type": "markdown",
   "metadata": {},
   "source": [
    "## Model Testing (base model without tunning)"
   ]
  },
  {
   "cell_type": "code",
   "execution_count": 175,
   "metadata": {},
   "outputs": [
    {
     "data": {
      "text/plain": [
       "RandomForestClassifier(bootstrap=True, ccp_alpha=0.0, class_weight=None,\n",
       "                       criterion='gini', max_depth=None, max_features='auto',\n",
       "                       max_leaf_nodes=None, max_samples=None,\n",
       "                       min_impurity_decrease=0.0, min_impurity_split=None,\n",
       "                       min_samples_leaf=1, min_samples_split=2,\n",
       "                       min_weight_fraction_leaf=0.0, n_estimators=100,\n",
       "                       n_jobs=None, oob_score=False, random_state=91, verbose=0,\n",
       "                       warm_start=False)"
      ]
     },
     "execution_count": 175,
     "metadata": {},
     "output_type": "execute_result"
    }
   ],
   "source": [
    "from sklearn.ensemble import RandomForestClassifier\n",
    "from sklearn.svm import SVC\n",
    "from sklearn.linear_model import LogisticRegression\n",
    "from sklearn.neighbors import KNeighborsClassifier\n",
    "\n",
    "lr = LogisticRegression(random_state=42)\n",
    "lr.fit(X_train_reg, y_train_reg)\n",
    "knn = KNeighborsClassifier()\n",
    "knn.fit(X_train_reg, y_train_reg)\n",
    "svc = SVC(random_state=42)\n",
    "svc.fit(X_train_reg, y_train_reg)\n",
    "rf = RandomForestClassifier(random_state=91)\n",
    "rf.fit(X_train_reg, y_train_reg)"
   ]
  },
  {
   "cell_type": "markdown",
   "metadata": {},
   "source": [
    "Make prediction on every base model"
   ]
  },
  {
   "cell_type": "code",
   "execution_count": 176,
   "metadata": {},
   "outputs": [],
   "source": [
    "y_pred_lr = lr.predict(X_test_reg)\n",
    "y_pred_knn = knn.predict(X_test_reg)\n",
    "y_pred_svc = svc.predict(X_test_reg)\n",
    "y_pred_rf = rf.predict(X_test_reg)"
   ]
  },
  {
   "cell_type": "markdown",
   "metadata": {},
   "source": [
    "Evaluate every base model (to filter) -> We're only taking general accuracy here so we have an overview on wich model to focus on"
   ]
  },
  {
   "cell_type": "code",
   "execution_count": 179,
   "metadata": {},
   "outputs": [
    {
     "name": "stdout",
     "output_type": "stream",
     "text": [
      "Log reg : 0.7382198952879581\n",
      "KNN : 0.7382198952879581\n",
      "SVC : 0.680628272251309\n",
      "RF : 0.8115183246073299\n"
     ]
    }
   ],
   "source": [
    "print('Log reg :',accuracy_score(y_test_reg, y_pred_lr))\n",
    "print('KNN :',accuracy_score(y_test_reg, y_pred_knn))\n",
    "print('SVC :',accuracy_score(y_test_reg, y_pred_svc))\n",
    "print('RF :',accuracy_score(y_test_reg, y_pred_rf))"
   ]
  },
  {
   "cell_type": "markdown",
   "metadata": {},
   "source": [
    "So we get the best base result with RandomForest it seems, interesting, we're gonna try RF more in depth after"
   ]
  },
  {
   "cell_type": "markdown",
   "metadata": {},
   "source": [
    "### RandomForestClassification report"
   ]
  },
  {
   "cell_type": "code",
   "execution_count": 180,
   "metadata": {},
   "outputs": [
    {
     "name": "stdout",
     "output_type": "stream",
     "text": [
      "              precision    recall  f1-score   support\n",
      "\n",
      "           0       0.81      0.80      0.80        93\n",
      "           1       0.81      0.83      0.82        98\n",
      "\n",
      "    accuracy                           0.81       191\n",
      "   macro avg       0.81      0.81      0.81       191\n",
      "weighted avg       0.81      0.81      0.81       191\n",
      "\n"
     ]
    },
    {
     "data": {
      "image/png": "[encoded data removed]",
      "text/plain": [
       "<Figure size 576x432 with 2 Axes>"
      ]
     },
     "metadata": {
      "needs_background": "light"
     },
     "output_type": "display_data"
    }
   ],
   "source": [
    "import sklearn.metrics as sklm\n",
    "import seaborn as sns\n",
    "print(sklm.classification_report(y_test_reg, y_pred_rf))\n",
    "\n",
    "conf = pd.DataFrame(sklm.confusion_matrix(y_test_reg, y_pred_rf))\n",
    "\n",
    "plt.figure(figsize=(8, 6))\n",
    "plt.title('Confusion matrix')\n",
    "sns.heatmap(conf, annot=True, fmt='d');"
   ]
  },
  {
   "cell_type": "markdown",
   "metadata": {},
   "source": [
    "## XGBOOST base model test"
   ]
  },
  {
   "cell_type": "code",
   "execution_count": 181,
   "metadata": {},
   "outputs": [
    {
     "data": {
      "text/plain": [
       "XGBClassifier(base_score=0.5, booster='gbtree', colsample_bylevel=1,\n",
       "              colsample_bynode=1, colsample_bytree=0.8, gamma=0.5, gpu_id=-1,\n",
       "              importance_type='gain', interaction_constraints='',\n",
       "              learning_rate=0.1, max_delta_step=0, max_depth=5,\n",
       "              min_child_weight=1, missing=nan, monotone_constraints='()',\n",
       "              n_estimators=100, n_jobs=0, num_parallel_tree=1,\n",
       "              objective='binary:logistic', random_state=27, reg_alpha=0,\n",
       "              reg_lambda=1, scale_pos_weight=1, seed=27, subsample=1,\n",
       "              tree_method='exact', validate_parameters=1, verbosity=None)"
      ]
     },
     "execution_count": 181,
     "metadata": {},
     "output_type": "execute_result"
    }
   ],
   "source": [
    "import xgboost as xgb\n",
    "from sklearn.model_selection import learning_curve\n",
    "from sklearn.metrics import accuracy_score, make_scorer, f1_score, precision_score, recall_score, roc_auc_score\n",
    "from sklearn.model_selection import StratifiedKFold, GridSearchCV\n",
    "\n",
    "estimator = xgb.XGBClassifier(booster='gbtree', learning_rate=0.1, n_estimators=100,\n",
    "                              max_depth=5, colsample_bytree=0.8, min_child_weight=1, gamma=0.5,\n",
    "                              objective='binary:logistic', seed=27)\n",
    "estimator.fit(X_train_reg, y_train_reg)"
   ]
  },
  {
   "cell_type": "code",
   "execution_count": 182,
   "metadata": {},
   "outputs": [],
   "source": [
    "probaxgb = estimator.predict_proba(X_test_reg)\n",
    "y_predxgb = estimator.predict(X_test_reg)"
   ]
  },
  {
   "cell_type": "code",
   "execution_count": 183,
   "metadata": {},
   "outputs": [
    {
     "name": "stdout",
     "output_type": "stream",
     "text": [
      "              precision    recall  f1-score   support\n",
      "\n",
      "           0       0.81      0.77      0.79        93\n",
      "           1       0.79      0.83      0.81        98\n",
      "\n",
      "    accuracy                           0.80       191\n",
      "   macro avg       0.80      0.80      0.80       191\n",
      "weighted avg       0.80      0.80      0.80       191\n",
      "\n"
     ]
    },
    {
     "data": {
      "image/png": "[encoded data removed]",
      "text/plain": [
       "<Figure size 576x432 with 2 Axes>"
      ]
     },
     "metadata": {
      "needs_background": "light"
     },
     "output_type": "display_data"
    }
   ],
   "source": [
    "import sklearn.metrics as sklm\n",
    "print(sklm.classification_report(y_test_reg, y_predxgb))\n",
    "\n",
    "conf = pd.DataFrame(sklm.confusion_matrix(y_test_reg, y_predxgb))\n",
    "\n",
    "plt.figure(figsize=(8, 6))\n",
    "plt.title('Confusion matrix')\n",
    "sns.heatmap(conf, annot=True, fmt='d');"
   ]
  },
  {
   "cell_type": "markdown",
   "metadata": {},
   "source": [
    "Good score aswell with the XGBOOST base model in classification"
   ]
  },
  {
   "cell_type": "markdown",
   "metadata": {},
   "source": [
    "## Optimization Test with RandomForest"
   ]
  },
  {
   "cell_type": "code",
   "execution_count": 159,
   "metadata": {},
   "outputs": [],
   "source": [
    "from sklearn.model_selection import GridSearchCV, RandomizedSearchCV"
   ]
  },
  {
   "cell_type": "code",
   "execution_count": 160,
   "metadata": {},
   "outputs": [],
   "source": [
    "rf = RandomForestClassifier()"
   ]
  },
  {
   "cell_type": "markdown",
   "metadata": {},
   "source": [
    "### RandomizedCV"
   ]
  },
  {
   "cell_type": "code",
   "execution_count": 161,
   "metadata": {},
   "outputs": [],
   "source": [
    "n_estimators = [int(x) for x in np.linspace(start = 200, stop = 2000, num = 10)]\n",
    "max_features = ['auto', 'sqrt']\n",
    "max_depth = [int(x) for x in np.linspace(10, 110, num = 11)]\n",
    "max_depth.append(None)\n",
    "min_samples_split = [2, 5, 10]\n",
    "min_samples_leaf = [1, 2, 4]\n",
    "bootstrap = [True, False]\n",
    "\n",
    "params = {'n_estimators': n_estimators,\n",
    "               'max_features': max_features,\n",
    "               'max_depth': max_depth,\n",
    "               'min_samples_split': min_samples_split,\n",
    "               'min_samples_leaf': min_samples_leaf,\n",
    "               'bootstrap': bootstrap}"
   ]
  },
  {
   "cell_type": "code",
   "execution_count": 162,
   "metadata": {},
   "outputs": [],
   "source": [
    "rf_random = RandomizedSearchCV(estimator = rf,\n",
    "                               param_distributions = params,\n",
    "                               n_iter = 100,\n",
    "                               cv = 3, verbose=2,\n",
    "                               random_state=42,\n",
    "                               n_jobs = -1)"
   ]
  },
  {
   "cell_type": "code",
   "execution_count": 163,
   "metadata": {},
   "outputs": [
    {
     "name": "stdout",
     "output_type": "stream",
     "text": [
      "Fitting 3 folds for each of 100 candidates, totalling 300 fits\n"
     ]
    },
    {
     "name": "stderr",
     "output_type": "stream",
     "text": [
      "[Parallel(n_jobs=-1)]: Using backend LokyBackend with 4 concurrent workers.\n",
      "[Parallel(n_jobs=-1)]: Done  38 tasks      | elapsed:    1.6s\n",
      "[Parallel(n_jobs=-1)]: Done 300 out of 300 | elapsed:    1.9s finished\n"
     ]
    },
    {
     "ename": "ValueError",
     "evalue": "Unknown label type: 'continuous'",
     "output_type": "error",
     "traceback": [
      "\u001b[1;31m---------------------------------------------------------------------------\u001b[0m",
      "\u001b[1;31mValueError\u001b[0m                                Traceback (most recent call last)",
      "\u001b[1;32m<ipython-input-163-31e6953bb356>\u001b[0m in \u001b[0;36m<module>\u001b[1;34m\u001b[0m\n\u001b[1;32m----> 1\u001b[1;33m \u001b[0mrf_random\u001b[0m\u001b[1;33m.\u001b[0m\u001b[0mfit\u001b[0m\u001b[1;33m(\u001b[0m\u001b[0mX_train_reg\u001b[0m\u001b[1;33m,\u001b[0m \u001b[0my_train_reg\u001b[0m\u001b[1;33m)\u001b[0m\u001b[1;33m\u001b[0m\u001b[1;33m\u001b[0m\u001b[0m\n\u001b[0m",
      "\u001b[1;32m~\\anaconda3\\lib\\site-packages\\sklearn\\model_selection\\_search.py\u001b[0m in \u001b[0;36mfit\u001b[1;34m(self, X, y, groups, **fit_params)\u001b[0m\n\u001b[0;32m    737\u001b[0m             \u001b[0mrefit_start_time\u001b[0m \u001b[1;33m=\u001b[0m \u001b[0mtime\u001b[0m\u001b[1;33m.\u001b[0m\u001b[0mtime\u001b[0m\u001b[1;33m(\u001b[0m\u001b[1;33m)\u001b[0m\u001b[1;33m\u001b[0m\u001b[1;33m\u001b[0m\u001b[0m\n\u001b[0;32m    738\u001b[0m             \u001b[1;32mif\u001b[0m \u001b[0my\u001b[0m \u001b[1;32mis\u001b[0m \u001b[1;32mnot\u001b[0m \u001b[1;32mNone\u001b[0m\u001b[1;33m:\u001b[0m\u001b[1;33m\u001b[0m\u001b[1;33m\u001b[0m\u001b[0m\n\u001b[1;32m--> 739\u001b[1;33m                 \u001b[0mself\u001b[0m\u001b[1;33m.\u001b[0m\u001b[0mbest_estimator_\u001b[0m\u001b[1;33m.\u001b[0m\u001b[0mfit\u001b[0m\u001b[1;33m(\u001b[0m\u001b[0mX\u001b[0m\u001b[1;33m,\u001b[0m \u001b[0my\u001b[0m\u001b[1;33m,\u001b[0m \u001b[1;33m**\u001b[0m\u001b[0mfit_params\u001b[0m\u001b[1;33m)\u001b[0m\u001b[1;33m\u001b[0m\u001b[1;33m\u001b[0m\u001b[0m\n\u001b[0m\u001b[0;32m    740\u001b[0m             \u001b[1;32melse\u001b[0m\u001b[1;33m:\u001b[0m\u001b[1;33m\u001b[0m\u001b[1;33m\u001b[0m\u001b[0m\n\u001b[0;32m    741\u001b[0m                 \u001b[0mself\u001b[0m\u001b[1;33m.\u001b[0m\u001b[0mbest_estimator_\u001b[0m\u001b[1;33m.\u001b[0m\u001b[0mfit\u001b[0m\u001b[1;33m(\u001b[0m\u001b[0mX\u001b[0m\u001b[1;33m,\u001b[0m \u001b[1;33m**\u001b[0m\u001b[0mfit_params\u001b[0m\u001b[1;33m)\u001b[0m\u001b[1;33m\u001b[0m\u001b[1;33m\u001b[0m\u001b[0m\n",
      "\u001b[1;32m~\\anaconda3\\lib\\site-packages\\sklearn\\ensemble\\_forest.py\u001b[0m in \u001b[0;36mfit\u001b[1;34m(self, X, y, sample_weight)\u001b[0m\n\u001b[0;32m    319\u001b[0m         \u001b[0mself\u001b[0m\u001b[1;33m.\u001b[0m\u001b[0mn_outputs_\u001b[0m \u001b[1;33m=\u001b[0m \u001b[0my\u001b[0m\u001b[1;33m.\u001b[0m\u001b[0mshape\u001b[0m\u001b[1;33m[\u001b[0m\u001b[1;36m1\u001b[0m\u001b[1;33m]\u001b[0m\u001b[1;33m\u001b[0m\u001b[1;33m\u001b[0m\u001b[0m\n\u001b[0;32m    320\u001b[0m \u001b[1;33m\u001b[0m\u001b[0m\n\u001b[1;32m--> 321\u001b[1;33m         \u001b[0my\u001b[0m\u001b[1;33m,\u001b[0m \u001b[0mexpanded_class_weight\u001b[0m \u001b[1;33m=\u001b[0m \u001b[0mself\u001b[0m\u001b[1;33m.\u001b[0m\u001b[0m_validate_y_class_weight\u001b[0m\u001b[1;33m(\u001b[0m\u001b[0my\u001b[0m\u001b[1;33m)\u001b[0m\u001b[1;33m\u001b[0m\u001b[1;33m\u001b[0m\u001b[0m\n\u001b[0m\u001b[0;32m    322\u001b[0m \u001b[1;33m\u001b[0m\u001b[0m\n\u001b[0;32m    323\u001b[0m         \u001b[1;32mif\u001b[0m \u001b[0mgetattr\u001b[0m\u001b[1;33m(\u001b[0m\u001b[0my\u001b[0m\u001b[1;33m,\u001b[0m \u001b[1;34m\"dtype\"\u001b[0m\u001b[1;33m,\u001b[0m \u001b[1;32mNone\u001b[0m\u001b[1;33m)\u001b[0m \u001b[1;33m!=\u001b[0m \u001b[0mDOUBLE\u001b[0m \u001b[1;32mor\u001b[0m \u001b[1;32mnot\u001b[0m \u001b[0my\u001b[0m\u001b[1;33m.\u001b[0m\u001b[0mflags\u001b[0m\u001b[1;33m.\u001b[0m\u001b[0mcontiguous\u001b[0m\u001b[1;33m:\u001b[0m\u001b[1;33m\u001b[0m\u001b[1;33m\u001b[0m\u001b[0m\n",
      "\u001b[1;32m~\\anaconda3\\lib\\site-packages\\sklearn\\ensemble\\_forest.py\u001b[0m in \u001b[0;36m_validate_y_class_weight\u001b[1;34m(self, y)\u001b[0m\n\u001b[0;32m    539\u001b[0m \u001b[1;33m\u001b[0m\u001b[0m\n\u001b[0;32m    540\u001b[0m     \u001b[1;32mdef\u001b[0m \u001b[0m_validate_y_class_weight\u001b[0m\u001b[1;33m(\u001b[0m\u001b[0mself\u001b[0m\u001b[1;33m,\u001b[0m \u001b[0my\u001b[0m\u001b[1;33m)\u001b[0m\u001b[1;33m:\u001b[0m\u001b[1;33m\u001b[0m\u001b[1;33m\u001b[0m\u001b[0m\n\u001b[1;32m--> 541\u001b[1;33m         \u001b[0mcheck_classification_targets\u001b[0m\u001b[1;33m(\u001b[0m\u001b[0my\u001b[0m\u001b[1;33m)\u001b[0m\u001b[1;33m\u001b[0m\u001b[1;33m\u001b[0m\u001b[0m\n\u001b[0m\u001b[0;32m    542\u001b[0m \u001b[1;33m\u001b[0m\u001b[0m\n\u001b[0;32m    543\u001b[0m         \u001b[0my\u001b[0m \u001b[1;33m=\u001b[0m \u001b[0mnp\u001b[0m\u001b[1;33m.\u001b[0m\u001b[0mcopy\u001b[0m\u001b[1;33m(\u001b[0m\u001b[0my\u001b[0m\u001b[1;33m)\u001b[0m\u001b[1;33m\u001b[0m\u001b[1;33m\u001b[0m\u001b[0m\n",
      "\u001b[1;32m~\\anaconda3\\lib\\site-packages\\sklearn\\utils\\multiclass.py\u001b[0m in \u001b[0;36mcheck_classification_targets\u001b[1;34m(y)\u001b[0m\n\u001b[0;32m    167\u001b[0m     if y_type not in ['binary', 'multiclass', 'multiclass-multioutput',\n\u001b[0;32m    168\u001b[0m                       'multilabel-indicator', 'multilabel-sequences']:\n\u001b[1;32m--> 169\u001b[1;33m         \u001b[1;32mraise\u001b[0m \u001b[0mValueError\u001b[0m\u001b[1;33m(\u001b[0m\u001b[1;34m\"Unknown label type: %r\"\u001b[0m \u001b[1;33m%\u001b[0m \u001b[0my_type\u001b[0m\u001b[1;33m)\u001b[0m\u001b[1;33m\u001b[0m\u001b[1;33m\u001b[0m\u001b[0m\n\u001b[0m\u001b[0;32m    170\u001b[0m \u001b[1;33m\u001b[0m\u001b[0m\n\u001b[0;32m    171\u001b[0m \u001b[1;33m\u001b[0m\u001b[0m\n",
      "\u001b[1;31mValueError\u001b[0m: Unknown label type: 'continuous'"
     ]
    }
   ],
   "source": [
    "rf_random.fit(X_train_reg, y_train_reg)"
   ]
  },
  {
   "cell_type": "markdown",
   "metadata": {},
   "source": [
    "### RandomizedCV results, params/estimator"
   ]
  },
  {
   "cell_type": "code",
   "execution_count": 88,
   "metadata": {},
   "outputs": [
    {
     "data": {
      "text/plain": [
       "RandomForestClassifier(bootstrap=True, ccp_alpha=0.0, class_weight=None,\n",
       "                       criterion='gini', max_depth=10, max_features='sqrt',\n",
       "                       max_leaf_nodes=None, max_samples=None,\n",
       "                       min_impurity_decrease=0.0, min_impurity_split=None,\n",
       "                       min_samples_leaf=1, min_samples_split=5,\n",
       "                       min_weight_fraction_leaf=0.0, n_estimators=2000,\n",
       "                       n_jobs=None, oob_score=False, random_state=None,\n",
       "                       verbose=0, warm_start=False)"
      ]
     },
     "execution_count": 88,
     "metadata": {},
     "output_type": "execute_result"
    }
   ],
   "source": [
    "rf_random.best_estimator_"
   ]
  },
  {
   "cell_type": "code",
   "execution_count": 97,
   "metadata": {},
   "outputs": [
    {
     "data": {
      "text/plain": [
       "{'n_estimators': 2000,\n",
       " 'min_samples_split': 5,\n",
       " 'min_samples_leaf': 1,\n",
       " 'max_features': 'sqrt',\n",
       " 'max_depth': 10,\n",
       " 'bootstrap': True}"
      ]
     },
     "execution_count": 97,
     "metadata": {},
     "output_type": "execute_result"
    }
   ],
   "source": [
    "rf_random.best_params_"
   ]
  },
  {
   "cell_type": "code",
   "execution_count": 86,
   "metadata": {},
   "outputs": [],
   "source": [
    "y_pred = rf_random.predict(X_test_reg)"
   ]
  },
  {
   "cell_type": "code",
   "execution_count": 87,
   "metadata": {},
   "outputs": [
    {
     "name": "stdout",
     "output_type": "stream",
     "text": [
      "              precision    recall  f1-score   support\n",
      "\n",
      "           0       0.88      0.76      0.82        93\n",
      "           1       0.80      0.90      0.85        98\n",
      "\n",
      "    accuracy                           0.83       191\n",
      "   macro avg       0.84      0.83      0.83       191\n",
      "weighted avg       0.84      0.83      0.83       191\n",
      "\n"
     ]
    },
    {
     "data": {
      "image/png": "[encoded data removed]",
      "text/plain": [
       "<Figure size 576x432 with 2 Axes>"
      ]
     },
     "metadata": {
      "needs_background": "light"
     },
     "output_type": "display_data"
    }
   ],
   "source": [
    "import sklearn.metrics as sklm\n",
    "print(sklm.classification_report(y_test_reg, y_pred))\n",
    "\n",
    "conf = pd.DataFrame(sklm.confusion_matrix(y_test_reg, y_pred))\n",
    "\n",
    "plt.figure(figsize=(8, 6))\n",
    "plt.title('Confusion matrix')\n",
    "sns.heatmap(conf, annot=True, fmt='d'); "
   ]
  },
  {
   "cell_type": "markdown",
   "metadata": {},
   "source": [
    "Same results as our base model"
   ]
  },
  {
   "cell_type": "code",
   "execution_count": 91,
   "metadata": {},
   "outputs": [],
   "source": [
    "# rf = RandomForestClassifier(bootstrap=True, ccp_alpha=0.0, class_weight=None,\n",
    "#                        criterion='gini', max_depth=10, max_features='sqrt',\n",
    "#                        max_leaf_nodes=None, max_samples=None,\n",
    "#                        min_impurity_decrease=0.0, min_impurity_split=None,\n",
    "#                        min_samples_leaf=1, min_samples_split=5,\n",
    "#                        min_weight_fraction_leaf=0.0, n_estimators=2000,\n",
    "#                        n_jobs=None, oob_score=False, random_state=None,\n",
    "#                        verbose=0, warm_start=False)"
   ]
  },
  {
   "cell_type": "markdown",
   "metadata": {},
   "source": [
    "### GridSearchCV"
   ]
  },
  {
   "cell_type": "code",
   "execution_count": 118,
   "metadata": {},
   "outputs": [],
   "source": [
    "# Create the parameter grid based on the results of random search \n",
    "param_grid = {\n",
    "    'bootstrap': [True],\n",
    "    'max_depth': [10],\n",
    "    'min_samples_leaf': [1,2,3],\n",
    "    'min_samples_split': [5,7,9],\n",
    "    'n_estimators': [500]\n",
    "}"
   ]
  },
  {
   "cell_type": "code",
   "execution_count": 119,
   "metadata": {},
   "outputs": [],
   "source": [
    "rf = RandomForestClassifier()\n",
    "\n",
    "grid_search = GridSearchCV(estimator= rf, param_grid = param_grid, \n",
    "                          cv = 3, n_jobs = 2, verbose = 2)"
   ]
  },
  {
   "cell_type": "code",
   "execution_count": 120,
   "metadata": {},
   "outputs": [
    {
     "name": "stdout",
     "output_type": "stream",
     "text": [
      "Fitting 3 folds for each of 9 candidates, totalling 27 fits\n"
     ]
    },
    {
     "name": "stderr",
     "output_type": "stream",
     "text": [
      "[Parallel(n_jobs=2)]: Using backend LokyBackend with 2 concurrent workers.\n",
      "[Parallel(n_jobs=2)]: Done  27 out of  27 | elapsed:    1.1s finished\n"
     ]
    },
    {
     "ename": "ValueError",
     "evalue": "Unknown label type: 'continuous'",
     "output_type": "error",
     "traceback": [
      "\u001b[1;31m---------------------------------------------------------------------------\u001b[0m",
      "\u001b[1;31mValueError\u001b[0m                                Traceback (most recent call last)",
      "\u001b[1;32m<ipython-input-120-dfdf10dc51e0>\u001b[0m in \u001b[0;36m<module>\u001b[1;34m\u001b[0m\n\u001b[1;32m----> 1\u001b[1;33m \u001b[0mgrid_search\u001b[0m\u001b[1;33m.\u001b[0m\u001b[0mfit\u001b[0m\u001b[1;33m(\u001b[0m\u001b[0mX_train_reg\u001b[0m\u001b[1;33m,\u001b[0m \u001b[0my_train_reg\u001b[0m\u001b[1;33m)\u001b[0m\u001b[1;33m\u001b[0m\u001b[1;33m\u001b[0m\u001b[0m\n\u001b[0m",
      "\u001b[1;32m~\\anaconda3\\lib\\site-packages\\sklearn\\model_selection\\_search.py\u001b[0m in \u001b[0;36mfit\u001b[1;34m(self, X, y, groups, **fit_params)\u001b[0m\n\u001b[0;32m    737\u001b[0m             \u001b[0mrefit_start_time\u001b[0m \u001b[1;33m=\u001b[0m \u001b[0mtime\u001b[0m\u001b[1;33m.\u001b[0m\u001b[0mtime\u001b[0m\u001b[1;33m(\u001b[0m\u001b[1;33m)\u001b[0m\u001b[1;33m\u001b[0m\u001b[1;33m\u001b[0m\u001b[0m\n\u001b[0;32m    738\u001b[0m             \u001b[1;32mif\u001b[0m \u001b[0my\u001b[0m \u001b[1;32mis\u001b[0m \u001b[1;32mnot\u001b[0m \u001b[1;32mNone\u001b[0m\u001b[1;33m:\u001b[0m\u001b[1;33m\u001b[0m\u001b[1;33m\u001b[0m\u001b[0m\n\u001b[1;32m--> 739\u001b[1;33m                 \u001b[0mself\u001b[0m\u001b[1;33m.\u001b[0m\u001b[0mbest_estimator_\u001b[0m\u001b[1;33m.\u001b[0m\u001b[0mfit\u001b[0m\u001b[1;33m(\u001b[0m\u001b[0mX\u001b[0m\u001b[1;33m,\u001b[0m \u001b[0my\u001b[0m\u001b[1;33m,\u001b[0m \u001b[1;33m**\u001b[0m\u001b[0mfit_params\u001b[0m\u001b[1;33m)\u001b[0m\u001b[1;33m\u001b[0m\u001b[1;33m\u001b[0m\u001b[0m\n\u001b[0m\u001b[0;32m    740\u001b[0m             \u001b[1;32melse\u001b[0m\u001b[1;33m:\u001b[0m\u001b[1;33m\u001b[0m\u001b[1;33m\u001b[0m\u001b[0m\n\u001b[0;32m    741\u001b[0m                 \u001b[0mself\u001b[0m\u001b[1;33m.\u001b[0m\u001b[0mbest_estimator_\u001b[0m\u001b[1;33m.\u001b[0m\u001b[0mfit\u001b[0m\u001b[1;33m(\u001b[0m\u001b[0mX\u001b[0m\u001b[1;33m,\u001b[0m \u001b[1;33m**\u001b[0m\u001b[0mfit_params\u001b[0m\u001b[1;33m)\u001b[0m\u001b[1;33m\u001b[0m\u001b[1;33m\u001b[0m\u001b[0m\n",
      "\u001b[1;32m~\\anaconda3\\lib\\site-packages\\sklearn\\ensemble\\_forest.py\u001b[0m in \u001b[0;36mfit\u001b[1;34m(self, X, y, sample_weight)\u001b[0m\n\u001b[0;32m    319\u001b[0m         \u001b[0mself\u001b[0m\u001b[1;33m.\u001b[0m\u001b[0mn_outputs_\u001b[0m \u001b[1;33m=\u001b[0m \u001b[0my\u001b[0m\u001b[1;33m.\u001b[0m\u001b[0mshape\u001b[0m\u001b[1;33m[\u001b[0m\u001b[1;36m1\u001b[0m\u001b[1;33m]\u001b[0m\u001b[1;33m\u001b[0m\u001b[1;33m\u001b[0m\u001b[0m\n\u001b[0;32m    320\u001b[0m \u001b[1;33m\u001b[0m\u001b[0m\n\u001b[1;32m--> 321\u001b[1;33m         \u001b[0my\u001b[0m\u001b[1;33m,\u001b[0m \u001b[0mexpanded_class_weight\u001b[0m \u001b[1;33m=\u001b[0m \u001b[0mself\u001b[0m\u001b[1;33m.\u001b[0m\u001b[0m_validate_y_class_weight\u001b[0m\u001b[1;33m(\u001b[0m\u001b[0my\u001b[0m\u001b[1;33m)\u001b[0m\u001b[1;33m\u001b[0m\u001b[1;33m\u001b[0m\u001b[0m\n\u001b[0m\u001b[0;32m    322\u001b[0m \u001b[1;33m\u001b[0m\u001b[0m\n\u001b[0;32m    323\u001b[0m         \u001b[1;32mif\u001b[0m \u001b[0mgetattr\u001b[0m\u001b[1;33m(\u001b[0m\u001b[0my\u001b[0m\u001b[1;33m,\u001b[0m \u001b[1;34m\"dtype\"\u001b[0m\u001b[1;33m,\u001b[0m \u001b[1;32mNone\u001b[0m\u001b[1;33m)\u001b[0m \u001b[1;33m!=\u001b[0m \u001b[0mDOUBLE\u001b[0m \u001b[1;32mor\u001b[0m \u001b[1;32mnot\u001b[0m \u001b[0my\u001b[0m\u001b[1;33m.\u001b[0m\u001b[0mflags\u001b[0m\u001b[1;33m.\u001b[0m\u001b[0mcontiguous\u001b[0m\u001b[1;33m:\u001b[0m\u001b[1;33m\u001b[0m\u001b[1;33m\u001b[0m\u001b[0m\n",
      "\u001b[1;32m~\\anaconda3\\lib\\site-packages\\sklearn\\ensemble\\_forest.py\u001b[0m in \u001b[0;36m_validate_y_class_weight\u001b[1;34m(self, y)\u001b[0m\n\u001b[0;32m    539\u001b[0m \u001b[1;33m\u001b[0m\u001b[0m\n\u001b[0;32m    540\u001b[0m     \u001b[1;32mdef\u001b[0m \u001b[0m_validate_y_class_weight\u001b[0m\u001b[1;33m(\u001b[0m\u001b[0mself\u001b[0m\u001b[1;33m,\u001b[0m \u001b[0my\u001b[0m\u001b[1;33m)\u001b[0m\u001b[1;33m:\u001b[0m\u001b[1;33m\u001b[0m\u001b[1;33m\u001b[0m\u001b[0m\n\u001b[1;32m--> 541\u001b[1;33m         \u001b[0mcheck_classification_targets\u001b[0m\u001b[1;33m(\u001b[0m\u001b[0my\u001b[0m\u001b[1;33m)\u001b[0m\u001b[1;33m\u001b[0m\u001b[1;33m\u001b[0m\u001b[0m\n\u001b[0m\u001b[0;32m    542\u001b[0m \u001b[1;33m\u001b[0m\u001b[0m\n\u001b[0;32m    543\u001b[0m         \u001b[0my\u001b[0m \u001b[1;33m=\u001b[0m \u001b[0mnp\u001b[0m\u001b[1;33m.\u001b[0m\u001b[0mcopy\u001b[0m\u001b[1;33m(\u001b[0m\u001b[0my\u001b[0m\u001b[1;33m)\u001b[0m\u001b[1;33m\u001b[0m\u001b[1;33m\u001b[0m\u001b[0m\n",
      "\u001b[1;32m~\\anaconda3\\lib\\site-packages\\sklearn\\utils\\multiclass.py\u001b[0m in \u001b[0;36mcheck_classification_targets\u001b[1;34m(y)\u001b[0m\n\u001b[0;32m    167\u001b[0m     if y_type not in ['binary', 'multiclass', 'multiclass-multioutput',\n\u001b[0;32m    168\u001b[0m                       'multilabel-indicator', 'multilabel-sequences']:\n\u001b[1;32m--> 169\u001b[1;33m         \u001b[1;32mraise\u001b[0m \u001b[0mValueError\u001b[0m\u001b[1;33m(\u001b[0m\u001b[1;34m\"Unknown label type: %r\"\u001b[0m \u001b[1;33m%\u001b[0m \u001b[0my_type\u001b[0m\u001b[1;33m)\u001b[0m\u001b[1;33m\u001b[0m\u001b[1;33m\u001b[0m\u001b[0m\n\u001b[0m\u001b[0;32m    170\u001b[0m \u001b[1;33m\u001b[0m\u001b[0m\n\u001b[0;32m    171\u001b[0m \u001b[1;33m\u001b[0m\u001b[0m\n",
      "\u001b[1;31mValueError\u001b[0m: Unknown label type: 'continuous'"
     ]
    }
   ],
   "source": [
    "grid_search.fit(X_train_reg, y_train_reg)"
   ]
  },
  {
   "cell_type": "code",
   "execution_count": 121,
   "metadata": {},
   "outputs": [
    {
     "ename": "AttributeError",
     "evalue": "'RandomForestClassifier' object has no attribute 'estimators_'",
     "output_type": "error",
     "traceback": [
      "\u001b[1;31m---------------------------------------------------------------------------\u001b[0m",
      "\u001b[1;31mAttributeError\u001b[0m                            Traceback (most recent call last)",
      "\u001b[1;32m<ipython-input-121-8014bcc2ac7c>\u001b[0m in \u001b[0;36m<module>\u001b[1;34m\u001b[0m\n\u001b[1;32m----> 1\u001b[1;33m \u001b[0my_pred_grid\u001b[0m \u001b[1;33m=\u001b[0m \u001b[0mgrid_search\u001b[0m\u001b[1;33m.\u001b[0m\u001b[0mpredict\u001b[0m\u001b[1;33m(\u001b[0m\u001b[0mX_test_reg\u001b[0m\u001b[1;33m)\u001b[0m\u001b[1;33m\u001b[0m\u001b[1;33m\u001b[0m\u001b[0m\n\u001b[0m",
      "\u001b[1;32m~\\anaconda3\\lib\\site-packages\\sklearn\\utils\\metaestimators.py\u001b[0m in \u001b[0;36m<lambda>\u001b[1;34m(*args, **kwargs)\u001b[0m\n\u001b[0;32m    114\u001b[0m \u001b[1;33m\u001b[0m\u001b[0m\n\u001b[0;32m    115\u001b[0m         \u001b[1;31m# lambda, but not partial, allows help() to work with update_wrapper\u001b[0m\u001b[1;33m\u001b[0m\u001b[1;33m\u001b[0m\u001b[1;33m\u001b[0m\u001b[0m\n\u001b[1;32m--> 116\u001b[1;33m         \u001b[0mout\u001b[0m \u001b[1;33m=\u001b[0m \u001b[1;32mlambda\u001b[0m \u001b[1;33m*\u001b[0m\u001b[0margs\u001b[0m\u001b[1;33m,\u001b[0m \u001b[1;33m**\u001b[0m\u001b[0mkwargs\u001b[0m\u001b[1;33m:\u001b[0m \u001b[0mself\u001b[0m\u001b[1;33m.\u001b[0m\u001b[0mfn\u001b[0m\u001b[1;33m(\u001b[0m\u001b[0mobj\u001b[0m\u001b[1;33m,\u001b[0m \u001b[1;33m*\u001b[0m\u001b[0margs\u001b[0m\u001b[1;33m,\u001b[0m \u001b[1;33m**\u001b[0m\u001b[0mkwargs\u001b[0m\u001b[1;33m)\u001b[0m\u001b[1;33m\u001b[0m\u001b[1;33m\u001b[0m\u001b[0m\n\u001b[0m\u001b[0;32m    117\u001b[0m         \u001b[1;31m# update the docstring of the returned function\u001b[0m\u001b[1;33m\u001b[0m\u001b[1;33m\u001b[0m\u001b[1;33m\u001b[0m\u001b[0m\n\u001b[0;32m    118\u001b[0m         \u001b[0mupdate_wrapper\u001b[0m\u001b[1;33m(\u001b[0m\u001b[0mout\u001b[0m\u001b[1;33m,\u001b[0m \u001b[0mself\u001b[0m\u001b[1;33m.\u001b[0m\u001b[0mfn\u001b[0m\u001b[1;33m)\u001b[0m\u001b[1;33m\u001b[0m\u001b[1;33m\u001b[0m\u001b[0m\n",
      "\u001b[1;32m~\\anaconda3\\lib\\site-packages\\sklearn\\model_selection\\_search.py\u001b[0m in \u001b[0;36mpredict\u001b[1;34m(self, X)\u001b[0m\n\u001b[0;32m    475\u001b[0m         \"\"\"\n\u001b[0;32m    476\u001b[0m         \u001b[0mself\u001b[0m\u001b[1;33m.\u001b[0m\u001b[0m_check_is_fitted\u001b[0m\u001b[1;33m(\u001b[0m\u001b[1;34m'predict'\u001b[0m\u001b[1;33m)\u001b[0m\u001b[1;33m\u001b[0m\u001b[1;33m\u001b[0m\u001b[0m\n\u001b[1;32m--> 477\u001b[1;33m         \u001b[1;32mreturn\u001b[0m \u001b[0mself\u001b[0m\u001b[1;33m.\u001b[0m\u001b[0mbest_estimator_\u001b[0m\u001b[1;33m.\u001b[0m\u001b[0mpredict\u001b[0m\u001b[1;33m(\u001b[0m\u001b[0mX\u001b[0m\u001b[1;33m)\u001b[0m\u001b[1;33m\u001b[0m\u001b[1;33m\u001b[0m\u001b[0m\n\u001b[0m\u001b[0;32m    478\u001b[0m \u001b[1;33m\u001b[0m\u001b[0m\n\u001b[0;32m    479\u001b[0m     \u001b[1;33m@\u001b[0m\u001b[0mif_delegate_has_method\u001b[0m\u001b[1;33m(\u001b[0m\u001b[0mdelegate\u001b[0m\u001b[1;33m=\u001b[0m\u001b[1;33m(\u001b[0m\u001b[1;34m'best_estimator_'\u001b[0m\u001b[1;33m,\u001b[0m \u001b[1;34m'estimator'\u001b[0m\u001b[1;33m)\u001b[0m\u001b[1;33m)\u001b[0m\u001b[1;33m\u001b[0m\u001b[1;33m\u001b[0m\u001b[0m\n",
      "\u001b[1;32m~\\anaconda3\\lib\\site-packages\\sklearn\\ensemble\\_forest.py\u001b[0m in \u001b[0;36mpredict\u001b[1;34m(self, X)\u001b[0m\n\u001b[0;32m    610\u001b[0m             \u001b[0mThe\u001b[0m \u001b[0mpredicted\u001b[0m \u001b[0mclasses\u001b[0m\u001b[1;33m.\u001b[0m\u001b[1;33m\u001b[0m\u001b[1;33m\u001b[0m\u001b[0m\n\u001b[0;32m    611\u001b[0m         \"\"\"\n\u001b[1;32m--> 612\u001b[1;33m         \u001b[0mproba\u001b[0m \u001b[1;33m=\u001b[0m \u001b[0mself\u001b[0m\u001b[1;33m.\u001b[0m\u001b[0mpredict_proba\u001b[0m\u001b[1;33m(\u001b[0m\u001b[0mX\u001b[0m\u001b[1;33m)\u001b[0m\u001b[1;33m\u001b[0m\u001b[1;33m\u001b[0m\u001b[0m\n\u001b[0m\u001b[0;32m    613\u001b[0m \u001b[1;33m\u001b[0m\u001b[0m\n\u001b[0;32m    614\u001b[0m         \u001b[1;32mif\u001b[0m \u001b[0mself\u001b[0m\u001b[1;33m.\u001b[0m\u001b[0mn_outputs_\u001b[0m \u001b[1;33m==\u001b[0m \u001b[1;36m1\u001b[0m\u001b[1;33m:\u001b[0m\u001b[1;33m\u001b[0m\u001b[1;33m\u001b[0m\u001b[0m\n",
      "\u001b[1;32m~\\anaconda3\\lib\\site-packages\\sklearn\\ensemble\\_forest.py\u001b[0m in \u001b[0;36mpredict_proba\u001b[1;34m(self, X)\u001b[0m\n\u001b[0;32m    654\u001b[0m         \u001b[0mcheck_is_fitted\u001b[0m\u001b[1;33m(\u001b[0m\u001b[0mself\u001b[0m\u001b[1;33m)\u001b[0m\u001b[1;33m\u001b[0m\u001b[1;33m\u001b[0m\u001b[0m\n\u001b[0;32m    655\u001b[0m         \u001b[1;31m# Check data\u001b[0m\u001b[1;33m\u001b[0m\u001b[1;33m\u001b[0m\u001b[1;33m\u001b[0m\u001b[0m\n\u001b[1;32m--> 656\u001b[1;33m         \u001b[0mX\u001b[0m \u001b[1;33m=\u001b[0m \u001b[0mself\u001b[0m\u001b[1;33m.\u001b[0m\u001b[0m_validate_X_predict\u001b[0m\u001b[1;33m(\u001b[0m\u001b[0mX\u001b[0m\u001b[1;33m)\u001b[0m\u001b[1;33m\u001b[0m\u001b[1;33m\u001b[0m\u001b[0m\n\u001b[0m\u001b[0;32m    657\u001b[0m \u001b[1;33m\u001b[0m\u001b[0m\n\u001b[0;32m    658\u001b[0m         \u001b[1;31m# Assign chunk of trees to jobs\u001b[0m\u001b[1;33m\u001b[0m\u001b[1;33m\u001b[0m\u001b[1;33m\u001b[0m\u001b[0m\n",
      "\u001b[1;32m~\\anaconda3\\lib\\site-packages\\sklearn\\ensemble\\_forest.py\u001b[0m in \u001b[0;36m_validate_X_predict\u001b[1;34m(self, X)\u001b[0m\n\u001b[0;32m    410\u001b[0m         \u001b[0mcheck_is_fitted\u001b[0m\u001b[1;33m(\u001b[0m\u001b[0mself\u001b[0m\u001b[1;33m)\u001b[0m\u001b[1;33m\u001b[0m\u001b[1;33m\u001b[0m\u001b[0m\n\u001b[0;32m    411\u001b[0m \u001b[1;33m\u001b[0m\u001b[0m\n\u001b[1;32m--> 412\u001b[1;33m         \u001b[1;32mreturn\u001b[0m \u001b[0mself\u001b[0m\u001b[1;33m.\u001b[0m\u001b[0mestimators_\u001b[0m\u001b[1;33m[\u001b[0m\u001b[1;36m0\u001b[0m\u001b[1;33m]\u001b[0m\u001b[1;33m.\u001b[0m\u001b[0m_validate_X_predict\u001b[0m\u001b[1;33m(\u001b[0m\u001b[0mX\u001b[0m\u001b[1;33m,\u001b[0m \u001b[0mcheck_input\u001b[0m\u001b[1;33m=\u001b[0m\u001b[1;32mTrue\u001b[0m\u001b[1;33m)\u001b[0m\u001b[1;33m\u001b[0m\u001b[1;33m\u001b[0m\u001b[0m\n\u001b[0m\u001b[0;32m    413\u001b[0m \u001b[1;33m\u001b[0m\u001b[0m\n\u001b[0;32m    414\u001b[0m     \u001b[1;33m@\u001b[0m\u001b[0mproperty\u001b[0m\u001b[1;33m\u001b[0m\u001b[1;33m\u001b[0m\u001b[0m\n",
      "\u001b[1;31mAttributeError\u001b[0m: 'RandomForestClassifier' object has no attribute 'estimators_'"
     ]
    }
   ],
   "source": [
    "y_pred_grid = grid_search.predict(X_test_reg)"
   ]
  },
  {
   "cell_type": "code",
   "execution_count": 103,
   "metadata": {},
   "outputs": [
    {
     "name": "stdout",
     "output_type": "stream",
     "text": [
      "              precision    recall  f1-score   support\n",
      "\n",
      "           0       0.87      0.76      0.81        93\n",
      "           1       0.80      0.89      0.84        98\n",
      "\n",
      "    accuracy                           0.83       191\n",
      "   macro avg       0.83      0.83      0.83       191\n",
      "weighted avg       0.83      0.83      0.83       191\n",
      "\n"
     ]
    },
    {
     "data": {
      "image/png": "[encoded data removed]",
      "text/plain": [
       "<Figure size 576x432 with 2 Axes>"
      ]
     },
     "metadata": {
      "needs_background": "light"
     },
     "output_type": "display_data"
    }
   ],
   "source": [
    "print(sklm.classification_report(y_test_reg, y_pred_grid))\n",
    "\n",
    "conf = pd.DataFrame(sklm.confusion_matrix(y_test_reg, y_pred_grid))\n",
    "\n",
    "plt.figure(figsize=(8, 6))\n",
    "plt.title('Confusion matrix')\n",
    "sns.heatmap(conf, annot=True, fmt='d');"
   ]
  },
  {
   "cell_type": "markdown",
   "metadata": {},
   "source": [
    "## <font color='red'>RandomForestRegressor (Regression test for avg_salary)</font>"
   ]
  },
  {
   "cell_type": "code",
   "execution_count": 167,
   "metadata": {},
   "outputs": [],
   "source": [
    "from sklearn.ensemble import RandomForestRegressor\n",
    "from sklearn.metrics import mean_squared_error, mean_squared_error, mean_absolute_error, median_absolute_error"
   ]
  },
  {
   "cell_type": "code",
   "execution_count": 127,
   "metadata": {},
   "outputs": [],
   "source": [
    "rf_regressor = RandomForestRegressor(random_state = 42)"
   ]
  },
  {
   "cell_type": "code",
   "execution_count": 129,
   "metadata": {},
   "outputs": [
    {
     "name": "stdout",
     "output_type": "stream",
     "text": [
      "Parameters currently in use:\n",
      "\n",
      "{'bootstrap': True, 'ccp_alpha': 0.0, 'class_weight': None, 'criterion': 'gini', 'max_depth': None, 'max_features': 'auto', 'max_leaf_nodes': None, 'max_samples': None, 'min_impurity_decrease': 0.0, 'min_impurity_split': None, 'min_samples_leaf': 1, 'min_samples_split': 2, 'min_weight_fraction_leaf': 0.0, 'n_estimators': 100, 'n_jobs': None, 'oob_score': False, 'random_state': None, 'verbose': 0, 'warm_start': False}\n"
     ]
    }
   ],
   "source": [
    "print('Parameters currently in use:\\n')\n",
    "print(rf.get_params())"
   ]
  },
  {
   "cell_type": "code",
   "execution_count": 130,
   "metadata": {},
   "outputs": [],
   "source": [
    "n_estimators = [int(x) for x in np.linspace(start = 200, stop = 2000, num = 10)]\n",
    "max_features = ['auto', 'sqrt']\n",
    "max_depth = [int(x) for x in np.linspace(10, 110, num = 11)]\n",
    "max_depth.append(None)\n",
    "min_samples_split = [2, 5, 10]\n",
    "min_samples_leaf = [1, 2, 4]\n",
    "bootstrap = [True, False]"
   ]
  },
  {
   "cell_type": "code",
   "execution_count": 133,
   "metadata": {},
   "outputs": [
    {
     "name": "stdout",
     "output_type": "stream",
     "text": [
      "{'n_estimators': [200, 400, 600, 800, 1000, 1200, 1400, 1600, 1800, 2000], 'max_features': ['auto', 'sqrt'], 'max_depth': [10, 20, 30, 40, 50, 60, 70, 80, 90, 100, 110, None], 'min_samples_split': [2, 5, 10], 'min_samples_leaf': [1, 2, 4], 'bootstrap': [True, False]}\n"
     ]
    }
   ],
   "source": [
    "random_grid = {'n_estimators': n_estimators,\n",
    "               'max_features': max_features,\n",
    "               'max_depth': max_depth,\n",
    "               'min_samples_split': min_samples_split,\n",
    "               'min_samples_leaf': min_samples_leaf,\n",
    "               'bootstrap': bootstrap}\n",
    "print(random_grid)"
   ]
  },
  {
   "cell_type": "code",
   "execution_count": 140,
   "metadata": {},
   "outputs": [
    {
     "name": "stdout",
     "output_type": "stream",
     "text": [
      "Fitting 3 folds for each of 100 candidates, totalling 300 fits\n"
     ]
    },
    {
     "name": "stderr",
     "output_type": "stream",
     "text": [
      "[Parallel(n_jobs=2)]: Using backend LokyBackend with 2 concurrent workers.\n",
      "[Parallel(n_jobs=2)]: Done  37 tasks      | elapsed:   48.4s\n",
      "[Parallel(n_jobs=2)]: Done 158 tasks      | elapsed:  3.4min\n",
      "[Parallel(n_jobs=2)]: Done 300 out of 300 | elapsed:  6.6min finished\n"
     ]
    },
    {
     "data": {
      "text/plain": [
       "RandomizedSearchCV(cv=3, error_score=nan,\n",
       "                   estimator=RandomForestRegressor(bootstrap=True,\n",
       "                                                   ccp_alpha=0.0,\n",
       "                                                   criterion='mse',\n",
       "                                                   max_depth=None,\n",
       "                                                   max_features='auto',\n",
       "                                                   max_leaf_nodes=None,\n",
       "                                                   max_samples=None,\n",
       "                                                   min_impurity_decrease=0.0,\n",
       "                                                   min_impurity_split=None,\n",
       "                                                   min_samples_leaf=1,\n",
       "                                                   min_samples_split=2,\n",
       "                                                   min_weight_fraction_leaf=0.0,\n",
       "                                                   n_estimators=100,\n",
       "                                                   n_jobs=None, oob_score=Fals...\n",
       "                   param_distributions={'bootstrap': [True, False],\n",
       "                                        'max_depth': [10, 20, 30, 40, 50, 60,\n",
       "                                                      70, 80, 90, 100, 110,\n",
       "                                                      None],\n",
       "                                        'max_features': ['auto', 'sqrt'],\n",
       "                                        'min_samples_leaf': [1, 2, 4],\n",
       "                                        'min_samples_split': [2, 5, 10],\n",
       "                                        'n_estimators': [200, 400, 600, 800,\n",
       "                                                         1000, 1200, 1400, 1600,\n",
       "                                                         1800, 2000]},\n",
       "                   pre_dispatch='2*n_jobs', random_state=42, refit=True,\n",
       "                   return_train_score=False, scoring=None, verbose=2)"
      ]
     },
     "execution_count": 140,
     "metadata": {},
     "output_type": "execute_result"
    }
   ],
   "source": [
    "rf = RandomForestRegressor()\n",
    "rf_random = RandomizedSearchCV(estimator = rf, param_distributions = random_grid, n_iter = 100, cv = 3, verbose=2, random_state=42, n_jobs = 2)\n",
    "rf_random.fit(X_train_reg, y_train_reg)"
   ]
  },
  {
   "cell_type": "code",
   "execution_count": 141,
   "metadata": {},
   "outputs": [
    {
     "data": {
      "text/plain": [
       "{'n_estimators': 800,\n",
       " 'min_samples_split': 2,\n",
       " 'min_samples_leaf': 1,\n",
       " 'max_features': 'auto',\n",
       " 'max_depth': 100,\n",
       " 'bootstrap': True}"
      ]
     },
     "execution_count": 141,
     "metadata": {},
     "output_type": "execute_result"
    }
   ],
   "source": [
    "rf_random.best_params_"
   ]
  },
  {
   "cell_type": "code",
   "execution_count": 93,
   "metadata": {},
   "outputs": [],
   "source": [
    "#Regression evaluation function\n",
    "def evaluate(model, test_features, test_labels):\n",
    "    predictions = model.predict(test_features)\n",
    "    errors = abs(predictions - test_labels)\n",
    "    mape = 100 * np.mean(errors / test_labels)\n",
    "    accuracy = 100 - mape\n",
    "    print('Model Performance')\n",
    "    print('Average Error: {:0.4f} degrees.'.format(np.mean(errors)))\n",
    "    print('Accuracy = {:0.2f}%.'.format(accuracy))\n",
    "    rmse = np.sqrt(mean_squared_error(test_labels, predictions))\n",
    "    print(\"RMSE: %f\" % (rmse))\n",
    "    print('Mean Squared Error      = ',mean_squared_error(test_labels, predictions))\n",
    "    print('Root Mean Square Error = ',np.sqrt(mean_squared_error(test_labels, predictions)))\n",
    "    print('Mean Absolute Error    = ',mean_absolute_error(test_labels, predictions))\n",
    "    print('Median Absolute Error  = ',median_absolute_error(test_labels, predictions))\n",
    "    \n",
    "    return accuracy"
   ]
  },
  {
   "cell_type": "code",
   "execution_count": 171,
   "metadata": {},
   "outputs": [
    {
     "name": "stdout",
     "output_type": "stream",
     "text": [
      "Model Performance\n",
      "Average Error: 10257.3393 degrees.\n",
      "Accuracy = 77.20%.\n",
      "RMSE: 15340.604793\n",
      "Mean Squared Error      =  235334155.41628274\n",
      "Root Mean Square Error =  15340.604793041333\n",
      "Mean Absolute Error    =  10257.339267015706\n",
      "Median Absolute Error  =  6813.8499999999985\n"
     ]
    }
   ],
   "source": [
    "base_model = RandomForestRegressor(n_estimators = 10, random_state = 42)\n",
    "base_model.fit(X_train_reg, y_train_reg)\n",
    "base_accuracy = evaluate(base_model, X_test_reg, y_test_reg)"
   ]
  },
  {
   "cell_type": "code",
   "execution_count": 144,
   "metadata": {},
   "outputs": [
    {
     "name": "stdout",
     "output_type": "stream",
     "text": [
      "Model Performance\n",
      "Average Error: 9713.5551 degrees.\n",
      "Accuracy = 78.15%.\n"
     ]
    }
   ],
   "source": [
    "best_random = rf_random.best_estimator_\n",
    "best_random_accuracy = evaluate(best_random, X_test_reg, y_test_reg)"
   ]
  },
  {
   "cell_type": "code",
   "execution_count": 146,
   "metadata": {},
   "outputs": [
    {
     "name": "stdout",
     "output_type": "stream",
     "text": [
      "Improvement of 1.23%.\n"
     ]
    }
   ],
   "source": [
    "print('Improvement of {:0.2f}%.'.format( 100 * (best_random_accuracy - base_accuracy) / base_accuracy))"
   ]
  },
  {
   "cell_type": "markdown",
   "metadata": {},
   "source": [
    "### GridSearchCV"
   ]
  },
  {
   "cell_type": "code",
   "execution_count": 172,
   "metadata": {},
   "outputs": [],
   "source": [
    " param_grid = {\n",
    "    'bootstrap': [True],\n",
    "    'max_depth': [80, 90, 100, 110],\n",
    "    'max_features': [int(x) for x in np.linspace(2, len(X.columns), num = 20)],\n",
    "    'min_samples_leaf': [1, 2, 3],\n",
    "    'min_samples_split': [2, 4, 6],\n",
    "    'n_estimators': [800]}\n",
    "    \n",
    "rf = RandomForestRegressor()\n",
    "\n",
    "grid_search = GridSearchCV(estimator = rf, param_grid = param_grid, \n",
    "                          cv = 3, n_jobs = 3, verbose = 2)"
   ]
  },
  {
   "cell_type": "code",
   "execution_count": 173,
   "metadata": {},
   "outputs": [
    {
     "name": "stdout",
     "output_type": "stream",
     "text": [
      "Fitting 3 folds for each of 720 candidates, totalling 2160 fits\n"
     ]
    },
    {
     "name": "stderr",
     "output_type": "stream",
     "text": [
      "[Parallel(n_jobs=3)]: Using backend LokyBackend with 3 concurrent workers.\n",
      "[Parallel(n_jobs=3)]: Done  35 tasks      | elapsed:   15.5s\n",
      "[Parallel(n_jobs=3)]: Done 156 tasks      | elapsed:  1.2min\n",
      "[Parallel(n_jobs=3)]: Done 359 tasks      | elapsed:  3.3min\n",
      "[Parallel(n_jobs=3)]: Done 642 tasks      | elapsed:  6.4min\n",
      "[Parallel(n_jobs=3)]: Done 1007 tasks      | elapsed: 10.7min\n",
      "[Parallel(n_jobs=3)]: Done 1452 tasks      | elapsed: 15.5min\n",
      "[Parallel(n_jobs=3)]: Done 1979 tasks      | elapsed: 21.5min\n",
      "[Parallel(n_jobs=3)]: Done 2160 out of 2160 | elapsed: 24.1min finished\n"
     ]
    },
    {
     "data": {
      "text/plain": [
       "GridSearchCV(cv=3, error_score=nan,\n",
       "             estimator=RandomForestRegressor(bootstrap=True, ccp_alpha=0.0,\n",
       "                                             criterion='mse', max_depth=None,\n",
       "                                             max_features='auto',\n",
       "                                             max_leaf_nodes=None,\n",
       "                                             max_samples=None,\n",
       "                                             min_impurity_decrease=0.0,\n",
       "                                             min_impurity_split=None,\n",
       "                                             min_samples_leaf=1,\n",
       "                                             min_samples_split=2,\n",
       "                                             min_weight_fraction_leaf=0.0,\n",
       "                                             n_estimators=100, n_jobs=None,\n",
       "                                             oob_score=False, rand...e,\n",
       "                                             verbose=0, warm_start=False),\n",
       "             iid='deprecated', n_jobs=3,\n",
       "             param_grid={'bootstrap': [True], 'max_depth': [80, 90, 100, 110],\n",
       "                         'max_features': [2, 6, 10, 14, 18, 22, 26, 31, 35, 39,\n",
       "                                          43, 47, 51, 56, 60, 64, 68, 72, 76,\n",
       "                                          81],\n",
       "                         'min_samples_leaf': [1, 2, 3],\n",
       "                         'min_samples_split': [2, 4, 6],\n",
       "                         'n_estimators': [800]},\n",
       "             pre_dispatch='2*n_jobs', refit=True, return_train_score=False,\n",
       "             scoring=None, verbose=2)"
      ]
     },
     "execution_count": 173,
     "metadata": {},
     "output_type": "execute_result"
    }
   ],
   "source": [
    "grid_search.fit(X_train_reg, y_train_reg)"
   ]
  },
  {
   "cell_type": "code",
   "execution_count": 174,
   "metadata": {},
   "outputs": [
    {
     "data": {
      "text/plain": [
       "{'bootstrap': True,\n",
       " 'max_depth': 110,\n",
       " 'max_features': 60,\n",
       " 'min_samples_leaf': 1,\n",
       " 'min_samples_split': 2,\n",
       " 'n_estimators': 800}"
      ]
     },
     "execution_count": 174,
     "metadata": {},
     "output_type": "execute_result"
    }
   ],
   "source": [
    "grid_search.best_params_"
   ]
  },
  {
   "cell_type": "code",
   "execution_count": 175,
   "metadata": {},
   "outputs": [
    {
     "name": "stdout",
     "output_type": "stream",
     "text": [
      "Model Performance\n",
      "Average Error: 9668.2608 degrees.\n",
      "Accuracy = 78.21%.\n",
      "RMSE: 14878.655860\n",
      "Mean Squared Error      =  221374400.19350109\n",
      "Root Mean Square Error =  14878.655859771106\n",
      "Mean Absolute Error    =  9668.260767888309\n",
      "Median Absolute Error  =  5851.501875000002\n"
     ]
    }
   ],
   "source": [
    "best_grid = grid_search.best_estimator_\n",
    "grid_evaluation = evaluate(best_grid, X_test_reg, y_test_reg)"
   ]
  },
  {
   "cell_type": "markdown",
   "metadata": {},
   "source": [
    "### <font color='red'>XGBOOST REGRESSION TEST</font>"
   ]
  },
  {
   "cell_type": "markdown",
   "metadata": {},
   "source": [
    "### Pre-processing / Sampling"
   ]
  },
  {
   "cell_type": "code",
   "execution_count": 101,
   "metadata": {},
   "outputs": [],
   "source": [
    "from sklearn.metrics import mean_squared_error, mean_absolute_error, median_absolute_error\n",
    "# getting our predictors and target\n",
    "X = df_salaryy[['Rating', 'CDI', 'CDD', 'Freelance', 'Temps partiel', 'Temps plein', 'Unknown',\n",
    "                'Count','Dept', 'lat', 'lat*long', 'long', 'lsa1', 'lsa2', 'lsa3', 'lsa4', 'lsa5',\n",
    "                'lda1', 'lda2', 'lda3', 'lda4', 'lda5']]\n",
    "y = df_salaryy['avg_salary']"
   ]
  },
  {
   "cell_type": "code",
   "execution_count": 102,
   "metadata": {},
   "outputs": [],
   "source": [
    "X.Rating = X.Rating.astype(float)\n",
    "X = pd.get_dummies(X, columns=['Dept'])"
   ]
  },
  {
   "cell_type": "code",
   "execution_count": 103,
   "metadata": {},
   "outputs": [],
   "source": [
    "from sklearn.model_selection import train_test_split\n",
    "X_train_reg, X_test_reg, y_train_reg, y_test_reg = train_test_split(X, y, test_size=0.25, random_state=42)"
   ]
  },
  {
   "cell_type": "markdown",
   "metadata": {},
   "source": [
    "Standardization"
   ]
  },
  {
   "cell_type": "code",
   "execution_count": 104,
   "metadata": {},
   "outputs": [
    {
     "data": {
      "text/plain": [
       "array([[-0.41638042, -1.38136283,  3.33581468, ..., -0.1266601 ,\n",
       "        -0.16439899, -0.05933908],\n",
       "       [ 2.657931  , -1.38136283, -0.29977684, ..., -0.1266601 ,\n",
       "        -0.16439899, -0.05933908],\n",
       "       [-0.41638042,  0.72392277, -0.29977684, ..., -0.1266601 ,\n",
       "        -0.16439899, -0.05933908],\n",
       "       ...,\n",
       "       [-0.41638042, -1.38136283,  3.33581468, ..., -0.1266601 ,\n",
       "        -0.16439899, -0.05933908],\n",
       "       [-0.41638042,  0.72392277, -0.29977684, ..., -0.1266601 ,\n",
       "        -0.16439899, -0.05933908],\n",
       "       [-0.41638042,  0.72392277, -0.29977684, ..., -0.1266601 ,\n",
       "        -0.16439899, -0.05933908]])"
      ]
     },
     "execution_count": 104,
     "metadata": {},
     "output_type": "execute_result"
    }
   ],
   "source": [
    "from sklearn.preprocessing import StandardScaler\n",
    "\n",
    "transformer = StandardScaler().fit(X_train_reg)\n",
    "transformer.transform(X_train_reg)\n",
    "transformer.transform(X_test_reg)"
   ]
  },
  {
   "cell_type": "markdown",
   "metadata": {},
   "source": [
    "### <font color='red'>XGBOOST regression model without tunning</font>"
   ]
  },
  {
   "cell_type": "code",
   "execution_count": 107,
   "metadata": {},
   "outputs": [],
   "source": [
    "xg_reg = xgb.XGBRegressor(objective ='reg:squarederror', colsample_bytree = 0.3, learning_rate = 0.1,\n",
    "                max_depth = 5, alpha = 10, n_estimators = 10)"
   ]
  },
  {
   "cell_type": "code",
   "execution_count": 108,
   "metadata": {},
   "outputs": [
    {
     "data": {
      "text/plain": [
       "XGBRegressor(alpha=10, base_score=0.5, booster='gbtree', colsample_bylevel=1,\n",
       "             colsample_bynode=1, colsample_bytree=0.3, gamma=0, gpu_id=-1,\n",
       "             importance_type='gain', interaction_constraints='',\n",
       "             learning_rate=0.1, max_delta_step=0, max_depth=5,\n",
       "             min_child_weight=1, missing=nan, monotone_constraints='()',\n",
       "             n_estimators=10, n_jobs=0, num_parallel_tree=1,\n",
       "             objective='reg:squarederror', random_state=0, reg_alpha=10,\n",
       "             reg_lambda=1, scale_pos_weight=1, subsample=1, tree_method='exact',\n",
       "             validate_parameters=1, verbosity=None)"
      ]
     },
     "execution_count": 108,
     "metadata": {},
     "output_type": "execute_result"
    }
   ],
   "source": [
    "xg_reg.fit(X_train_reg,y_train_reg)"
   ]
  },
  {
   "cell_type": "code",
   "execution_count": 109,
   "metadata": {},
   "outputs": [],
   "source": [
    "#Regression evaluation function\n",
    "def evaluate(model, test_features, test_labels):\n",
    "    predictions = model.predict(test_features)\n",
    "    errors = abs(predictions - test_labels)\n",
    "    mape = 100 * np.mean(errors / test_labels)\n",
    "    accuracy = 100 - mape\n",
    "    print('Model Performance')\n",
    "    print('Average Error: {:0.4f} degrees.'.format(np.mean(errors)))\n",
    "    print('Accuracy = {:0.2f}%.'.format(accuracy))\n",
    "    rmse = np.sqrt(mean_squared_error(test_labels, predictions))\n",
    "    print(\"RMSE: %f\" % (rmse))\n",
    "    print('Mean Squared Error      = ',mean_squared_error(test_labels, predictions))\n",
    "    print('Root Mean Square Error = ',np.sqrt(mean_squared_error(test_labels, predictions)))\n",
    "    print('Mean Absolute Error    = ',mean_absolute_error(test_labels, predictions))\n",
    "    print('Median Absolute Error  = ',median_absolute_error(test_labels, predictions))\n",
    "    return accuracy"
   ]
  },
  {
   "cell_type": "code",
   "execution_count": 110,
   "metadata": {},
   "outputs": [
    {
     "name": "stdout",
     "output_type": "stream",
     "text": [
      "Model Performance\n",
      "Average Error: 21563.4557 degrees.\n",
      "Accuracy = 62.26%.\n",
      "RMSE: 28872.728352\n",
      "Mean Squared Error      =  833634442.49359\n",
      "Root Mean Square Error =  28872.728352090144\n",
      "Mean Absolute Error    =  21563.45567122055\n",
      "Median Absolute Error  =  15988.2578125\n"
     ]
    },
    {
     "data": {
      "text/plain": [
       "62.26078051370717"
      ]
     },
     "execution_count": 110,
     "metadata": {},
     "output_type": "execute_result"
    }
   ],
   "source": [
    "evaluate(xg_reg,X_test_reg,y_test_reg)"
   ]
  },
  {
   "cell_type": "markdown",
   "metadata": {},
   "source": [
    "Bad results overall with a 'basic' XGBoost model without tunning which is not surprising, we'll need to optimize. 28872 RMSE and 21561 M(ean)AE is a lot considering we're trying to predict an average yearly salary."
   ]
  },
  {
   "cell_type": "markdown",
   "metadata": {},
   "source": [
    "### XGBoost model with CV "
   ]
  },
  {
   "cell_type": "code",
   "execution_count": 198,
   "metadata": {},
   "outputs": [],
   "source": [
    "params = {\"objective\":\"reg:squarederror\",'colsample_bytree': 0.3,'learning_rate': 0.1,\n",
    "                'max_depth': 5, 'alpha': 10}"
   ]
  },
  {
   "cell_type": "code",
   "execution_count": 156,
   "metadata": {},
   "outputs": [],
   "source": [
    "params_grid = {'booster' : 'gbtree', 'silent': [0], 'nthread' : 2 , 'eta' : 0.1 ,'min_child_weight' : [1,2,3,4]\n",
    "             ,'max_depth' : [3,4,5,6,7,8,9,10],'gamma': [1,5,10,20,50,100], 'subsample':[0.5,1], 'lambda':[1],'objective':'reg:squarederror',\n",
    "             'eval_metric': ['rmse']}"
   ]
  },
  {
   "cell_type": "code",
   "execution_count": 199,
   "metadata": {},
   "outputs": [],
   "source": [
    "data_dmatrix = xgb.DMatrix(data=X_train_reg,label=y_train_reg)"
   ]
  },
  {
   "cell_type": "code",
   "execution_count": 200,
   "metadata": {},
   "outputs": [],
   "source": [
    "xg_reg_cv = xgb.train(params=params, dtrain=data_dmatrix, num_boost_round=10)"
   ]
  },
  {
   "cell_type": "code",
   "execution_count": 201,
   "metadata": {},
   "outputs": [],
   "source": [
    "cv_results = xgb.cv(dtrain=data_dmatrix, params=params, nfold=3,\n",
    "                    num_boost_round=50,early_stopping_rounds=10,metrics=\"rmse\", as_pandas=True, seed=123)"
   ]
  },
  {
   "cell_type": "code",
   "execution_count": 202,
   "metadata": {},
   "outputs": [
    {
     "data": {
      "text/html": [
       "<div>\n",
       "<style scoped>\n",
       "    .dataframe tbody tr th:only-of-type {\n",
       "        vertical-align: middle;\n",
       "    }\n",
       "\n",
       "    .dataframe tbody tr th {\n",
       "        vertical-align: top;\n",
       "    }\n",
       "\n",
       "    .dataframe thead th {\n",
       "        text-align: right;\n",
       "    }\n",
       "</style>\n",
       "<table border=\"1\" class=\"dataframe\">\n",
       "  <thead>\n",
       "    <tr style=\"text-align: right;\">\n",
       "      <th></th>\n",
       "      <th>train-rmse-mean</th>\n",
       "      <th>train-rmse-std</th>\n",
       "      <th>test-rmse-mean</th>\n",
       "      <th>test-rmse-std</th>\n",
       "    </tr>\n",
       "  </thead>\n",
       "  <tbody>\n",
       "    <tr>\n",
       "      <th>40</th>\n",
       "      <td>6232.935059</td>\n",
       "      <td>339.487909</td>\n",
       "      <td>15024.507487</td>\n",
       "      <td>556.285432</td>\n",
       "    </tr>\n",
       "    <tr>\n",
       "      <th>41</th>\n",
       "      <td>6103.209473</td>\n",
       "      <td>349.425993</td>\n",
       "      <td>14989.314779</td>\n",
       "      <td>594.862019</td>\n",
       "    </tr>\n",
       "    <tr>\n",
       "      <th>42</th>\n",
       "      <td>5985.051107</td>\n",
       "      <td>361.369638</td>\n",
       "      <td>14974.890299</td>\n",
       "      <td>582.612018</td>\n",
       "    </tr>\n",
       "    <tr>\n",
       "      <th>43</th>\n",
       "      <td>5851.621907</td>\n",
       "      <td>353.758368</td>\n",
       "      <td>14953.582031</td>\n",
       "      <td>561.629115</td>\n",
       "    </tr>\n",
       "    <tr>\n",
       "      <th>44</th>\n",
       "      <td>5708.083822</td>\n",
       "      <td>380.555777</td>\n",
       "      <td>14938.739583</td>\n",
       "      <td>575.649431</td>\n",
       "    </tr>\n",
       "    <tr>\n",
       "      <th>45</th>\n",
       "      <td>5607.272461</td>\n",
       "      <td>385.578453</td>\n",
       "      <td>14910.412435</td>\n",
       "      <td>591.087546</td>\n",
       "    </tr>\n",
       "    <tr>\n",
       "      <th>46</th>\n",
       "      <td>5520.695150</td>\n",
       "      <td>376.198375</td>\n",
       "      <td>14909.412760</td>\n",
       "      <td>576.390716</td>\n",
       "    </tr>\n",
       "    <tr>\n",
       "      <th>47</th>\n",
       "      <td>5411.767416</td>\n",
       "      <td>367.636901</td>\n",
       "      <td>14868.074870</td>\n",
       "      <td>545.422146</td>\n",
       "    </tr>\n",
       "    <tr>\n",
       "      <th>48</th>\n",
       "      <td>5312.749349</td>\n",
       "      <td>384.472698</td>\n",
       "      <td>14853.469076</td>\n",
       "      <td>522.610084</td>\n",
       "    </tr>\n",
       "    <tr>\n",
       "      <th>49</th>\n",
       "      <td>5184.236654</td>\n",
       "      <td>386.831773</td>\n",
       "      <td>14852.726237</td>\n",
       "      <td>499.469286</td>\n",
       "    </tr>\n",
       "  </tbody>\n",
       "</table>\n",
       "</div>"
      ],
      "text/plain": [
       "    train-rmse-mean  train-rmse-std  test-rmse-mean  test-rmse-std\n",
       "40      6232.935059      339.487909    15024.507487     556.285432\n",
       "41      6103.209473      349.425993    14989.314779     594.862019\n",
       "42      5985.051107      361.369638    14974.890299     582.612018\n",
       "43      5851.621907      353.758368    14953.582031     561.629115\n",
       "44      5708.083822      380.555777    14938.739583     575.649431\n",
       "45      5607.272461      385.578453    14910.412435     591.087546\n",
       "46      5520.695150      376.198375    14909.412760     576.390716\n",
       "47      5411.767416      367.636901    14868.074870     545.422146\n",
       "48      5312.749349      384.472698    14853.469076     522.610084\n",
       "49      5184.236654      386.831773    14852.726237     499.469286"
      ]
     },
     "execution_count": 202,
     "metadata": {},
     "output_type": "execute_result"
    }
   ],
   "source": [
    "cv_results.tail(10)"
   ]
  },
  {
   "cell_type": "code",
   "execution_count": 194,
   "metadata": {},
   "outputs": [
    {
     "name": "stdout",
     "output_type": "stream",
     "text": [
      "49    14668.970378\n",
      "Name: test-rmse-mean, dtype: float64\n"
     ]
    }
   ],
   "source": [
    "#Extract and print the final boosting round metric\n",
    "print((cv_results[\"test-rmse-mean\"]).tail(1))"
   ]
  },
  {
   "cell_type": "markdown",
   "metadata": {},
   "source": [
    "Errors reduces through iterations as we can see, it only shows last 10 iterations though. Last iteration has a final value of 13765 for the rmse mean on the train test, which is good, or at least better than before. We could see every iterations detail but it's not that releveant."
   ]
  },
  {
   "cell_type": "code",
   "execution_count": 124,
   "metadata": {},
   "outputs": [
    {
     "data": {
      "text/plain": [
       "<matplotlib.axes._subplots.AxesSubplot at 0x1b7c330efc8>"
      ]
     },
     "execution_count": 124,
     "metadata": {},
     "output_type": "execute_result"
    },
    {
     "data": {
      "image/png": "[encoded data removed]",
      "text/plain": [
       "<Figure size 432x288 with 1 Axes>"
      ]
     },
     "metadata": {
      "needs_background": "light"
     },
     "output_type": "display_data"
    }
   ],
   "source": [
    "test = cv_results['test-rmse-mean'].cummin()\n",
    "test.plot()"
   ]
  },
  {
   "cell_type": "markdown",
   "metadata": {},
   "source": [
    "Curve that shows our model improvment (rmse mean on Y axis) over nb of iteration (X axis)"
   ]
  },
  {
   "cell_type": "code",
   "execution_count": 130,
   "metadata": {
    "scrolled": true
   },
   "outputs": [
    {
     "data": {
      "image/png": "[encoded data removed]",
      "text/plain": [
       "<Figure size 3600x3600 with 1 Axes>"
      ]
     },
     "metadata": {
      "needs_background": "light"
     },
     "output_type": "display_data"
    }
   ],
   "source": [
    "import matplotlib.pyplot as plt\n",
    "xgb.plot_tree(xg_reg_cv,num_trees=0)\n",
    "plt.rcParams['figure.figsize'] = [80, 80]\n",
    "plt.show()"
   ]
  },
  {
   "cell_type": "code",
   "execution_count": 128,
   "metadata": {},
   "outputs": [
    {
     "data": {
      "image/png": "[encoded data removed]",
      "text/plain": [
       "<Figure size 720x720 with 1 Axes>"
      ]
     },
     "metadata": {
      "needs_background": "light"
     },
     "output_type": "display_data"
    }
   ],
   "source": [
    "xgb.plot_importance(xg_reg_cv)\n",
    "plt.rcParams['figure.figsize'] = [15, 15]\n",
    "plt.show()"
   ]
  },
  {
   "cell_type": "code",
   "execution_count": 132,
   "metadata": {},
   "outputs": [
    {
     "data": {
      "image/png": "[encoded data removed]",
      "text/plain": [
       "<Figure size 1152x576 with 1 Axes>"
      ]
     },
     "metadata": {
      "needs_background": "light"
     },
     "output_type": "display_data"
    }
   ],
   "source": [
    "fig, ax = plt.subplots(figsize=(16,8))\n",
    "ax.scatter(df_salary['avg_salary'], df_salary['max_salary'])\n",
    "ax.set_xlabel('avg_salary')\n",
    "ax.set_ylabel('max_salary')\n",
    "plt.show()"
   ]
  },
  {
   "cell_type": "markdown",
   "metadata": {},
   "source": [
    "We don't really have outliers.. Or atleast not big enough to make it worth trying improving the model by getting them out, most of the time it won't change anything for that dataset."
   ]
  },
  {
   "cell_type": "markdown",
   "metadata": {},
   "source": [
    "### With GridSearchCV"
   ]
  },
  {
   "cell_type": "code",
   "execution_count": 133,
   "metadata": {},
   "outputs": [],
   "source": [
    "param_grid = {'booster' : ['gbtree'], 'silent': [0], 'nthread' : [2] , 'eta' : [0.1,0.2,0.3],'min_child_weight' : [1,2,3,4]\n",
    "             ,'max_depth' : [3,4,5,6,7,8,9,10],'gamma': [1,5,10,20,50,100], 'subsample':[0.5,1], 'lambda':[1],'objective':['reg:squarederror'],\n",
    "             'eval_metric': ['rmse']}"
   ]
  },
  {
   "cell_type": "code",
   "execution_count": 134,
   "metadata": {},
   "outputs": [],
   "source": [
    "GCVModel = GridSearchCV(xgb.XGBRegressor(), param_grid=param_grid , scoring=None, n_jobs=2, refit=True, cv=None, verbose=1, return_train_score=False)"
   ]
  },
  {
   "cell_type": "code",
   "execution_count": 135,
   "metadata": {},
   "outputs": [
    {
     "name": "stdout",
     "output_type": "stream",
     "text": [
      "Fitting 5 folds for each of 1152 candidates, totalling 5760 fits\n"
     ]
    },
    {
     "name": "stderr",
     "output_type": "stream",
     "text": [
      "[Parallel(n_jobs=2)]: Using backend LokyBackend with 2 concurrent workers.\n",
      "[Parallel(n_jobs=2)]: Done  46 tasks      | elapsed:    4.4s\n",
      "[Parallel(n_jobs=2)]: Done 196 tasks      | elapsed:   18.8s\n",
      "[Parallel(n_jobs=2)]: Done 446 tasks      | elapsed:   53.3s\n",
      "[Parallel(n_jobs=2)]: Done 796 tasks      | elapsed:  1.8min\n",
      "[Parallel(n_jobs=2)]: Done 1246 tasks      | elapsed:  2.9min\n",
      "[Parallel(n_jobs=2)]: Done 2070 tasks      | elapsed:  4.5min\n",
      "[Parallel(n_jobs=2)]: Done 3170 tasks      | elapsed:  6.6min\n",
      "[Parallel(n_jobs=2)]: Done 4596 tasks      | elapsed:  9.3min\n"
     ]
    },
    {
     "name": "stdout",
     "output_type": "stream",
     "text": [
      "[15:13:17] WARNING: C:\\Users\\Administrator\\workspace\\xgboost-win64_release_1.1.0\\src\\learner.cc:480: \n",
      "Parameters: { silent } might not be used.\n",
      "\n",
      "  This may not be accurate due to some parameters are only used in language bindings but\n",
      "  passed down to XGBoost core.  Or some parameters are not used but slip through this\n",
      "  verification. Please open an issue if you find above cases.\n",
      "\n",
      "\n"
     ]
    },
    {
     "name": "stderr",
     "output_type": "stream",
     "text": [
      "[Parallel(n_jobs=2)]: Done 5760 out of 5760 | elapsed: 11.6min finished\n"
     ]
    },
    {
     "data": {
      "text/plain": [
       "GridSearchCV(cv=None, error_score=nan,\n",
       "             estimator=XGBRegressor(base_score=None, booster=None,\n",
       "                                    colsample_bylevel=None,\n",
       "                                    colsample_bynode=None,\n",
       "                                    colsample_bytree=None, gamma=None,\n",
       "                                    gpu_id=None, importance_type='gain',\n",
       "                                    interaction_constraints=None,\n",
       "                                    learning_rate=None, max_delta_step=None,\n",
       "                                    max_depth=None, min_child_weight=None,\n",
       "                                    missing=nan, monotone_constraints=None,\n",
       "                                    n_est...\n",
       "             iid='deprecated', n_jobs=2,\n",
       "             param_grid={'booster': ['gbtree'], 'eta': [0.1, 0.2, 0.3],\n",
       "                         'eval_metric': ['rmse'],\n",
       "                         'gamma': [1, 5, 10, 20, 50, 100], 'lambda': [1],\n",
       "                         'max_depth': [3, 4, 5, 6, 7, 8, 9, 10],\n",
       "                         'min_child_weight': [1, 2, 3, 4], 'nthread': [2],\n",
       "                         'objective': ['reg:squarederror'], 'silent': [0],\n",
       "                         'subsample': [0.5, 1]},\n",
       "             pre_dispatch='2*n_jobs', refit=True, return_train_score=False,\n",
       "             scoring=None, verbose=1)"
      ]
     },
     "execution_count": 135,
     "metadata": {},
     "output_type": "execute_result"
    }
   ],
   "source": [
    "GCVModel.fit(X_train_reg,y_train_reg)"
   ]
  },
  {
   "cell_type": "code",
   "execution_count": 136,
   "metadata": {},
   "outputs": [
    {
     "data": {
      "text/plain": [
       "XGBRegressor(base_score=0.5, booster='gbtree', colsample_bylevel=1,\n",
       "             colsample_bynode=1, colsample_bytree=1, eta=0.1,\n",
       "             eval_metric='rmse', gamma=1, gpu_id=-1, importance_type='gain',\n",
       "             interaction_constraints='', lambda=1, learning_rate=0.100000001,\n",
       "             max_delta_step=0, max_depth=4, min_child_weight=1, missing=nan,\n",
       "             monotone_constraints='()', n_estimators=100, n_jobs=2, nthread=2,\n",
       "             num_parallel_tree=1, objective='reg:squarederror', random_state=0,\n",
       "             reg_alpha=0, reg_lambda=1, scale_pos_weight=1, silent=0,\n",
       "             subsample=1, tree_method='exact', ...)"
      ]
     },
     "execution_count": 136,
     "metadata": {},
     "output_type": "execute_result"
    }
   ],
   "source": [
    "GCVModel.best_estimator_"
   ]
  },
  {
   "cell_type": "code",
   "execution_count": 137,
   "metadata": {},
   "outputs": [],
   "source": [
    "y_pred_gcv = GCVModel.predict(X_test_reg)"
   ]
  },
  {
   "cell_type": "code",
   "execution_count": 139,
   "metadata": {},
   "outputs": [
    {
     "name": "stdout",
     "output_type": "stream",
     "text": [
      "Model Performance\n",
      "Average Error: 9851.0563 degrees.\n",
      "Accuracy = 77.11%.\n",
      "RMSE: 14869.553353\n",
      "Mean Squared Error      =  221103616.92608634\n",
      "Root Mean Square Error =  14869.55335328154\n",
      "Mean Absolute Error    =  9851.05633385144\n",
      "Median Absolute Error  =  6866.49609375\n"
     ]
    },
    {
     "data": {
      "text/plain": [
       "77.11291369395745"
      ]
     },
     "execution_count": 139,
     "metadata": {},
     "output_type": "execute_result"
    }
   ],
   "source": [
    "evaluate(GCVModel,X_test_reg,y_test_reg)"
   ]
  },
  {
   "cell_type": "markdown",
   "metadata": {},
   "source": [
    "# Classification algorithm to predict salary class"
   ]
  },
  {
   "cell_type": "code",
   "execution_count": null,
   "metadata": {},
   "outputs": [],
   "source": []
  }
 ],
 "metadata": {
  "kernelspec": {
   "display_name": "Python 3",
   "language": "python",
   "name": "python3"
  },
  "language_info": {
   "codemirror_mode": {
    "name": "ipython",
    "version": 3
   },
   "file_extension": ".py",
   "mimetype": "text/x-python",
   "name": "python",
   "nbconvert_exporter": "python",
   "pygments_lexer": "ipython3",
   "version": "3.7.6"
  }
 },
 "nbformat": 4,
 "nbformat_minor": 4
}
